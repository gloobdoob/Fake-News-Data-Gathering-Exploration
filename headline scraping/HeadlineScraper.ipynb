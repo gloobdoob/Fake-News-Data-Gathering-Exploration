{
 "cells": [
  {
   "cell_type": "code",
   "execution_count": 12,
   "metadata": {},
   "outputs": [
    {
     "name": "stdout",
     "output_type": "stream",
     "text": [
      "[<Element 'article' class=('m-textblock',)>, <Element 'article' class=('o-listicle__content',)>, <Element 'article' class=('m-statement', 'm-statement--is-medium', 'm-statement--true')>, <Element 'article' class=('m-statement', 'm-statement--is-medium', 'm-statement--true')>, <Element 'article' class=('m-statement', 'm-statement--is-medium', 'm-statement--true')>, <Element 'article' class=('m-statement', 'm-statement--is-medium', 'm-statement--true')>, <Element 'article' class=('m-statement', 'm-statement--is-medium', 'm-statement--true')>, <Element 'article' class=('m-statement', 'm-statement--is-medium', 'm-statement--true')>, <Element 'article' class=('m-statement', 'm-statement--is-medium', 'm-statement--true')>, <Element 'article' class=('m-statement', 'm-statement--is-medium', 'm-statement--true')>, <Element 'article' class=('m-statement', 'm-statement--is-medium', 'm-statement--true')>, <Element 'article' class=('m-statement', 'm-statement--is-medium', 'm-statement--true')>, <Element 'article' class=('m-statement', 'm-statement--is-medium', 'm-statement--true')>, <Element 'article' class=('m-statement', 'm-statement--is-medium', 'm-statement--true')>, <Element 'article' class=('m-statement', 'm-statement--is-medium', 'm-statement--true')>, <Element 'article' class=('m-statement', 'm-statement--is-medium', 'm-statement--true')>, <Element 'article' class=('m-statement', 'm-statement--is-medium', 'm-statement--true')>, <Element 'article' class=('m-statement', 'm-statement--is-medium', 'm-statement--true')>, <Element 'article' class=('m-statement', 'm-statement--is-medium', 'm-statement--true')>, <Element 'article' class=('m-statement', 'm-statement--is-medium', 'm-statement--true')>, <Element 'article' class=('m-statement', 'm-statement--is-medium', 'm-statement--true')>, <Element 'article' class=('m-statement', 'm-statement--is-medium', 'm-statement--true')>, <Element 'article' class=('m-statement', 'm-statement--is-medium', 'm-statement--true')>, <Element 'article' class=('m-statement', 'm-statement--is-medium', 'm-statement--true')>, <Element 'article' class=('m-statement', 'm-statement--is-medium', 'm-statement--true')>, <Element 'article' class=('m-statement', 'm-statement--is-medium', 'm-statement--true')>, <Element 'article' class=('m-statement', 'm-statement--is-medium', 'm-statement--true')>, <Element 'article' class=('m-statement', 'm-statement--is-medium', 'm-statement--true')>, <Element 'article' class=('m-statement', 'm-statement--is-medium', 'm-statement--true')>, <Element 'article' class=('m-statement', 'm-statement--is-medium', 'm-statement--true')>, <Element 'article' class=('m-statement', 'm-statement--is-medium', 'm-statement--true')>, <Element 'article' class=('m-statement', 'm-statement--is-medium', 'm-statement--true')>]\n"
     ]
    }
   ],
   "source": [
    "from requests_html import HTMLSession\n",
    "session = HTMLSession()\n",
    "\n",
    "url_true = 'https://www.politifact.com/factchecks/list/?ruling=true'\n",
    "\n",
    "r = session.get(url_true)\n",
    "\n",
    "articles = r.html.find('article')\n",
    "print(articles)"
   ]
  },
  {
   "cell_type": "code",
   "execution_count": 13,
   "metadata": {},
   "outputs": [
    {
     "data": {
      "text/plain": [
       "32"
      ]
     },
     "execution_count": 13,
     "metadata": {},
     "output_type": "execute_result"
    }
   ],
   "source": [
    "len(articles)"
   ]
  },
  {
   "cell_type": "code",
   "execution_count": 60,
   "metadata": {},
   "outputs": [],
   "source": [
    "#TODO: Get articles from multiple pages\n",
    "\n",
    "def article_collector():\n",
    "    full_news = []\n",
    "    for item in articles[2:]:\n",
    "        news_text = []\n",
    "        newsitem = item.find('a')\n",
    "        for news in newsitem:\n",
    "            text = news.text\n",
    "            news_text.append(text)\n",
    "        news_dict = {}\n",
    "        news_dict['statement_author'] = news_text[0]\n",
    "        news_dict['statement'] = news_text[1]\n",
    "        full_news.append(news_dict)\n",
    "\n",
    "    "
   ]
  },
  {
   "cell_type": "code",
   "execution_count": 61,
   "metadata": {},
   "outputs": [
    {
     "data": {
      "text/plain": [
       "30"
      ]
     },
     "execution_count": 61,
     "metadata": {},
     "output_type": "execute_result"
    }
   ],
   "source": [
    "len(full_news)"
   ]
  },
  {
   "cell_type": "code",
   "execution_count": 62,
   "metadata": {},
   "outputs": [
    {
     "data": {
      "text/plain": [
       "[{'statement_author': 'Fentrice Driskell',\n",
       "  'statement': '\"$1 of every $3 (Ron DeSantis) spends comes from the federal government.\"'},\n",
       " {'statement_author': 'Robert Ortt',\n",
       "  'statement': 'If New York’s proposed limits on natural gas in buildings take effect, the grid today can’t handle the increased electric load.'},\n",
       " {'statement_author': 'Tony Evers',\n",
       "  'statement': '“Wisconsin is the nation’s top cranberry producer — in fact, our farmers harvest around 60 percent of the country’s crop.”'},\n",
       " {'statement_author': 'Morgan Luttrell',\n",
       "  'statement': '\"Biden drained America\\'s Strategic Petroleum Reserves to the lowest level since 1984.\"'},\n",
       " {'statement_author': 'Melissa Agard',\n",
       "  'statement': '\"Historically, our spring elections (including for state Supreme Court) have a smaller turnout associated with them.\"'},\n",
       " {'statement_author': 'Tammy Baldwin',\n",
       "  'statement': '\"Latina workers make 54 cents for every dollar earned by white, non-Hispanic men.\"'},\n",
       " {'statement_author': 'Kevin Brady',\n",
       "  'statement': 'Joe Biden’s $36 billion for a union pension fund is “the largest private pension bailout in American history.”'},\n",
       " {'statement_author': 'Elise Stefanik',\n",
       "  'statement': 'Proposed rule would limit milk for WIC participants'},\n",
       " {'statement_author': 'Bryan Steil',\n",
       "  'statement': 'In Milwaukee, \"The (homicide) rate has nearly doubled in the past two years.\"'},\n",
       " {'statement_author': 'Joe Biden',\n",
       "  'statement': '“Gas prices are down back to where they were before Russia invaded Ukraine.”'},\n",
       " {'statement_author': 'Joe Manchin',\n",
       "  'statement': 'West Virginia is poised to “receive $25M for 160 orphaned well clean-up projects across the state.”'},\n",
       " {'statement_author': 'Everytown for Gun Safety',\n",
       "  'statement': '“Kari Lake is opposed to red flag laws.”'},\n",
       " {'statement_author': 'Liquid Death',\n",
       "  'statement': 'In Georgia, it\\'s \"illegal to give people water within 150 feet of a polling place\" and \"punishable by up to a year in prison.\"'},\n",
       " {'statement_author': 'Ashley Hinson',\n",
       "  'statement': 'Nancy Pelosi gave “$30,000 … to boost @LizMathis1’s campaign”'},\n",
       " {'statement_author': 'Jevin Hodge',\n",
       "  'statement': 'David Schweikert has “been convicted of 11 House ethics violations.”'},\n",
       " {'statement_author': 'A Better Wisconsin Together',\n",
       "  'statement': 'Says Tim Michels \"opposes closing the loophole that allows domestic abusers to buy guns.\"'},\n",
       " {'statement_author': 'West Virginia Republican Party',\n",
       "  'statement': '“Overdoses reached an all-time high in 2021.”'},\n",
       " {'statement_author': 'Democratic Senatorial Campaign Committee',\n",
       "  'statement': 'Herschel Walker misled about “personally treating 4,500 veterans per year,” about “graduating from college” and about “working in law enforcement.”'},\n",
       " {'statement_author': 'Kathy Hoffman',\n",
       "  'statement': \"“Since 2019, I've successfully lobbied for the funds to add hundreds of school counselors, lowering our student to school counselor ratio by 20%.”\"},\n",
       " {'statement_author': 'Elizabeth Warren',\n",
       "  'statement': '\"40% of the folks who have student loans do not have a college diploma, four-year diploma. These are people who are truck drivers and who are nail technicians and nurses’ aides.”'},\n",
       " {'statement_author': 'Instagram posts',\n",
       "  'statement': 'Image claims to show a list of \"Republican members of Congress whose PPP loans were forgiven.\"'},\n",
       " {'statement_author': 'League of Conservation Voters',\n",
       "  'statement': 'Says Republican U.S. Sen. Ron Johnson “called climate change ‘bull----’ during a record heatwave” and “raked in over $700k in fossil fuel cash.”'},\n",
       " {'statement_author': 'Francesca Hong',\n",
       "  'statement': '\"In the Wisconsin State Assembly this session, more than 75% of GOP bills received a public hearing. Meanwhile, the GOP allowed less than 2% of Democratic bills to have a hearing.\"'},\n",
       " {'statement_author': 'Greg Abbott',\n",
       "  'statement': \"Texas' public high school graduation rate is at 90% overall.\"},\n",
       " {'statement_author': 'Abigail Spanberger',\n",
       "  'statement': '“The four big meat packers are raking in record profits … ”'},\n",
       " {'statement_author': 'Levar Stoney',\n",
       "  'statement': '“In Virginia, Black people are eight times (8X) more likely than white people to die of gun homicide.”'},\n",
       " {'statement_author': 'Tony Evers',\n",
       "  'statement': '“Wisconsin\\'s archaic abortion ban is older than 20 states.\"'},\n",
       " {'statement_author': 'Democratic Party of Wisconsin',\n",
       "  'statement': '\"The tax carve out (Ron) Johnson spearheaded overwhelmingly benefited the wealthiest, over small businesses.\"'},\n",
       " {'statement_author': 'Cavalier Johnson',\n",
       "  'statement': 'In a recent year, the Milwaukee Police Department \"collected more guns per capita off the streets than in New York.”'},\n",
       " {'statement_author': 'Gary Black',\n",
       "  'statement': 'In 2020, when Raphael Warnock ran a campaign ad featuring himself with a beagle, “that wasn’t his dog.”'}]"
      ]
     },
     "execution_count": 62,
     "metadata": {},
     "output_type": "execute_result"
    }
   ],
   "source": [
    "full_news"
   ]
  },
  {
   "cell_type": "code",
   "execution_count": null,
   "metadata": {},
   "outputs": [],
   "source": []
  }
 ],
 "metadata": {
  "kernelspec": {
   "display_name": "base",
   "language": "python",
   "name": "python3"
  },
  "language_info": {
   "codemirror_mode": {
    "name": "ipython",
    "version": 3
   },
   "file_extension": ".py",
   "mimetype": "text/x-python",
   "name": "python",
   "nbconvert_exporter": "python",
   "pygments_lexer": "ipython3",
   "version": "3.8.8"
  },
  "orig_nbformat": 4
 },
 "nbformat": 4,
 "nbformat_minor": 2
}
