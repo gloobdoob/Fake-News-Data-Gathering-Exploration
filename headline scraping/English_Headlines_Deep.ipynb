{
 "cells": [
  {
   "cell_type": "code",
   "execution_count": 4,
   "metadata": {},
   "outputs": [],
   "source": [
    "import tensorflow as tf\n",
    "from sklearn.model_selection import train_test_split\n",
    "import pandas as pd\n",
    "import numpy as np"
   ]
  },
  {
   "cell_type": "code",
   "execution_count": 6,
   "metadata": {},
   "outputs": [
    {
     "data": {
      "text/html": [
       "<div>\n",
       "<style scoped>\n",
       "    .dataframe tbody tr th:only-of-type {\n",
       "        vertical-align: middle;\n",
       "    }\n",
       "\n",
       "    .dataframe tbody tr th {\n",
       "        vertical-align: top;\n",
       "    }\n",
       "\n",
       "    .dataframe thead th {\n",
       "        text-align: right;\n",
       "    }\n",
       "</style>\n",
       "<table border=\"1\" class=\"dataframe\">\n",
       "  <thead>\n",
       "    <tr style=\"text-align: right;\">\n",
       "      <th></th>\n",
       "      <th>Statement</th>\n",
       "      <th>Rating</th>\n",
       "      <th>cleaned</th>\n",
       "      <th>cleaned tokenized</th>\n",
       "      <th>tokens</th>\n",
       "      <th>statement length</th>\n",
       "      <th>word count</th>\n",
       "      <th>sentence count</th>\n",
       "      <th>unique words</th>\n",
       "      <th>lexical richness</th>\n",
       "      <th>...</th>\n",
       "      <th>numerical%</th>\n",
       "      <th>sexual anatomy / sexual acts</th>\n",
       "      <th>bodily fluids / excrement</th>\n",
       "      <th>sexual orientation / gender</th>\n",
       "      <th>racial / ethnic slurs</th>\n",
       "      <th>animal references</th>\n",
       "      <th>internet slang</th>\n",
       "      <th>profanity_level</th>\n",
       "      <th>bigrams</th>\n",
       "      <th>trigrams</th>\n",
       "    </tr>\n",
       "  </thead>\n",
       "  <tbody>\n",
       "    <tr>\n",
       "      <th>0</th>\n",
       "      <td>Changing our clocks is a health hazard. Just a...</td>\n",
       "      <td>1</td>\n",
       "      <td>changing clocks health hazard ask sleep doctor</td>\n",
       "      <td>[changing, clock, health, hazard, ., ask, slee...</td>\n",
       "      <td>[Changing, our, clocks, is, a, health, hazard,...</td>\n",
       "      <td>13</td>\n",
       "      <td>46</td>\n",
       "      <td>2</td>\n",
       "      <td>11</td>\n",
       "      <td>40.32</td>\n",
       "      <td>...</td>\n",
       "      <td>0.000000</td>\n",
       "      <td>0.0</td>\n",
       "      <td>0.0</td>\n",
       "      <td>0.0</td>\n",
       "      <td>0.0</td>\n",
       "      <td>0.0</td>\n",
       "      <td>0.0</td>\n",
       "      <td>0.012298</td>\n",
       "      <td>[changing clocks, clocks health, health hazard...</td>\n",
       "      <td>[changing clocks health, clocks health hazard,...</td>\n",
       "    </tr>\n",
       "    <tr>\n",
       "      <th>1</th>\n",
       "      <td>How the Alec Baldwin fatal film set shooting u...</td>\n",
       "      <td>1</td>\n",
       "      <td>alec baldwin fatal film set shooting unfolded</td>\n",
       "      <td>[alec, baldwin, fatal, film, set, shooting, un...</td>\n",
       "      <td>[How, the, Alec, Baldwin, fatal, film, set, sh...</td>\n",
       "      <td>9</td>\n",
       "      <td>45</td>\n",
       "      <td>1</td>\n",
       "      <td>9</td>\n",
       "      <td>9.00</td>\n",
       "      <td>...</td>\n",
       "      <td>0.000000</td>\n",
       "      <td>0.0</td>\n",
       "      <td>0.0</td>\n",
       "      <td>0.0</td>\n",
       "      <td>0.0</td>\n",
       "      <td>0.0</td>\n",
       "      <td>0.0</td>\n",
       "      <td>0.025994</td>\n",
       "      <td>[alec baldwin, baldwin fatal, fatal film, film...</td>\n",
       "      <td>[alec baldwin fatal, baldwin fatal film, fatal...</td>\n",
       "    </tr>\n",
       "    <tr>\n",
       "      <th>2</th>\n",
       "      <td>A 90-year-old tortoise named Mr. Pickles just ...</td>\n",
       "      <td>1</td>\n",
       "      <td>90 year old tortoise named mr pickles became f...</td>\n",
       "      <td>[90-year-old, tortoise, named, mr., pickle, be...</td>\n",
       "      <td>[A, 90-year-old, tortoise, named, Mr., Pickles...</td>\n",
       "      <td>19</td>\n",
       "      <td>62</td>\n",
       "      <td>2</td>\n",
       "      <td>17</td>\n",
       "      <td>35.84</td>\n",
       "      <td>...</td>\n",
       "      <td>0.052632</td>\n",
       "      <td>0.0</td>\n",
       "      <td>0.0</td>\n",
       "      <td>0.0</td>\n",
       "      <td>0.0</td>\n",
       "      <td>0.0</td>\n",
       "      <td>0.0</td>\n",
       "      <td>0.031957</td>\n",
       "      <td>[90 year, year old, old tortoise, tortoise nam...</td>\n",
       "      <td>[90 year old, year old tortoise, old tortoise ...</td>\n",
       "    </tr>\n",
       "    <tr>\n",
       "      <th>3</th>\n",
       "      <td>Alabama governor ousts a top education officia...</td>\n",
       "      <td>1</td>\n",
       "      <td>alabama governor ousts top education official ...</td>\n",
       "      <td>[alabama, governor, ousts, top, education, off...</td>\n",
       "      <td>[Alabama, governor, ousts, a, top, education, ...</td>\n",
       "      <td>17</td>\n",
       "      <td>69</td>\n",
       "      <td>1</td>\n",
       "      <td>14</td>\n",
       "      <td>63.00</td>\n",
       "      <td>...</td>\n",
       "      <td>0.000000</td>\n",
       "      <td>0.0</td>\n",
       "      <td>0.0</td>\n",
       "      <td>0.0</td>\n",
       "      <td>0.0</td>\n",
       "      <td>0.0</td>\n",
       "      <td>0.0</td>\n",
       "      <td>0.010403</td>\n",
       "      <td>[alabama governor, governor ousts, ousts top, ...</td>\n",
       "      <td>[alabama governor ousts, governor ousts top, o...</td>\n",
       "    </tr>\n",
       "    <tr>\n",
       "      <th>4</th>\n",
       "      <td>2 people are dead, 20 missing, as a migrant bo...</td>\n",
       "      <td>1</td>\n",
       "      <td>2 people dead 20 missing migrant boat sinks co...</td>\n",
       "      <td>[2, people, dead, ,, 20, missing, ,, migrant, ...</td>\n",
       "      <td>[2, people, are, dead, ,, 20, missing, ,, as, ...</td>\n",
       "      <td>18</td>\n",
       "      <td>57</td>\n",
       "      <td>1</td>\n",
       "      <td>16</td>\n",
       "      <td>14.00</td>\n",
       "      <td>...</td>\n",
       "      <td>0.111111</td>\n",
       "      <td>0.0</td>\n",
       "      <td>0.0</td>\n",
       "      <td>0.0</td>\n",
       "      <td>0.0</td>\n",
       "      <td>0.0</td>\n",
       "      <td>0.0</td>\n",
       "      <td>0.065102</td>\n",
       "      <td>[2 people, people dead, dead 20, 20 missing, m...</td>\n",
       "      <td>[2 people dead, people dead 20, dead 20 missin...</td>\n",
       "    </tr>\n",
       "  </tbody>\n",
       "</table>\n",
       "<p>5 rows × 53 columns</p>\n",
       "</div>"
      ],
      "text/plain": [
       "                                           Statement  Rating  \\\n",
       "0  Changing our clocks is a health hazard. Just a...       1   \n",
       "1  How the Alec Baldwin fatal film set shooting u...       1   \n",
       "2  A 90-year-old tortoise named Mr. Pickles just ...       1   \n",
       "3  Alabama governor ousts a top education officia...       1   \n",
       "4  2 people are dead, 20 missing, as a migrant bo...       1   \n",
       "\n",
       "                                             cleaned  \\\n",
       "0     changing clocks health hazard ask sleep doctor   \n",
       "1      alec baldwin fatal film set shooting unfolded   \n",
       "2  90 year old tortoise named mr pickles became f...   \n",
       "3  alabama governor ousts top education official ...   \n",
       "4  2 people dead 20 missing migrant boat sinks co...   \n",
       "\n",
       "                                   cleaned tokenized  \\\n",
       "0  [changing, clock, health, hazard, ., ask, slee...   \n",
       "1  [alec, baldwin, fatal, film, set, shooting, un...   \n",
       "2  [90-year-old, tortoise, named, mr., pickle, be...   \n",
       "3  [alabama, governor, ousts, top, education, off...   \n",
       "4  [2, people, dead, ,, 20, missing, ,, migrant, ...   \n",
       "\n",
       "                                              tokens  statement length  \\\n",
       "0  [Changing, our, clocks, is, a, health, hazard,...                13   \n",
       "1  [How, the, Alec, Baldwin, fatal, film, set, sh...                 9   \n",
       "2  [A, 90-year-old, tortoise, named, Mr., Pickles...                19   \n",
       "3  [Alabama, governor, ousts, a, top, education, ...                17   \n",
       "4  [2, people, are, dead, ,, 20, missing, ,, as, ...                18   \n",
       "\n",
       "   word count  sentence count  unique words  lexical richness  ...  \\\n",
       "0          46               2            11             40.32  ...   \n",
       "1          45               1             9              9.00  ...   \n",
       "2          62               2            17             35.84  ...   \n",
       "3          69               1            14             63.00  ...   \n",
       "4          57               1            16             14.00  ...   \n",
       "\n",
       "   numerical%  sexual anatomy / sexual acts  bodily fluids / excrement  \\\n",
       "0    0.000000                           0.0                        0.0   \n",
       "1    0.000000                           0.0                        0.0   \n",
       "2    0.052632                           0.0                        0.0   \n",
       "3    0.000000                           0.0                        0.0   \n",
       "4    0.111111                           0.0                        0.0   \n",
       "\n",
       "   sexual orientation / gender  racial / ethnic slurs  animal references  \\\n",
       "0                          0.0                    0.0                0.0   \n",
       "1                          0.0                    0.0                0.0   \n",
       "2                          0.0                    0.0                0.0   \n",
       "3                          0.0                    0.0                0.0   \n",
       "4                          0.0                    0.0                0.0   \n",
       "\n",
       "   internet slang  profanity_level  \\\n",
       "0             0.0         0.012298   \n",
       "1             0.0         0.025994   \n",
       "2             0.0         0.031957   \n",
       "3             0.0         0.010403   \n",
       "4             0.0         0.065102   \n",
       "\n",
       "                                             bigrams  \\\n",
       "0  [changing clocks, clocks health, health hazard...   \n",
       "1  [alec baldwin, baldwin fatal, fatal film, film...   \n",
       "2  [90 year, year old, old tortoise, tortoise nam...   \n",
       "3  [alabama governor, governor ousts, ousts top, ...   \n",
       "4  [2 people, people dead, dead 20, 20 missing, m...   \n",
       "\n",
       "                                            trigrams  \n",
       "0  [changing clocks health, clocks health hazard,...  \n",
       "1  [alec baldwin fatal, baldwin fatal film, fatal...  \n",
       "2  [90 year old, year old tortoise, old tortoise ...  \n",
       "3  [alabama governor ousts, governor ousts top, o...  \n",
       "4  [2 people dead, people dead 20, dead 20 missin...  \n",
       "\n",
       "[5 rows x 53 columns]"
      ]
     },
     "execution_count": 6,
     "metadata": {},
     "output_type": "execute_result"
    }
   ],
   "source": [
    "df = pd.read_pickle('English_Headlines_EngFeatures.pkl')\n",
    "df.head()"
   ]
  },
  {
   "cell_type": "code",
   "execution_count": 10,
   "metadata": {},
   "outputs": [],
   "source": [
    "sentences = df['Statement'].values\n",
    "y = df['Rating'].values"
   ]
  },
  {
   "cell_type": "code",
   "execution_count": 11,
   "metadata": {},
   "outputs": [],
   "source": [
    "sentences_train, sentences_test, y_train, y_test = train_test_split(sentences, y, test_size=0.2, random_state=49)"
   ]
  },
  {
   "cell_type": "code",
   "execution_count": 12,
   "metadata": {},
   "outputs": [],
   "source": [
    "from sklearn.feature_extraction.text import CountVectorizer\n",
    "vectorizer = CountVectorizer()\n",
    "vectorizer.fit(sentences)\n",
    "X_train = vectorizer.transform(sentences_train)\n",
    "X_test  = vectorizer.transform(sentences_test)"
   ]
  },
  {
   "cell_type": "code",
   "execution_count": 13,
   "metadata": {},
   "outputs": [],
   "source": [
    "input_dim = X_train.shape[1]"
   ]
  },
  {
   "cell_type": "code",
   "execution_count": 14,
   "metadata": {},
   "outputs": [],
   "source": [
    "import matplotlib.pyplot as plt\n",
    "plt.style.use('ggplot')\n",
    "\n",
    "def plot_history(history):\n",
    "    acc = history.history['accuracy']\n",
    "    val_acc = history.history['val_accuracy']\n",
    "    loss = history.history['loss']\n",
    "    val_loss = history.history['val_loss']\n",
    "    x = range(1, len(acc) + 1)\n",
    "\n",
    "    plt.figure(figsize=(12, 5))\n",
    "    plt.subplot(1, 2, 1)\n",
    "    plt.plot(x, acc, 'b', label='Training acc')\n",
    "    plt.plot(x, val_acc, 'r', label='Validation acc')\n",
    "    plt.title('Training and validation accuracy')\n",
    "    plt.legend()\n",
    "    plt.subplot(1, 2, 2)\n",
    "    plt.plot(x, loss, 'b', label='Training loss')\n",
    "    plt.plot(x, val_loss, 'r', label='Validation loss')\n",
    "    plt.title('Training and validation loss')\n",
    "    plt.legend()"
   ]
  },
  {
   "cell_type": "code",
   "execution_count": 15,
   "metadata": {},
   "outputs": [],
   "source": [
    "from keras.preprocessing.text import Tokenizer\n",
    "tokenizer = Tokenizer(num_words=5000)\n",
    "tokenizer.fit_on_texts(sentences)"
   ]
  },
  {
   "cell_type": "code",
   "execution_count": 17,
   "metadata": {},
   "outputs": [],
   "source": [
    "sentences_train, sentences_test, y_train, y_test = train_test_split(sentences, y, test_size=0.2, random_state=45)\n",
    "X_train = tokenizer.texts_to_sequences(sentences_train)\n",
    "X_test = tokenizer.texts_to_sequences(sentences_test)"
   ]
  },
  {
   "cell_type": "code",
   "execution_count": 18,
   "metadata": {},
   "outputs": [],
   "source": [
    "from keras.preprocessing.sequence import pad_sequences\n",
    "maxlen = 100\n",
    "X_train = pad_sequences(X_train, padding='post', maxlen=maxlen)\n",
    "X_test = pad_sequences(X_test, padding='post', maxlen=maxlen)"
   ]
  },
  {
   "cell_type": "code",
   "execution_count": 19,
   "metadata": {},
   "outputs": [
    {
     "data": {
      "text/plain": [
       "(5238, 100)"
      ]
     },
     "execution_count": 19,
     "metadata": {},
     "output_type": "execute_result"
    }
   ],
   "source": [
    "X_train.shape"
   ]
  },
  {
   "cell_type": "code",
   "execution_count": 20,
   "metadata": {},
   "outputs": [],
   "source": [
    "from keras.models import Sequential\n",
    "from keras import layers\n",
    "model = Sequential()\n",
    "model.add(layers.Dense(10, input_dim=input_dim, activation='relu'))\n",
    "model.add(layers.Dense(1, activation='sigmoid'))\n"
   ]
  },
  {
   "cell_type": "code",
   "execution_count": 21,
   "metadata": {},
   "outputs": [],
   "source": [
    "def create_embedding_matrix(filepath, word_index, embedding_dim):\n",
    "    vocab_size = len(word_index) + 1  # Adding again 1 because of reserved 0 index\n",
    "    embedding_matrix = np.zeros((vocab_size, embedding_dim))\n",
    "\n",
    "    with open(filepath) as f:\n",
    "        for line in f:\n",
    "            word, *vector = line.split()\n",
    "            if word in word_index:\n",
    "                idx = word_index[word] \n",
    "                embedding_matrix[idx] = np.array(\n",
    "                    vector, dtype=np.float32)[:embedding_dim]\n",
    "\n",
    "    return embedding_matrix"
   ]
  },
  {
   "cell_type": "code",
   "execution_count": 22,
   "metadata": {},
   "outputs": [],
   "source": [
    "embedding_dim = 100\n",
    "embedding_matrix = create_embedding_matrix(\n",
    "    'glove/glove.6B.100d.txt',\n",
    "    tokenizer.word_index, embedding_dim)"
   ]
  },
  {
   "cell_type": "code",
   "execution_count": 23,
   "metadata": {},
   "outputs": [],
   "source": [
    "vocab_size = len(tokenizer.word_index) + 1"
   ]
  },
  {
   "cell_type": "code",
   "execution_count": 24,
   "metadata": {},
   "outputs": [
    {
     "name": "stdout",
     "output_type": "stream",
     "text": [
      "Model: \"sequential_1\"\n",
      "_________________________________________________________________\n",
      " Layer (type)                Output Shape              Param #   \n",
      "=================================================================\n",
      " embedding (Embedding)       (None, 100, 100)          1377000   \n",
      "                                                                 \n",
      " conv1d (Conv1D)             (None, 96, 128)           64128     \n",
      "                                                                 \n",
      " global_max_pooling1d (Globa  (None, 128)              0         \n",
      " lMaxPooling1D)                                                  \n",
      "                                                                 \n",
      " dense_2 (Dense)             (None, 10)                1290      \n",
      "                                                                 \n",
      " dense_3 (Dense)             (None, 1)                 11        \n",
      "                                                                 \n",
      "=================================================================\n",
      "Total params: 1,442,429\n",
      "Trainable params: 1,442,429\n",
      "Non-trainable params: 0\n",
      "_________________________________________________________________\n"
     ]
    }
   ],
   "source": [
    "model = Sequential()\n",
    "model.add(layers.Embedding(vocab_size, embedding_dim, input_length=maxlen))\n",
    "model.add(layers.Conv1D(128, 5, activation='relu'))\n",
    "model.add(layers.GlobalMaxPooling1D())\n",
    "model.add(layers.Dense(10, activation='relu'))\n",
    "model.add(layers.Dense(1, activation='sigmoid'))\n",
    "model.compile(optimizer='adam',\n",
    "              loss='binary_crossentropy',\n",
    "              metrics=['accuracy'])\n",
    "model.summary()"
   ]
  },
  {
   "cell_type": "code",
   "execution_count": 25,
   "metadata": {},
   "outputs": [
    {
     "name": "stdout",
     "output_type": "stream",
     "text": [
      "Epoch 1/10\n",
      "524/524 [==============================] - 8s 7ms/step - loss: 0.4921 - accuracy: 0.7425 - val_loss: 0.3549 - val_accuracy: 0.8313\n",
      "Epoch 2/10\n",
      "524/524 [==============================] - 3s 7ms/step - loss: 0.1743 - accuracy: 0.9343 - val_loss: 0.3950 - val_accuracy: 0.8359\n",
      "Epoch 3/10\n",
      "524/524 [==============================] - 3s 7ms/step - loss: 0.0365 - accuracy: 0.9901 - val_loss: 0.5236 - val_accuracy: 0.8344\n",
      "Epoch 4/10\n",
      "524/524 [==============================] - 3s 7ms/step - loss: 0.0086 - accuracy: 0.9983 - val_loss: 0.6102 - val_accuracy: 0.8382\n",
      "Epoch 5/10\n",
      "524/524 [==============================] - 4s 7ms/step - loss: 0.0033 - accuracy: 0.9990 - val_loss: 0.6781 - val_accuracy: 0.8351\n",
      "Epoch 6/10\n",
      "524/524 [==============================] - 4s 8ms/step - loss: 8.7523e-04 - accuracy: 0.9998 - val_loss: 0.7164 - val_accuracy: 0.8389\n",
      "Epoch 7/10\n",
      "524/524 [==============================] - 4s 7ms/step - loss: 6.5467e-04 - accuracy: 0.9998 - val_loss: 0.7514 - val_accuracy: 0.8275\n",
      "Epoch 8/10\n",
      "524/524 [==============================] - 4s 7ms/step - loss: 6.3109e-04 - accuracy: 0.9998 - val_loss: 0.7798 - val_accuracy: 0.8344\n",
      "Epoch 9/10\n",
      "524/524 [==============================] - 4s 7ms/step - loss: 5.0505e-04 - accuracy: 0.9998 - val_loss: 0.8096 - val_accuracy: 0.8267\n",
      "Epoch 10/10\n",
      "524/524 [==============================] - 4s 8ms/step - loss: 6.3306e-04 - accuracy: 0.9996 - val_loss: 0.8315 - val_accuracy: 0.8252\n",
      "Training Accuracy: 0.9998\n",
      "Testing Accuracy:  0.8252\n"
     ]
    },
    {
     "data": {
      "image/png": "[encoded data removed]",
      "text/plain": [
       "<Figure size 864x360 with 2 Axes>"
      ]
     },
     "metadata": {},
     "output_type": "display_data"
    }
   ],
   "source": [
    "history = model.fit(X_train, y_train,\n",
    "                    epochs=10,\n",
    "                    verbose=True,\n",
    "                    validation_data=(X_test, y_test),\n",
    "                    batch_size=10)\n",
    "loss, accuracy = model.evaluate(X_train, y_train, verbose=False)\n",
    "print(\"Training Accuracy: {:.4f}\".format(accuracy))\n",
    "loss, accuracy = model.evaluate(X_test, y_test, verbose=False)\n",
    "print(\"Testing Accuracy:  {:.4f}\".format(accuracy))\n",
    "plot_history(history)"
   ]
  },
  {
   "cell_type": "code",
   "execution_count": null,
   "metadata": {},
   "outputs": [
    {
     "name": "stdout",
     "output_type": "stream",
     "text": [
      "Model: \"sequential\"\n",
      "_________________________________________________________________\n",
      " Layer (type)                Output Shape              Param #   \n",
      "=================================================================\n",
      " dense (Dense)               (None, 10)                116210    \n",
      "                                                                 \n",
      " dense_1 (Dense)             (None, 1)                 11        \n",
      "                                                                 \n",
      "=================================================================\n",
      "Total params: 116,221\n",
      "Trainable params: 116,221\n",
      "Non-trainable params: 0\n",
      "_________________________________________________________________\n"
     ]
    }
   ],
   "source": [
    "model.compile(loss='binary_crossentropy', \n",
    "               optimizer='adam', \n",
    "               metrics=['accuracy'])\n",
    "model.summary()"
   ]
  },
  {
   "cell_type": "code",
   "execution_count": null,
   "metadata": {},
   "outputs": [
    {
     "name": "stdout",
     "output_type": "stream",
     "text": [
      "Epoch 1/100\n"
     ]
    },
    {
     "name": "stderr",
     "output_type": "stream",
     "text": [
      "c:\\Users\\cvaal\\anaconda3\\lib\\site-packages\\tensorflow\\python\\framework\\indexed_slices.py:448: UserWarning: Converting sparse IndexedSlices(IndexedSlices(indices=Tensor(\"gradient_tape/sequential/dense/embedding_lookup_sparse/Reshape_1:0\", shape=(None,), dtype=int32), values=Tensor(\"gradient_tape/sequential/dense/embedding_lookup_sparse/Reshape:0\", shape=(None, 10), dtype=float32), dense_shape=Tensor(\"gradient_tape/sequential/dense/embedding_lookup_sparse/Cast:0\", shape=(2,), dtype=int32))) to a dense Tensor of unknown shape. This may consume a large amount of memory.\n",
      "  warnings.warn(\n"
     ]
    },
    {
     "name": "stdout",
     "output_type": "stream",
     "text": [
      "164/164 [==============================] - 3s 7ms/step - loss: 0.6250 - accuracy: 0.7289 - val_loss: 0.5273 - val_accuracy: 0.8160\n",
      "Epoch 2/100\n",
      "164/164 [==============================] - 1s 6ms/step - loss: 0.3986 - accuracy: 0.8921 - val_loss: 0.4124 - val_accuracy: 0.8321\n",
      "Epoch 3/100\n",
      "164/164 [==============================] - 1s 6ms/step - loss: 0.2470 - accuracy: 0.9414 - val_loss: 0.3695 - val_accuracy: 0.8405\n",
      "Epoch 4/100\n",
      "164/164 [==============================] - 1s 6ms/step - loss: 0.1617 - accuracy: 0.9704 - val_loss: 0.3560 - val_accuracy: 0.8420\n",
      "Epoch 5/100\n",
      "164/164 [==============================] - 1s 7ms/step - loss: 0.1108 - accuracy: 0.9845 - val_loss: 0.3569 - val_accuracy: 0.8382\n",
      "Epoch 6/100\n",
      "164/164 [==============================] - 1s 6ms/step - loss: 0.0782 - accuracy: 0.9914 - val_loss: 0.3625 - val_accuracy: 0.8359\n",
      "Epoch 7/100\n",
      "164/164 [==============================] - 1s 6ms/step - loss: 0.0568 - accuracy: 0.9952 - val_loss: 0.3713 - val_accuracy: 0.8351\n",
      "Epoch 8/100\n",
      "164/164 [==============================] - 1s 7ms/step - loss: 0.0423 - accuracy: 0.9973 - val_loss: 0.3884 - val_accuracy: 0.8328\n",
      "Epoch 9/100\n",
      "164/164 [==============================] - 1s 7ms/step - loss: 0.0323 - accuracy: 0.9983 - val_loss: 0.3983 - val_accuracy: 0.8351\n",
      "Epoch 10/100\n",
      "164/164 [==============================] - 1s 7ms/step - loss: 0.0252 - accuracy: 0.9987 - val_loss: 0.4116 - val_accuracy: 0.8321\n",
      "Epoch 11/100\n",
      "164/164 [==============================] - 1s 7ms/step - loss: 0.0199 - accuracy: 0.9990 - val_loss: 0.4240 - val_accuracy: 0.8313\n",
      "Epoch 12/100\n",
      "164/164 [==============================] - 1s 8ms/step - loss: 0.0160 - accuracy: 0.9992 - val_loss: 0.4371 - val_accuracy: 0.8305\n",
      "Epoch 13/100\n",
      "164/164 [==============================] - 2s 10ms/step - loss: 0.0130 - accuracy: 0.9996 - val_loss: 0.4500 - val_accuracy: 0.8275\n",
      "Epoch 14/100\n",
      "164/164 [==============================] - 1s 7ms/step - loss: 0.0107 - accuracy: 0.9994 - val_loss: 0.4607 - val_accuracy: 0.8282\n",
      "Epoch 15/100\n",
      "164/164 [==============================] - 1s 7ms/step - loss: 0.0089 - accuracy: 0.9996 - val_loss: 0.4745 - val_accuracy: 0.8290\n",
      "Epoch 16/100\n",
      "164/164 [==============================] - 1s 7ms/step - loss: 0.0075 - accuracy: 0.9996 - val_loss: 0.4867 - val_accuracy: 0.8305\n",
      "Epoch 17/100\n",
      "164/164 [==============================] - 1s 7ms/step - loss: 0.0063 - accuracy: 0.9996 - val_loss: 0.4976 - val_accuracy: 0.8298\n",
      "Epoch 18/100\n",
      "164/164 [==============================] - 1s 8ms/step - loss: 0.0055 - accuracy: 0.9996 - val_loss: 0.5100 - val_accuracy: 0.8313\n",
      "Epoch 19/100\n",
      "164/164 [==============================] - 1s 7ms/step - loss: 0.0047 - accuracy: 0.9998 - val_loss: 0.5219 - val_accuracy: 0.8305\n",
      "Epoch 20/100\n",
      "164/164 [==============================] - 1s 7ms/step - loss: 0.0041 - accuracy: 0.9996 - val_loss: 0.5316 - val_accuracy: 0.8313\n",
      "Epoch 21/100\n",
      "164/164 [==============================] - 1s 7ms/step - loss: 0.0036 - accuracy: 0.9998 - val_loss: 0.5433 - val_accuracy: 0.8313\n",
      "Epoch 22/100\n",
      "164/164 [==============================] - 1s 7ms/step - loss: 0.0031 - accuracy: 0.9996 - val_loss: 0.5528 - val_accuracy: 0.8321\n",
      "Epoch 23/100\n",
      "164/164 [==============================] - 1s 8ms/step - loss: 0.0028 - accuracy: 0.9998 - val_loss: 0.5638 - val_accuracy: 0.8321\n",
      "Epoch 24/100\n",
      "164/164 [==============================] - 1s 7ms/step - loss: 0.0025 - accuracy: 0.9998 - val_loss: 0.5729 - val_accuracy: 0.8305\n",
      "Epoch 25/100\n",
      "164/164 [==============================] - 2s 10ms/step - loss: 0.0022 - accuracy: 0.9996 - val_loss: 0.5832 - val_accuracy: 0.8290\n",
      "Epoch 26/100\n",
      "164/164 [==============================] - 1s 8ms/step - loss: 0.0020 - accuracy: 0.9998 - val_loss: 0.5946 - val_accuracy: 0.8282\n",
      "Epoch 27/100\n",
      "164/164 [==============================] - 1s 8ms/step - loss: 0.0018 - accuracy: 0.9998 - val_loss: 0.6032 - val_accuracy: 0.8290\n",
      "Epoch 28/100\n",
      "164/164 [==============================] - 2s 9ms/step - loss: 0.0016 - accuracy: 0.9996 - val_loss: 0.6147 - val_accuracy: 0.8290\n",
      "Epoch 29/100\n",
      "164/164 [==============================] - 1s 9ms/step - loss: 0.0015 - accuracy: 0.9996 - val_loss: 0.6229 - val_accuracy: 0.8267\n",
      "Epoch 30/100\n",
      "164/164 [==============================] - 1s 8ms/step - loss: 0.0013 - accuracy: 0.9998 - val_loss: 0.6331 - val_accuracy: 0.8275\n",
      "Epoch 31/100\n",
      "164/164 [==============================] - 1s 7ms/step - loss: 0.0012 - accuracy: 0.9998 - val_loss: 0.6404 - val_accuracy: 0.8267\n",
      "Epoch 32/100\n",
      "164/164 [==============================] - 1s 7ms/step - loss: 0.0011 - accuracy: 0.9996 - val_loss: 0.6498 - val_accuracy: 0.8275\n",
      "Epoch 33/100\n",
      "164/164 [==============================] - 1s 7ms/step - loss: 0.0010 - accuracy: 0.9998 - val_loss: 0.6582 - val_accuracy: 0.8267\n",
      "Epoch 34/100\n",
      "164/164 [==============================] - 1s 7ms/step - loss: 9.5795e-04 - accuracy: 0.9998 - val_loss: 0.6687 - val_accuracy: 0.8252\n",
      "Epoch 35/100\n",
      "164/164 [==============================] - 1s 7ms/step - loss: 8.7437e-04 - accuracy: 0.9998 - val_loss: 0.6782 - val_accuracy: 0.8244\n",
      "Epoch 36/100\n",
      "164/164 [==============================] - 1s 7ms/step - loss: 8.0888e-04 - accuracy: 0.9998 - val_loss: 0.6864 - val_accuracy: 0.8244\n",
      "Epoch 37/100\n",
      "164/164 [==============================] - 1s 7ms/step - loss: 7.5833e-04 - accuracy: 0.9998 - val_loss: 0.6950 - val_accuracy: 0.8229\n",
      "Epoch 38/100\n",
      "164/164 [==============================] - 1s 7ms/step - loss: 7.1061e-04 - accuracy: 0.9998 - val_loss: 0.7052 - val_accuracy: 0.8214\n",
      "Epoch 39/100\n",
      "164/164 [==============================] - 1s 7ms/step - loss: 6.7175e-04 - accuracy: 0.9998 - val_loss: 0.7136 - val_accuracy: 0.8229\n",
      "Epoch 40/100\n",
      "164/164 [==============================] - 1s 8ms/step - loss: 6.4940e-04 - accuracy: 0.9996 - val_loss: 0.7198 - val_accuracy: 0.8229\n",
      "Epoch 41/100\n",
      "164/164 [==============================] - 1s 8ms/step - loss: 6.0274e-04 - accuracy: 0.9998 - val_loss: 0.7308 - val_accuracy: 0.8221\n",
      "Epoch 42/100\n",
      "164/164 [==============================] - 1s 9ms/step - loss: 5.6274e-04 - accuracy: 0.9998 - val_loss: 0.7424 - val_accuracy: 0.8198\n",
      "Epoch 43/100\n",
      "164/164 [==============================] - 1s 8ms/step - loss: 5.3280e-04 - accuracy: 0.9998 - val_loss: 0.7492 - val_accuracy: 0.8221\n",
      "Epoch 44/100\n",
      "164/164 [==============================] - 2s 10ms/step - loss: 5.0640e-04 - accuracy: 0.9998 - val_loss: 0.7563 - val_accuracy: 0.8221\n",
      "Epoch 45/100\n",
      "164/164 [==============================] - 2s 12ms/step - loss: 4.9094e-04 - accuracy: 0.9998 - val_loss: 0.7637 - val_accuracy: 0.8221\n",
      "Epoch 46/100\n",
      "164/164 [==============================] - 1s 8ms/step - loss: 4.6936e-04 - accuracy: 0.9998 - val_loss: 0.7730 - val_accuracy: 0.8221\n",
      "Epoch 47/100\n",
      "164/164 [==============================] - 1s 9ms/step - loss: 4.4858e-04 - accuracy: 0.9998 - val_loss: 0.7831 - val_accuracy: 0.8191\n",
      "Epoch 48/100\n",
      "164/164 [==============================] - 1s 8ms/step - loss: 4.3105e-04 - accuracy: 0.9998 - val_loss: 0.7894 - val_accuracy: 0.8214\n",
      "Epoch 49/100\n",
      "164/164 [==============================] - 1s 8ms/step - loss: 4.1519e-04 - accuracy: 0.9998 - val_loss: 0.7995 - val_accuracy: 0.8198\n",
      "Epoch 50/100\n",
      "164/164 [==============================] - 1s 8ms/step - loss: 4.1381e-04 - accuracy: 0.9996 - val_loss: 0.8061 - val_accuracy: 0.8198\n",
      "Epoch 51/100\n",
      "164/164 [==============================] - 1s 8ms/step - loss: 3.9189e-04 - accuracy: 0.9998 - val_loss: 0.8167 - val_accuracy: 0.8183\n",
      "Epoch 52/100\n",
      "164/164 [==============================] - 1s 8ms/step - loss: 3.7875e-04 - accuracy: 0.9998 - val_loss: 0.8270 - val_accuracy: 0.8191\n",
      "Epoch 53/100\n",
      "164/164 [==============================] - 1s 8ms/step - loss: 3.6723e-04 - accuracy: 0.9998 - val_loss: 0.8341 - val_accuracy: 0.8183\n",
      "Epoch 54/100\n",
      "164/164 [==============================] - 1s 9ms/step - loss: 3.5680e-04 - accuracy: 0.9998 - val_loss: 0.8425 - val_accuracy: 0.8176\n",
      "Epoch 55/100\n",
      "164/164 [==============================] - 1s 8ms/step - loss: 3.4815e-04 - accuracy: 0.9998 - val_loss: 0.8518 - val_accuracy: 0.8191\n",
      "Epoch 56/100\n",
      "164/164 [==============================] - 1s 9ms/step - loss: 3.4103e-04 - accuracy: 0.9998 - val_loss: 0.8572 - val_accuracy: 0.8183\n",
      "Epoch 57/100\n",
      "164/164 [==============================] - 1s 8ms/step - loss: 3.3753e-04 - accuracy: 0.9998 - val_loss: 0.8652 - val_accuracy: 0.8160\n",
      "Epoch 58/100\n",
      "164/164 [==============================] - 1s 8ms/step - loss: 3.3294e-04 - accuracy: 0.9998 - val_loss: 0.8727 - val_accuracy: 0.8160\n",
      "Epoch 59/100\n",
      "164/164 [==============================] - 1s 8ms/step - loss: 3.2480e-04 - accuracy: 0.9998 - val_loss: 0.8834 - val_accuracy: 0.8160\n",
      "Epoch 60/100\n",
      "164/164 [==============================] - 1s 8ms/step - loss: 3.2205e-04 - accuracy: 0.9998 - val_loss: 0.8899 - val_accuracy: 0.8153\n",
      "Epoch 61/100\n",
      "164/164 [==============================] - 1s 8ms/step - loss: 3.1525e-04 - accuracy: 0.9998 - val_loss: 0.8996 - val_accuracy: 0.8160\n",
      "Epoch 62/100\n",
      "164/164 [==============================] - 1s 8ms/step - loss: 3.0993e-04 - accuracy: 0.9998 - val_loss: 0.9082 - val_accuracy: 0.8153\n",
      "Epoch 63/100\n",
      "164/164 [==============================] - 1s 8ms/step - loss: 3.0814e-04 - accuracy: 0.9998 - val_loss: 0.9153 - val_accuracy: 0.8153\n",
      "Epoch 64/100\n",
      "164/164 [==============================] - 1s 8ms/step - loss: 3.0299e-04 - accuracy: 0.9998 - val_loss: 0.9242 - val_accuracy: 0.8145\n",
      "Epoch 65/100\n",
      "164/164 [==============================] - 1s 8ms/step - loss: 2.9940e-04 - accuracy: 0.9998 - val_loss: 0.9335 - val_accuracy: 0.8145\n",
      "Epoch 66/100\n",
      "164/164 [==============================] - 1s 9ms/step - loss: 2.9522e-04 - accuracy: 0.9998 - val_loss: 0.9418 - val_accuracy: 0.8145\n",
      "Epoch 67/100\n",
      "164/164 [==============================] - 1s 8ms/step - loss: 2.9508e-04 - accuracy: 0.9998 - val_loss: 0.9498 - val_accuracy: 0.8145\n",
      "Epoch 68/100\n",
      "164/164 [==============================] - 1s 8ms/step - loss: 2.9467e-04 - accuracy: 0.9998 - val_loss: 0.9557 - val_accuracy: 0.8145\n",
      "Epoch 69/100\n",
      "164/164 [==============================] - 1s 8ms/step - loss: 2.9060e-04 - accuracy: 0.9998 - val_loss: 0.9648 - val_accuracy: 0.8145\n",
      "Epoch 70/100\n",
      "164/164 [==============================] - 1s 8ms/step - loss: 2.8770e-04 - accuracy: 0.9998 - val_loss: 0.9741 - val_accuracy: 0.8145\n",
      "Epoch 71/100\n",
      "164/164 [==============================] - 1s 8ms/step - loss: 2.8648e-04 - accuracy: 0.9998 - val_loss: 0.9839 - val_accuracy: 0.8145\n",
      "Epoch 72/100\n",
      "164/164 [==============================] - 1s 8ms/step - loss: 2.8362e-04 - accuracy: 0.9998 - val_loss: 0.9924 - val_accuracy: 0.8145\n",
      "Epoch 73/100\n",
      "164/164 [==============================] - 1s 8ms/step - loss: 2.8183e-04 - accuracy: 0.9998 - val_loss: 1.0010 - val_accuracy: 0.8145\n",
      "Epoch 74/100\n",
      "164/164 [==============================] - 1s 8ms/step - loss: 2.8104e-04 - accuracy: 0.9998 - val_loss: 1.0104 - val_accuracy: 0.8153\n",
      "Epoch 75/100\n",
      "164/164 [==============================] - 1s 8ms/step - loss: 2.7932e-04 - accuracy: 0.9998 - val_loss: 1.0196 - val_accuracy: 0.8153\n",
      "Epoch 76/100\n",
      "164/164 [==============================] - 1s 8ms/step - loss: 2.7808e-04 - accuracy: 0.9998 - val_loss: 1.0268 - val_accuracy: 0.8153\n",
      "Epoch 77/100\n",
      "164/164 [==============================] - 1s 8ms/step - loss: 2.7658e-04 - accuracy: 0.9998 - val_loss: 1.0347 - val_accuracy: 0.8153\n",
      "Epoch 78/100\n",
      "164/164 [==============================] - 1s 8ms/step - loss: 2.7597e-04 - accuracy: 0.9998 - val_loss: 1.0435 - val_accuracy: 0.8153\n",
      "Epoch 79/100\n",
      "164/164 [==============================] - 1s 8ms/step - loss: 2.7489e-04 - accuracy: 0.9998 - val_loss: 1.0528 - val_accuracy: 0.8145\n",
      "Epoch 80/100\n",
      "164/164 [==============================] - 1s 8ms/step - loss: 2.7423e-04 - accuracy: 0.9998 - val_loss: 1.0594 - val_accuracy: 0.8153\n",
      "Epoch 81/100\n",
      "164/164 [==============================] - 2s 10ms/step - loss: 2.7333e-04 - accuracy: 0.9998 - val_loss: 1.0689 - val_accuracy: 0.8145\n",
      "Epoch 82/100\n",
      "164/164 [==============================] - 1s 8ms/step - loss: 2.7282e-04 - accuracy: 0.9998 - val_loss: 1.0759 - val_accuracy: 0.8145\n",
      "Epoch 83/100\n",
      "164/164 [==============================] - 1s 8ms/step - loss: 2.7248e-04 - accuracy: 0.9998 - val_loss: 1.0837 - val_accuracy: 0.8145\n",
      "Epoch 84/100\n",
      "164/164 [==============================] - 1s 8ms/step - loss: 2.7146e-04 - accuracy: 0.9998 - val_loss: 1.0918 - val_accuracy: 0.8137\n",
      "Epoch 85/100\n",
      "164/164 [==============================] - 1s 8ms/step - loss: 2.7207e-04 - accuracy: 0.9998 - val_loss: 1.0993 - val_accuracy: 0.8122\n",
      "Epoch 86/100\n",
      "164/164 [==============================] - 1s 9ms/step - loss: 2.7183e-04 - accuracy: 0.9998 - val_loss: 1.1111 - val_accuracy: 0.8153\n",
      "Epoch 87/100\n",
      "164/164 [==============================] - 1s 8ms/step - loss: 2.7063e-04 - accuracy: 0.9998 - val_loss: 1.1187 - val_accuracy: 0.8145\n",
      "Epoch 88/100\n",
      "164/164 [==============================] - 1s 8ms/step - loss: 2.7240e-04 - accuracy: 0.9998 - val_loss: 1.1252 - val_accuracy: 0.8137\n",
      "Epoch 89/100\n",
      "164/164 [==============================] - 1s 8ms/step - loss: 2.7000e-04 - accuracy: 0.9998 - val_loss: 1.1336 - val_accuracy: 0.8130\n",
      "Epoch 90/100\n",
      "164/164 [==============================] - 1s 8ms/step - loss: 2.6894e-04 - accuracy: 0.9998 - val_loss: 1.1427 - val_accuracy: 0.8130\n",
      "Epoch 91/100\n",
      "164/164 [==============================] - 1s 8ms/step - loss: 2.6919e-04 - accuracy: 0.9998 - val_loss: 1.1506 - val_accuracy: 0.8122\n",
      "Epoch 92/100\n",
      "164/164 [==============================] - 1s 8ms/step - loss: 2.6950e-04 - accuracy: 0.9998 - val_loss: 1.1561 - val_accuracy: 0.8122\n",
      "Epoch 93/100\n",
      "164/164 [==============================] - 1s 8ms/step - loss: 2.6874e-04 - accuracy: 0.9998 - val_loss: 1.1658 - val_accuracy: 0.8122\n",
      "Epoch 94/100\n",
      "164/164 [==============================] - 1s 9ms/step - loss: 2.6853e-04 - accuracy: 0.9998 - val_loss: 1.1746 - val_accuracy: 0.8122\n",
      "Epoch 95/100\n",
      "164/164 [==============================] - 1s 8ms/step - loss: 2.6825e-04 - accuracy: 0.9998 - val_loss: 1.1842 - val_accuracy: 0.8130\n",
      "Epoch 96/100\n",
      "164/164 [==============================] - 1s 8ms/step - loss: 2.6740e-04 - accuracy: 0.9998 - val_loss: 1.1922 - val_accuracy: 0.8137\n",
      "Epoch 97/100\n",
      "164/164 [==============================] - 1s 8ms/step - loss: 2.6779e-04 - accuracy: 0.9998 - val_loss: 1.2000 - val_accuracy: 0.8130\n",
      "Epoch 98/100\n",
      "164/164 [==============================] - 1s 8ms/step - loss: 2.6762e-04 - accuracy: 0.9998 - val_loss: 1.2094 - val_accuracy: 0.8130\n",
      "Epoch 99/100\n",
      "164/164 [==============================] - 1s 9ms/step - loss: 2.6741e-04 - accuracy: 0.9998 - val_loss: 1.2163 - val_accuracy: 0.8122\n",
      "Epoch 100/100\n",
      "164/164 [==============================] - 1s 8ms/step - loss: 2.6703e-04 - accuracy: 0.9998 - val_loss: 1.2250 - val_accuracy: 0.8122\n"
     ]
    }
   ],
   "source": [
    "history = model.fit(X_train, y_train,\n",
    "                    epochs=100,\n",
    "                    verbose=True,\n",
    "                    validation_data=(X_test, y_test),\n",
    "                    batch_size=32)"
   ]
  },
  {
   "cell_type": "code",
   "execution_count": null,
   "metadata": {},
   "outputs": [
    {
     "name": "stdout",
     "output_type": "stream",
     "text": [
      "Training Accuracy: 0.9998090863227844\n",
      "Testing Accuracy:  0.8122137188911438\n"
     ]
    }
   ],
   "source": [
    "loss, accuracy = model.evaluate(X_train, y_train, verbose=False)\n",
    "print(f\"Training Accuracy: {accuracy}\")\n",
    "loss, accuracy = model.evaluate(X_test, y_test, verbose=False)\n",
    "print(f\"Testing Accuracy:  {accuracy}\")"
   ]
  },
  {
   "cell_type": "code",
   "execution_count": null,
   "metadata": {},
   "outputs": [
    {
     "data": {
      "image/png": "[encoded data removed]",
      "text/plain": [
       "<Figure size 864x360 with 2 Axes>"
      ]
     },
     "metadata": {},
     "output_type": "display_data"
    }
   ],
   "source": [
    "plot_history(history)"
   ]
  },
  {
   "cell_type": "code",
   "execution_count": null,
   "metadata": {},
   "outputs": [],
   "source": [
    "tf.keras.backend.clear_session()"
   ]
  },
  {
   "cell_type": "code",
   "execution_count": null,
   "metadata": {},
   "outputs": [
    {
     "name": "stdout",
     "output_type": "stream",
     "text": [
      "Church of England Declares ‘Jesus Is Non-Binary’\n"
     ]
    }
   ],
   "source": [
    "print(sentences_train[2])"
   ]
  },
  {
   "cell_type": "code",
   "execution_count": null,
   "metadata": {},
   "outputs": [
    {
     "name": "stdout",
     "output_type": "stream",
     "text": [
      "[484, 4, 932, 506, 10, 1112]\n"
     ]
    }
   ],
   "source": [
    "print(X_train[2])"
   ]
  },
  {
   "cell_type": "code",
   "execution_count": null,
   "metadata": {},
   "outputs": [
    {
     "name": "stdout",
     "output_type": "stream",
     "text": [
      "Model: \"sequential\"\n",
      "_________________________________________________________________\n",
      " Layer (type)                Output Shape              Param #   \n",
      "=================================================================\n",
      " embedding (Embedding)       (None, 100, 50)           688500    \n",
      "                                                                 \n",
      " global_max_pooling1d (Globa  (None, 50)               0         \n",
      " lMaxPooling1D)                                                  \n",
      "                                                                 \n",
      " dense (Dense)               (None, 10)                510       \n",
      "                                                                 \n",
      " dense_1 (Dense)             (None, 1)                 11        \n",
      "                                                                 \n",
      "=================================================================\n",
      "Total params: 689,021\n",
      "Trainable params: 689,021\n",
      "Non-trainable params: 0\n",
      "_________________________________________________________________\n"
     ]
    }
   ],
   "source": [
    "embedding_dim = 50\n",
    "\n",
    "model = Sequential()\n",
    "model.add(layers.Embedding(input_dim=vocab_size, \n",
    "                           output_dim=embedding_dim, \n",
    "                           input_length=maxlen))\n",
    "model.add(layers.GlobalMaxPool1D())\n",
    "model.add(layers.Dense(10, activation='relu'))\n",
    "model.add(layers.Dense(1, activation='sigmoid'))\n",
    "model.compile(optimizer='adam',\n",
    "              loss='binary_crossentropy',\n",
    "              metrics=['accuracy'])\n",
    "model.summary()"
   ]
  },
  {
   "cell_type": "code",
   "execution_count": null,
   "metadata": {},
   "outputs": [
    {
     "name": "stdout",
     "output_type": "stream",
     "text": [
      "Epoch 1/20\n",
      "524/524 [==============================] - 5s 8ms/step - loss: 0.6134 - accuracy: 0.7003 - val_loss: 0.4681 - val_accuracy: 0.8023\n",
      "Epoch 2/20\n",
      "524/524 [==============================] - 4s 8ms/step - loss: 0.3042 - accuracy: 0.8881 - val_loss: 0.3346 - val_accuracy: 0.8534\n",
      "Epoch 3/20\n",
      "524/524 [==============================] - 4s 8ms/step - loss: 0.1335 - accuracy: 0.9586 - val_loss: 0.3388 - val_accuracy: 0.8603\n",
      "Epoch 4/20\n",
      "524/524 [==============================] - 4s 8ms/step - loss: 0.0532 - accuracy: 0.9878 - val_loss: 0.3775 - val_accuracy: 0.8466\n",
      "Epoch 5/20\n",
      "524/524 [==============================] - 4s 8ms/step - loss: 0.0196 - accuracy: 0.9981 - val_loss: 0.4128 - val_accuracy: 0.8389\n",
      "Epoch 6/20\n",
      "524/524 [==============================] - 4s 9ms/step - loss: 0.0085 - accuracy: 0.9994 - val_loss: 0.4433 - val_accuracy: 0.8389\n",
      "Epoch 7/20\n",
      "524/524 [==============================] - 5s 9ms/step - loss: 0.0040 - accuracy: 0.9996 - val_loss: 0.4853 - val_accuracy: 0.8435\n",
      "Epoch 8/20\n",
      "524/524 [==============================] - 4s 8ms/step - loss: 0.0024 - accuracy: 0.9998 - val_loss: 0.5122 - val_accuracy: 0.8389\n",
      "Epoch 9/20\n",
      "524/524 [==============================] - 4s 8ms/step - loss: 0.0017 - accuracy: 0.9998 - val_loss: 0.5397 - val_accuracy: 0.8382\n",
      "Epoch 10/20\n",
      "524/524 [==============================] - 4s 8ms/step - loss: 0.0014 - accuracy: 0.9998 - val_loss: 0.5548 - val_accuracy: 0.8389\n",
      "Epoch 11/20\n",
      "524/524 [==============================] - 4s 8ms/step - loss: 0.0017 - accuracy: 0.9996 - val_loss: 0.5714 - val_accuracy: 0.8397\n",
      "Epoch 12/20\n",
      "524/524 [==============================] - 4s 8ms/step - loss: 0.0016 - accuracy: 0.9996 - val_loss: 0.5880 - val_accuracy: 0.8366\n",
      "Epoch 13/20\n",
      "524/524 [==============================] - 4s 8ms/step - loss: 8.8158e-04 - accuracy: 0.9998 - val_loss: 0.6066 - val_accuracy: 0.8389\n",
      "Epoch 14/20\n",
      "524/524 [==============================] - 4s 8ms/step - loss: 8.5662e-04 - accuracy: 0.9998 - val_loss: 0.6380 - val_accuracy: 0.8328\n",
      "Epoch 15/20\n",
      "524/524 [==============================] - 4s 8ms/step - loss: 0.0017 - accuracy: 0.9996 - val_loss: 0.6332 - val_accuracy: 0.8374\n",
      "Epoch 16/20\n",
      "524/524 [==============================] - 4s 8ms/step - loss: 0.0013 - accuracy: 0.9996 - val_loss: 0.6384 - val_accuracy: 0.8382\n",
      "Epoch 17/20\n",
      "524/524 [==============================] - 3s 6ms/step - loss: 7.2638e-04 - accuracy: 0.9998 - val_loss: 0.6564 - val_accuracy: 0.8366\n",
      "Epoch 18/20\n",
      "524/524 [==============================] - 4s 8ms/step - loss: 0.0013 - accuracy: 0.9996 - val_loss: 0.6866 - val_accuracy: 0.8305\n",
      "Epoch 19/20\n",
      "524/524 [==============================] - 4s 8ms/step - loss: 0.0014 - accuracy: 0.9996 - val_loss: 0.6705 - val_accuracy: 0.8389\n",
      "Epoch 20/20\n",
      "524/524 [==============================] - 4s 8ms/step - loss: 6.9663e-04 - accuracy: 0.9998 - val_loss: 0.6790 - val_accuracy: 0.8374\n",
      "Training Accuracy: 0.9998\n",
      "Testing Accuracy:  0.8374\n"
     ]
    },
    {
     "data": {
      "image/png": "[encoded data removed]",
      "text/plain": [
       "<Figure size 864x360 with 2 Axes>"
      ]
     },
     "metadata": {},
     "output_type": "display_data"
    }
   ],
   "source": [
    "history = model.fit(X_train, y_train,\n",
    "                    epochs=20,\n",
    "                    verbose=True,\n",
    "                    validation_data=(X_test, y_test),\n",
    "                    batch_size=10)\n",
    "loss, accuracy = model.evaluate(X_train, y_train, verbose=False)\n",
    "print(\"Training Accuracy: {:.4f}\".format(accuracy))\n",
    "loss, accuracy = model.evaluate(X_test, y_test, verbose=False)\n",
    "print(\"Testing Accuracy:  {:.4f}\".format(accuracy))\n",
    "plot_history(history)"
   ]
  },
  {
   "cell_type": "code",
   "execution_count": null,
   "metadata": {},
   "outputs": [],
   "source": [
    "tf.keras.backend.clear_session()"
   ]
  },
  {
   "cell_type": "code",
   "execution_count": null,
   "metadata": {},
   "outputs": [
    {
     "name": "stdout",
     "output_type": "stream",
     "text": [
      "Model: \"sequential\"\n",
      "_________________________________________________________________\n",
      " Layer (type)                Output Shape              Param #   \n",
      "=================================================================\n",
      " embedding (Embedding)       (None, 100, 100)          1377000   \n",
      "                                                                 \n",
      " global_max_pooling1d (Globa  (None, 100)              0         \n",
      " lMaxPooling1D)                                                  \n",
      "                                                                 \n",
      " dense (Dense)               (None, 10)                1010      \n",
      "                                                                 \n",
      " dense_1 (Dense)             (None, 1)                 11        \n",
      "                                                                 \n",
      "=================================================================\n",
      "Total params: 1,378,021\n",
      "Trainable params: 1,378,021\n",
      "Non-trainable params: 0\n",
      "_________________________________________________________________\n"
     ]
    }
   ],
   "source": [
    "\n",
    "model = Sequential()\n",
    "model.add(layers.Embedding(vocab_size, embedding_dim, \n",
    "                           weights=[embedding_matrix], \n",
    "                           input_length=maxlen, \n",
    "                           trainable=True))\n",
    "model.add(layers.GlobalMaxPool1D())\n",
    "model.add(layers.Dense(10, activation='relu'))\n",
    "model.add(layers.Dense(1, activation='sigmoid'))\n",
    "model.compile(optimizer='adam',\n",
    "              loss='binary_crossentropy',\n",
    "              metrics=['accuracy'])\n",
    "model.summary()"
   ]
  },
  {
   "cell_type": "code",
   "execution_count": null,
   "metadata": {},
   "outputs": [
    {
     "name": "stdout",
     "output_type": "stream",
     "text": [
      "Epoch 1/50\n",
      "524/524 [==============================] - 4s 6ms/step - loss: 0.6752 - accuracy: 0.5836 - val_loss: 0.6106 - val_accuracy: 0.7252\n",
      "Epoch 2/50\n",
      "524/524 [==============================] - 3s 6ms/step - loss: 0.5121 - accuracy: 0.7591 - val_loss: 0.4503 - val_accuracy: 0.7863\n",
      "Epoch 3/50\n",
      "524/524 [==============================] - 3s 6ms/step - loss: 0.3502 - accuracy: 0.8511 - val_loss: 0.4069 - val_accuracy: 0.8038\n",
      "Epoch 4/50\n",
      "524/524 [==============================] - 3s 6ms/step - loss: 0.2377 - accuracy: 0.9049 - val_loss: 0.3776 - val_accuracy: 0.8252\n",
      "Epoch 5/50\n",
      "524/524 [==============================] - 4s 7ms/step - loss: 0.1546 - accuracy: 0.9488 - val_loss: 0.3853 - val_accuracy: 0.8313\n",
      "Epoch 6/50\n",
      "524/524 [==============================] - 4s 7ms/step - loss: 0.0933 - accuracy: 0.9727 - val_loss: 0.4012 - val_accuracy: 0.8382\n",
      "Epoch 7/50\n",
      "524/524 [==============================] - 3s 7ms/step - loss: 0.0561 - accuracy: 0.9863 - val_loss: 0.4263 - val_accuracy: 0.8382\n",
      "Epoch 8/50\n",
      "524/524 [==============================] - 4s 7ms/step - loss: 0.0301 - accuracy: 0.9939 - val_loss: 0.4756 - val_accuracy: 0.8298\n",
      "Epoch 9/50\n",
      "524/524 [==============================] - 4s 7ms/step - loss: 0.0164 - accuracy: 0.9979 - val_loss: 0.4876 - val_accuracy: 0.8305\n",
      "Epoch 10/50\n",
      "524/524 [==============================] - 3s 7ms/step - loss: 0.0095 - accuracy: 0.9992 - val_loss: 0.5246 - val_accuracy: 0.8275\n",
      "Epoch 11/50\n",
      "524/524 [==============================] - 4s 7ms/step - loss: 0.0057 - accuracy: 0.9996 - val_loss: 0.5452 - val_accuracy: 0.8351\n",
      "Epoch 12/50\n",
      "524/524 [==============================] - 4s 8ms/step - loss: 0.0033 - accuracy: 0.9996 - val_loss: 0.5720 - val_accuracy: 0.8359\n",
      "Epoch 13/50\n",
      "524/524 [==============================] - 4s 7ms/step - loss: 0.0028 - accuracy: 0.9994 - val_loss: 0.5945 - val_accuracy: 0.8374\n",
      "Epoch 14/50\n",
      "524/524 [==============================] - 4s 8ms/step - loss: 0.0020 - accuracy: 0.9996 - val_loss: 0.6481 - val_accuracy: 0.8275\n",
      "Epoch 15/50\n",
      "524/524 [==============================] - 4s 7ms/step - loss: 0.0013 - accuracy: 0.9998 - val_loss: 0.6582 - val_accuracy: 0.8412\n",
      "Epoch 16/50\n",
      "524/524 [==============================] - 3s 6ms/step - loss: 0.0017 - accuracy: 0.9996 - val_loss: 0.6661 - val_accuracy: 0.8298\n",
      "Epoch 17/50\n",
      "524/524 [==============================] - 3s 6ms/step - loss: 0.0011 - accuracy: 0.9998 - val_loss: 0.6759 - val_accuracy: 0.8351\n",
      "Epoch 18/50\n",
      "524/524 [==============================] - 4s 7ms/step - loss: 8.0044e-04 - accuracy: 0.9998 - val_loss: 0.7006 - val_accuracy: 0.8420\n",
      "Epoch 19/50\n",
      "524/524 [==============================] - 4s 8ms/step - loss: 0.0018 - accuracy: 0.9996 - val_loss: 0.7172 - val_accuracy: 0.8397\n",
      "Epoch 20/50\n",
      "524/524 [==============================] - 4s 8ms/step - loss: 8.4509e-04 - accuracy: 0.9998 - val_loss: 0.7411 - val_accuracy: 0.8313\n",
      "Epoch 21/50\n",
      "524/524 [==============================] - 4s 7ms/step - loss: 8.2911e-04 - accuracy: 0.9998 - val_loss: 0.7580 - val_accuracy: 0.8298\n",
      "Epoch 22/50\n",
      "524/524 [==============================] - 5s 9ms/step - loss: 8.6121e-04 - accuracy: 0.9998 - val_loss: 0.7708 - val_accuracy: 0.8267\n",
      "Epoch 23/50\n",
      "524/524 [==============================] - 4s 8ms/step - loss: 0.0014 - accuracy: 0.9996 - val_loss: 0.7789 - val_accuracy: 0.8298\n",
      "Epoch 24/50\n",
      "524/524 [==============================] - 5s 10ms/step - loss: 0.0014 - accuracy: 0.9996 - val_loss: 0.7854 - val_accuracy: 0.8344\n",
      "Epoch 25/50\n",
      "524/524 [==============================] - 5s 9ms/step - loss: 7.0640e-04 - accuracy: 0.9998 - val_loss: 0.7904 - val_accuracy: 0.8344\n",
      "Epoch 26/50\n",
      "524/524 [==============================] - 4s 8ms/step - loss: 0.0014 - accuracy: 0.9996 - val_loss: 0.8041 - val_accuracy: 0.8366\n",
      "Epoch 27/50\n",
      "524/524 [==============================] - 6s 11ms/step - loss: 7.6467e-04 - accuracy: 0.9998 - val_loss: 0.8171 - val_accuracy: 0.8344\n",
      "Epoch 28/50\n",
      "524/524 [==============================] - 8s 16ms/step - loss: 0.0013 - accuracy: 0.9996 - val_loss: 0.8316 - val_accuracy: 0.8359\n",
      "Epoch 29/50\n",
      "524/524 [==============================] - 4s 8ms/step - loss: 7.4102e-04 - accuracy: 0.9998 - val_loss: 0.8295 - val_accuracy: 0.8328\n",
      "Epoch 30/50\n",
      "524/524 [==============================] - 4s 8ms/step - loss: 0.0016 - accuracy: 0.9996 - val_loss: 0.8633 - val_accuracy: 0.8405\n",
      "Epoch 31/50\n",
      "524/524 [==============================] - 6s 12ms/step - loss: 0.0014 - accuracy: 0.9996 - val_loss: 0.8414 - val_accuracy: 0.8420\n",
      "Epoch 32/50\n",
      "524/524 [==============================] - 5s 9ms/step - loss: 0.0013 - accuracy: 0.9996 - val_loss: 0.8582 - val_accuracy: 0.8412\n",
      "Epoch 33/50\n",
      "524/524 [==============================] - 5s 9ms/step - loss: 7.4515e-04 - accuracy: 0.9998 - val_loss: 0.8791 - val_accuracy: 0.8359\n",
      "Epoch 34/50\n",
      "524/524 [==============================] - 5s 9ms/step - loss: 7.4653e-04 - accuracy: 0.9998 - val_loss: 0.8589 - val_accuracy: 0.8443\n",
      "Epoch 35/50\n",
      "524/524 [==============================] - 4s 8ms/step - loss: 0.0016 - accuracy: 0.9996 - val_loss: 0.8703 - val_accuracy: 0.8374\n",
      "Epoch 36/50\n",
      "524/524 [==============================] - 4s 8ms/step - loss: 9.3836e-04 - accuracy: 0.9994 - val_loss: 1.0329 - val_accuracy: 0.8244\n",
      "Epoch 37/50\n",
      "524/524 [==============================] - 4s 7ms/step - loss: 0.0015 - accuracy: 0.9996 - val_loss: 0.8863 - val_accuracy: 0.8382\n",
      "Epoch 38/50\n",
      "524/524 [==============================] - 4s 8ms/step - loss: 6.7394e-04 - accuracy: 0.9998 - val_loss: 0.9952 - val_accuracy: 0.8244\n",
      "Epoch 39/50\n",
      "524/524 [==============================] - 4s 8ms/step - loss: 8.7004e-04 - accuracy: 0.9998 - val_loss: 1.0313 - val_accuracy: 0.8260\n",
      "Epoch 40/50\n",
      "524/524 [==============================] - 6s 11ms/step - loss: 0.0015 - accuracy: 0.9996 - val_loss: 0.9006 - val_accuracy: 0.8389\n",
      "Epoch 41/50\n",
      "524/524 [==============================] - 4s 8ms/step - loss: 7.5371e-04 - accuracy: 0.9998 - val_loss: 0.9083 - val_accuracy: 0.8351\n",
      "Epoch 42/50\n",
      "524/524 [==============================] - 4s 8ms/step - loss: 6.4848e-04 - accuracy: 0.9998 - val_loss: 0.9270 - val_accuracy: 0.8374\n",
      "Epoch 43/50\n",
      "524/524 [==============================] - 4s 8ms/step - loss: 8.4693e-04 - accuracy: 0.9998 - val_loss: 1.1729 - val_accuracy: 0.8115\n",
      "Epoch 44/50\n",
      "524/524 [==============================] - 4s 8ms/step - loss: 0.0015 - accuracy: 0.9996 - val_loss: 1.1971 - val_accuracy: 0.8107\n",
      "Epoch 45/50\n",
      "524/524 [==============================] - 4s 8ms/step - loss: 7.6540e-04 - accuracy: 0.9998 - val_loss: 0.9586 - val_accuracy: 0.8313\n",
      "Epoch 46/50\n",
      "524/524 [==============================] - 4s 8ms/step - loss: 0.0015 - accuracy: 0.9996 - val_loss: 0.9954 - val_accuracy: 0.8305\n",
      "Epoch 47/50\n",
      "524/524 [==============================] - 4s 8ms/step - loss: 7.1456e-04 - accuracy: 0.9998 - val_loss: 1.0483 - val_accuracy: 0.8282\n",
      "Epoch 48/50\n",
      "524/524 [==============================] - 4s 8ms/step - loss: 0.0014 - accuracy: 0.9996 - val_loss: 0.9754 - val_accuracy: 0.8359\n",
      "Epoch 49/50\n",
      "524/524 [==============================] - 4s 8ms/step - loss: 6.7121e-04 - accuracy: 0.9998 - val_loss: 1.0040 - val_accuracy: 0.8313\n",
      "Epoch 50/50\n",
      "524/524 [==============================] - 4s 7ms/step - loss: 0.0017 - accuracy: 0.9996 - val_loss: 1.0982 - val_accuracy: 0.8206\n",
      "Training Accuracy: 0.9998\n",
      "Testing Accuracy:  0.8206\n"
     ]
    },
    {
     "data": {
      "image/png": "[encoded data removed]",
      "text/plain": [
       "<Figure size 864x360 with 2 Axes>"
      ]
     },
     "metadata": {},
     "output_type": "display_data"
    }
   ],
   "source": [
    "history = model.fit(X_train, y_train,\n",
    "                    epochs=50,\n",
    "                    verbose=True,\n",
    "                    validation_data=(X_test, y_test),\n",
    "                    batch_size=10)\n",
    "loss, accuracy = model.evaluate(X_train, y_train, verbose=False)\n",
    "print(\"Training Accuracy: {:.4f}\".format(accuracy))\n",
    "loss, accuracy = model.evaluate(X_test, y_test, verbose=False)\n",
    "print(\"Testing Accuracy:  {:.4f}\".format(accuracy))\n",
    "plot_history(history)"
   ]
  },
  {
   "cell_type": "code",
   "execution_count": null,
   "metadata": {},
   "outputs": [],
   "source": [
    "tf.keras.backend.clear_session()"
   ]
  },
  {
   "cell_type": "code",
   "execution_count": 39,
   "metadata": {},
   "outputs": [],
   "source": [
    "import re\n",
    "pattern = r\"^\\s*(?:...){0,2}(XXX|OOO)|^\\s*(O|X)..\\2..\\2..|^\\s*.(O|X)..\\3..\\3.|^\\s*..(O|X)..\\4..\\4|^\\s*(O|X)...\\5...\\5|^\\s*..(O|X).\\6.\\6..\"\n",
    "\n"
   ]
  },
  {
   "cell_type": "code",
   "execution_count": 117,
   "metadata": {},
   "outputs": [],
   "source": [
    "pat = 'XOxXOxOXx'"
   ]
  },
  {
   "cell_type": "code",
   "execution_count": 118,
   "metadata": {},
   "outputs": [
    {
     "ename": "SyntaxError",
     "evalue": "invalid syntax (Temp/ipykernel_3436/4292019277.py, line 1)",
     "output_type": "error",
     "traceback": [
      "\u001b[1;36m  File \u001b[1;32m\"C:\\Users\\cvaal\\AppData\\Local\\Temp/ipykernel_3436/4292019277.py\"\u001b[1;36m, line \u001b[1;32m1\u001b[0m\n\u001b[1;33m    for i in\u001b[0m\n\u001b[1;37m            ^\u001b[0m\n\u001b[1;31mSyntaxError\u001b[0m\u001b[1;31m:\u001b[0m invalid syntax\n"
     ]
    }
   ],
   "source": [
    "for i in"
   ]
  },
  {
   "cell_type": "code",
   "execution_count": 119,
   "metadata": {},
   "outputs": [
    {
     "name": "stdout",
     "output_type": "stream",
     "text": [
      "XOOXOxOXx\n",
      "XOOXOOOXx\n",
      "XOOXOOOXO\n"
     ]
    }
   ],
   "source": [
    "for i in pat:\n",
    "    if i == 'x':\n",
    "        pat = pat.replace(i, 'O', 1)\n",
    "        print(pat)"
   ]
  },
  {
   "cell_type": "code",
   "execution_count": 53,
   "metadata": {},
   "outputs": [
    {
     "name": "stdout",
     "output_type": "stream",
     "text": [
      "Yes\n",
      "No\n",
      "Yes\n",
      "Yes\n",
      "Yes\n",
      "Yes\n",
      "Yes\n",
      "Yes\n"
     ]
    }
   ],
   "source": [
    "import re\n",
    "\n",
    "winning = ['OOOxxxxxx',\n",
    "'XOXXOOOXX',\n",
    "'xxxxxxOOO',\n",
    "'OxxOxxOxx',\n",
    "'xOxxOxxOx',\n",
    "'xxOxxOxxO',\n",
    "'OxxxOxxxO',\n",
    "'xxOxOxOxx']\n",
    "\n",
    "for i in winning:\n",
    "    if re.search(pattern, i):\n",
    "        print('Yes')\n",
    "    else:\n",
    "        print('No')\n"
   ]
  },
  {
   "cell_type": "code",
   "execution_count": null,
   "metadata": {},
   "outputs": [],
   "source": []
  },
  {
   "cell_type": "code",
   "execution_count": 115,
   "metadata": {},
   "outputs": [],
   "source": [
    "pat = 'XOxXOxOXx'\n",
    "grid = list(zip(*[iter(pat)]*3))\n",
    "grid = [list(tup) for tup in grid]"
   ]
  },
  {
   "cell_type": "code",
   "execution_count": 111,
   "metadata": {},
   "outputs": [
    {
     "name": "stdout",
     "output_type": "stream",
     "text": [
      "[['X', 'O', 'X'], ['X', 'O', 'X'], ['O', 'X', 'X']]\n"
     ]
    }
   ],
   "source": [
    "print(grid)"
   ]
  },
  {
   "cell_type": "code",
   "execution_count": 112,
   "metadata": {},
   "outputs": [
    {
     "data": {
      "text/plain": [
       "'XOXXOXOXX'"
      ]
     },
     "execution_count": 112,
     "metadata": {},
     "output_type": "execute_result"
    }
   ],
   "source": [
    "''.join(item for innerlist in pat for item in innerlist)"
   ]
  },
  {
   "cell_type": "code",
   "execution_count": 116,
   "metadata": {},
   "outputs": [
    {
     "data": {
      "text/plain": [
       "False"
      ]
     },
     "execution_count": 116,
     "metadata": {},
     "output_type": "execute_result"
    }
   ],
   "source": [
    "'x' not in pat"
   ]
  },
  {
   "cell_type": "code",
   "execution_count": null,
   "metadata": {},
   "outputs": [],
   "source": []
  }
 ],
 "metadata": {
  "kernelspec": {
   "display_name": "tf_gpu_2.7",
   "language": "python",
   "name": "python3"
  },
  "language_info": {
   "codemirror_mode": {
    "name": "ipython",
    "version": 3
   },
   "file_extension": ".py",
   "mimetype": "text/x-python",
   "name": "python",
   "nbconvert_exporter": "python",
   "pygments_lexer": "ipython3",
   "version": "3.8.0"
  },
  "orig_nbformat": 4
 },
 "nbformat": 4,
 "nbformat_minor": 2
}
