{
 "cells": [
  {
   "cell_type": "code",
   "execution_count": 1,
   "metadata": {},
   "outputs": [],
   "source": [
    "import pandas as pd\n",
    "import numpy as np"
   ]
  },
  {
   "cell_type": "code",
   "execution_count": 2,
   "metadata": {},
   "outputs": [
    {
     "data": {
      "text/html": [
       "<div>\n",
       "<style scoped>\n",
       "    .dataframe tbody tr th:only-of-type {\n",
       "        vertical-align: middle;\n",
       "    }\n",
       "\n",
       "    .dataframe tbody tr th {\n",
       "        vertical-align: top;\n",
       "    }\n",
       "\n",
       "    .dataframe thead th {\n",
       "        text-align: right;\n",
       "    }\n",
       "</style>\n",
       "<table border=\"1\" class=\"dataframe\">\n",
       "  <thead>\n",
       "    <tr style=\"text-align: right;\">\n",
       "      <th></th>\n",
       "      <th>Domain</th>\n",
       "      <th>Page rank integer</th>\n",
       "      <th>Page rank decimal</th>\n",
       "      <th>Site Rank</th>\n",
       "      <th>Domain registrar</th>\n",
       "      <th>Postal code</th>\n",
       "      <th>Country of origin</th>\n",
       "      <th>Harmless</th>\n",
       "      <th>Malicious</th>\n",
       "      <th>Suspicious</th>\n",
       "      <th>Undetected</th>\n",
       "      <th>Timeout</th>\n",
       "      <th>No. of Local links</th>\n",
       "      <th>No. of Outbound links</th>\n",
       "      <th>Total links</th>\n",
       "      <th>Links to fake news site?</th>\n",
       "      <th>Wordpress?</th>\n",
       "      <th>Site Rating</th>\n",
       "    </tr>\n",
       "  </thead>\n",
       "  <tbody>\n",
       "    <tr>\n",
       "      <th>0</th>\n",
       "      <td>actionnews3.com</td>\n",
       "      <td>3</td>\n",
       "      <td>2.82</td>\n",
       "      <td>7390112.0</td>\n",
       "      <td>GoDaddy.com, LLC</td>\n",
       "      <td>85284</td>\n",
       "      <td>US</td>\n",
       "      <td>86</td>\n",
       "      <td>0</td>\n",
       "      <td>0</td>\n",
       "      <td>10</td>\n",
       "      <td>0</td>\n",
       "      <td>16</td>\n",
       "      <td>1</td>\n",
       "      <td>17</td>\n",
       "      <td>False</td>\n",
       "      <td>True</td>\n",
       "      <td>Fake</td>\n",
       "    </tr>\n",
       "    <tr>\n",
       "      <th>1</th>\n",
       "      <td>abcnews-us.com</td>\n",
       "      <td>3</td>\n",
       "      <td>2.89</td>\n",
       "      <td>6579810.0</td>\n",
       "      <td>NamePal.com #8009 Inc.</td>\n",
       "      <td>32256</td>\n",
       "      <td>US</td>\n",
       "      <td>86</td>\n",
       "      <td>0</td>\n",
       "      <td>0</td>\n",
       "      <td>10</td>\n",
       "      <td>0</td>\n",
       "      <td>0</td>\n",
       "      <td>1</td>\n",
       "      <td>1</td>\n",
       "      <td>False</td>\n",
       "      <td>False</td>\n",
       "      <td>Fake</td>\n",
       "    </tr>\n",
       "    <tr>\n",
       "      <th>2</th>\n",
       "      <td>21stcenturywire.com</td>\n",
       "      <td>5</td>\n",
       "      <td>4.57</td>\n",
       "      <td>66742.0</td>\n",
       "      <td>GoDaddy.com, LLC</td>\n",
       "      <td>85284</td>\n",
       "      <td>US</td>\n",
       "      <td>83</td>\n",
       "      <td>0</td>\n",
       "      <td>0</td>\n",
       "      <td>13</td>\n",
       "      <td>0</td>\n",
       "      <td>183</td>\n",
       "      <td>36</td>\n",
       "      <td>219</td>\n",
       "      <td>False</td>\n",
       "      <td>True</td>\n",
       "      <td>Fake</td>\n",
       "    </tr>\n",
       "    <tr>\n",
       "      <th>3</th>\n",
       "      <td>100percentfedup.com</td>\n",
       "      <td>4</td>\n",
       "      <td>4.15</td>\n",
       "      <td>778723.0</td>\n",
       "      <td>GoDaddy.com, LLC</td>\n",
       "      <td>85284</td>\n",
       "      <td>US</td>\n",
       "      <td>84</td>\n",
       "      <td>1</td>\n",
       "      <td>0</td>\n",
       "      <td>11</td>\n",
       "      <td>0</td>\n",
       "      <td>49</td>\n",
       "      <td>8</td>\n",
       "      <td>57</td>\n",
       "      <td>False</td>\n",
       "      <td>True</td>\n",
       "      <td>Fake</td>\n",
       "    </tr>\n",
       "    <tr>\n",
       "      <th>4</th>\n",
       "      <td>abcnews.com</td>\n",
       "      <td>5</td>\n",
       "      <td>4.78</td>\n",
       "      <td>32787.0</td>\n",
       "      <td>CSC CORPORATE DOMAINS, INC.</td>\n",
       "      <td>10023-6298</td>\n",
       "      <td>US</td>\n",
       "      <td>83</td>\n",
       "      <td>0</td>\n",
       "      <td>0</td>\n",
       "      <td>13</td>\n",
       "      <td>0</td>\n",
       "      <td>0</td>\n",
       "      <td>144</td>\n",
       "      <td>144</td>\n",
       "      <td>False</td>\n",
       "      <td>False</td>\n",
       "      <td>Fake</td>\n",
       "    </tr>\n",
       "  </tbody>\n",
       "</table>\n",
       "</div>"
      ],
      "text/plain": [
       "                Domain  Page rank integer  Page rank decimal  Site Rank  \\\n",
       "0      actionnews3.com                  3               2.82  7390112.0   \n",
       "1       abcnews-us.com                  3               2.89  6579810.0   \n",
       "2  21stcenturywire.com                  5               4.57    66742.0   \n",
       "3  100percentfedup.com                  4               4.15   778723.0   \n",
       "4          abcnews.com                  5               4.78    32787.0   \n",
       "\n",
       "              Domain registrar Postal code Country of origin  Harmless  \\\n",
       "0             GoDaddy.com, LLC       85284                US        86   \n",
       "1       NamePal.com #8009 Inc.       32256                US        86   \n",
       "2             GoDaddy.com, LLC       85284                US        83   \n",
       "3             GoDaddy.com, LLC       85284                US        84   \n",
       "4  CSC CORPORATE DOMAINS, INC.  10023-6298                US        83   \n",
       "\n",
       "   Malicious  Suspicious  Undetected  Timeout  No. of Local links  \\\n",
       "0          0           0          10        0                  16   \n",
       "1          0           0          10        0                   0   \n",
       "2          0           0          13        0                 183   \n",
       "3          1           0          11        0                  49   \n",
       "4          0           0          13        0                   0   \n",
       "\n",
       "   No. of Outbound links  Total links  Links to fake news site?  Wordpress?  \\\n",
       "0                      1           17                     False        True   \n",
       "1                      1            1                     False       False   \n",
       "2                     36          219                     False        True   \n",
       "3                      8           57                     False        True   \n",
       "4                    144          144                     False       False   \n",
       "\n",
       "  Site Rating  \n",
       "0        Fake  \n",
       "1        Fake  \n",
       "2        Fake  \n",
       "3        Fake  \n",
       "4        Fake  "
      ]
     },
     "execution_count": 2,
     "metadata": {},
     "output_type": "execute_result"
    }
   ],
   "source": [
    "fn_df = pd.read_csv('FakeReal_News_Sites.csv', index_col=[0])\n",
    "fn_df.head()\n",
    "# fn_df.replace([np.inf, -np.inf], np.nan, inplace=True)\n",
    "# fn_df.fillna(0, inplace=True)\n"
   ]
  },
  {
   "cell_type": "code",
   "execution_count": 3,
   "metadata": {},
   "outputs": [
    {
     "data": {
      "text/plain": [
       "Domain                      False\n",
       "Page rank integer           False\n",
       "Page rank decimal           False\n",
       "Site Rank                    True\n",
       "Domain registrar             True\n",
       "Postal code                  True\n",
       "Country of origin            True\n",
       "Harmless                    False\n",
       "Malicious                   False\n",
       "Suspicious                  False\n",
       "Undetected                  False\n",
       "Timeout                     False\n",
       "No. of Local links          False\n",
       "No. of Outbound links       False\n",
       "Total links                 False\n",
       "Links to fake news site?    False\n",
       "Wordpress?                  False\n",
       "Site Rating                 False\n",
       "dtype: bool"
      ]
     },
     "execution_count": 3,
     "metadata": {},
     "output_type": "execute_result"
    }
   ],
   "source": [
    "fn_df.isnull().any()"
   ]
  },
  {
   "cell_type": "code",
   "execution_count": 4,
   "metadata": {},
   "outputs": [],
   "source": [
    "fn_df.fillna({'Site Rank':0, 'Domain registrar':'None', 'Postal code':'None', 'Country of origin':'None'}, inplace=True)\n"
   ]
  },
  {
   "cell_type": "code",
   "execution_count": 5,
   "metadata": {},
   "outputs": [
    {
     "data": {
      "text/plain": [
       "Domain                      False\n",
       "Page rank integer           False\n",
       "Page rank decimal           False\n",
       "Site Rank                   False\n",
       "Domain registrar            False\n",
       "Postal code                 False\n",
       "Country of origin           False\n",
       "Harmless                    False\n",
       "Malicious                   False\n",
       "Suspicious                  False\n",
       "Undetected                  False\n",
       "Timeout                     False\n",
       "No. of Local links          False\n",
       "No. of Outbound links       False\n",
       "Total links                 False\n",
       "Links to fake news site?    False\n",
       "Wordpress?                  False\n",
       "Site Rating                 False\n",
       "dtype: bool"
      ]
     },
     "execution_count": 5,
     "metadata": {},
     "output_type": "execute_result"
    }
   ],
   "source": [
    "fn_df.isnull().any()"
   ]
  },
  {
   "cell_type": "code",
   "execution_count": 6,
   "metadata": {},
   "outputs": [
    {
     "data": {
      "text/plain": [
       "149"
      ]
     },
     "execution_count": 6,
     "metadata": {},
     "output_type": "execute_result"
    }
   ],
   "source": [
    "fn_df[(fn_df['Site Rating'] == 'Fake')].shape[0]"
   ]
  },
  {
   "cell_type": "code",
   "execution_count": 7,
   "metadata": {},
   "outputs": [],
   "source": [
    "fn_df.loc[fn_df['Malicious'] > 0, 'Malicious'] = 1"
   ]
  },
  {
   "cell_type": "code",
   "execution_count": 8,
   "metadata": {},
   "outputs": [],
   "source": [
    "#unnecessary columns = Links to fake news site?, Suspicious, and No. of Outbound links\n",
    "X = fn_df[['Domain registrar', 'Postal code',\n",
    "       'Wordpress?', 'Page rank decimal', 'Site Rank', 'Country of origin',\n",
    "       'Malicious', 'No. of Local links', 'Total links']]\n",
    "\n",
    "y = fn_df['Site Rating']\n"
   ]
  },
  {
   "cell_type": "code",
   "execution_count": 9,
   "metadata": {},
   "outputs": [],
   "source": [
    "from sklearn.pipeline import Pipeline\n",
    "from sklearn.preprocessing import StandardScaler\n",
    "from sklearn.preprocessing import OneHotEncoder\n",
    "from sklearn.preprocessing import LabelEncoder\n",
    "from sklearn.preprocessing import OrdinalEncoder\n",
    "from sklearn.preprocessing import LabelBinarizer\n",
    "from sklearn.linear_model import LinearRegression\n",
    "from sklearn.compose import ColumnTransformer\n",
    "from sklearn.model_selection import train_test_split, GridSearchCV\n",
    "import joblib\n",
    "\n",
    "from sklearn.svm import SVC\n",
    "from sklearn.linear_model import LogisticRegression\n",
    "from xgboost import XGBClassifier\n",
    "from sklearn.naive_bayes import GaussianNB\n",
    "from sklearn.ensemble import RandomForestClassifier\n",
    "\n",
    "xgb = XGBClassifier()\n",
    "\n",
    "le = LabelEncoder()\n",
    "y = le.fit_transform(y)\n",
    "\n",
    "cat_cols = ['Postal code', 'Country of origin']\n",
    "bin_cols = ['Wordpress?', 'Malicious']\n",
    "num_cols = ['Page rank decimal','Site Rank', 'Total links']\n",
    "\n",
    "ct = ColumnTransformer([('standard_scaler', StandardScaler(), num_cols),\n",
    "                        ('one_hot_encoder', OneHotEncoder(sparse=False, handle_unknown= \"ignore\"), cat_cols),\n",
    "                        ('label_encoder', OrdinalEncoder(), bin_cols)])\n",
    "\n"
   ]
  },
  {
   "cell_type": "code",
   "execution_count": 10,
   "metadata": {},
   "outputs": [],
   "source": [
    "from sklearn.model_selection import GridSearchCV\n",
    "\n",
    "params={\n",
    " \"learning_rate\"    : [0.01, 0.05, 0.10, 0.15, 0.20, 0.25] ,\n",
    " \"max_depth\"        : [ 3, 4, 5, 6, 9, 12],\n",
    " \"min_child_weight\" : [ 1, 3, 5, 7, 9, 11 ],\n",
    " \"gamma\"            : [ 0.0, 0.1, 0.2 , 0.3, 0.4, 0.5],\n",
    " \"colsample_bytree\" : [ 0.3, 0.4, 0.5 , 0.7, 0.9, 0.11 ]\n",
    "    \n",
    "}\n",
    "\n",
    "grid_search = GridSearchCV(\n",
    "    estimator=xgb,\n",
    "    param_grid=params,\n",
    "    scoring = 'roc_auc',\n",
    "    n_jobs = 5,\n",
    "    cv = 5,\n",
    "    verbose=True,\n",
    "    return_train_score=True\n",
    ")\n",
    "\n",
    "\n",
    "\n"
   ]
  },
  {
   "cell_type": "code",
   "execution_count": 11,
   "metadata": {},
   "outputs": [],
   "source": [
    "X_train, X_test, y_train, y_test = train_test_split(X, y, test_size=0.2, random_state=45)"
   ]
  },
  {
   "cell_type": "code",
   "execution_count": 12,
   "metadata": {},
   "outputs": [
    {
     "name": "stdout",
     "output_type": "stream",
     "text": [
      "Fitting 5 folds for each of 7776 candidates, totalling 38880 fits\n"
     ]
    },
    {
     "name": "stderr",
     "output_type": "stream",
     "text": [
      "c:\\Users\\cvaal\\anaconda3\\lib\\site-packages\\xgboost\\sklearn.py:1224: UserWarning: The use of label encoder in XGBClassifier is deprecated and will be removed in a future release. To remove this warning, do the following: 1) Pass option use_label_encoder=False when constructing XGBClassifier object; and 2) Encode your labels (y) as integers starting with 0, i.e. 0, 1, 2, ..., [num_class - 1].\n",
      "  warnings.warn(label_encoder_deprecation_msg, UserWarning)\n"
     ]
    },
    {
     "name": "stdout",
     "output_type": "stream",
     "text": [
      "[12:46:28] WARNING: C:/Users/Administrator/workspace/xgboost-win64_release_1.5.1/src/learner.cc:1115: Starting in XGBoost 1.3.0, the default evaluation metric used with the objective 'binary:logistic' was changed from 'error' to 'logloss'. Explicitly set eval_metric if you'd like to restore the old behavior.\n"
     ]
    },
    {
     "data": {
      "text/html": [
       "<style>#sk-container-id-1 {color: black;background-color: white;}#sk-container-id-1 pre{padding: 0;}#sk-container-id-1 div.sk-toggleable {background-color: white;}#sk-container-id-1 label.sk-toggleable__label {cursor: pointer;display: block;width: 100%;margin-bottom: 0;padding: 0.3em;box-sizing: border-box;text-align: center;}#sk-container-id-1 label.sk-toggleable__label-arrow:before {content: \"▸\";float: left;margin-right: 0.25em;color: #696969;}#sk-container-id-1 label.sk-toggleable__label-arrow:hover:before {color: black;}#sk-container-id-1 div.sk-estimator:hover label.sk-toggleable__label-arrow:before {color: black;}#sk-container-id-1 div.sk-toggleable__content {max-height: 0;max-width: 0;overflow: hidden;text-align: left;background-color: #f0f8ff;}#sk-container-id-1 div.sk-toggleable__content pre {margin: 0.2em;color: black;border-radius: 0.25em;background-color: #f0f8ff;}#sk-container-id-1 input.sk-toggleable__control:checked~div.sk-toggleable__content {max-height: 200px;max-width: 100%;overflow: auto;}#sk-container-id-1 input.sk-toggleable__control:checked~label.sk-toggleable__label-arrow:before {content: \"▾\";}#sk-container-id-1 div.sk-estimator input.sk-toggleable__control:checked~label.sk-toggleable__label {background-color: #d4ebff;}#sk-container-id-1 div.sk-label input.sk-toggleable__control:checked~label.sk-toggleable__label {background-color: #d4ebff;}#sk-container-id-1 input.sk-hidden--visually {border: 0;clip: rect(1px 1px 1px 1px);clip: rect(1px, 1px, 1px, 1px);height: 1px;margin: -1px;overflow: hidden;padding: 0;position: absolute;width: 1px;}#sk-container-id-1 div.sk-estimator {font-family: monospace;background-color: #f0f8ff;border: 1px dotted black;border-radius: 0.25em;box-sizing: border-box;margin-bottom: 0.5em;}#sk-container-id-1 div.sk-estimator:hover {background-color: #d4ebff;}#sk-container-id-1 div.sk-parallel-item::after {content: \"\";width: 100%;border-bottom: 1px solid gray;flex-grow: 1;}#sk-container-id-1 div.sk-label:hover label.sk-toggleable__label {background-color: #d4ebff;}#sk-container-id-1 div.sk-serial::before {content: \"\";position: absolute;border-left: 1px solid gray;box-sizing: border-box;top: 0;bottom: 0;left: 50%;z-index: 0;}#sk-container-id-1 div.sk-serial {display: flex;flex-direction: column;align-items: center;background-color: white;padding-right: 0.2em;padding-left: 0.2em;position: relative;}#sk-container-id-1 div.sk-item {position: relative;z-index: 1;}#sk-container-id-1 div.sk-parallel {display: flex;align-items: stretch;justify-content: center;background-color: white;position: relative;}#sk-container-id-1 div.sk-item::before, #sk-container-id-1 div.sk-parallel-item::before {content: \"\";position: absolute;border-left: 1px solid gray;box-sizing: border-box;top: 0;bottom: 0;left: 50%;z-index: -1;}#sk-container-id-1 div.sk-parallel-item {display: flex;flex-direction: column;z-index: 1;position: relative;background-color: white;}#sk-container-id-1 div.sk-parallel-item:first-child::after {align-self: flex-end;width: 50%;}#sk-container-id-1 div.sk-parallel-item:last-child::after {align-self: flex-start;width: 50%;}#sk-container-id-1 div.sk-parallel-item:only-child::after {width: 0;}#sk-container-id-1 div.sk-dashed-wrapped {border: 1px dashed gray;margin: 0 0.4em 0.5em 0.4em;box-sizing: border-box;padding-bottom: 0.4em;background-color: white;}#sk-container-id-1 div.sk-label label {font-family: monospace;font-weight: bold;display: inline-block;line-height: 1.2em;}#sk-container-id-1 div.sk-label-container {text-align: center;}#sk-container-id-1 div.sk-container {/* jupyter's `normalize.less` sets `[hidden] { display: none; }` but bootstrap.min.css set `[hidden] { display: none !important; }` so we also need the `!important` here to be able to override the default hidden behavior on the sphinx rendered scikit-learn.org. See: https://github.com/scikit-learn/scikit-learn/issues/21755 */display: inline-block !important;position: relative;}#sk-container-id-1 div.sk-text-repr-fallback {display: none;}</style><div id=\"sk-container-id-1\" class=\"sk-top-container\"><div class=\"sk-text-repr-fallback\"><pre>Pipeline(steps=[(&#x27;preprocessor&#x27;,\n",
       "                 ColumnTransformer(transformers=[(&#x27;standard_scaler&#x27;,\n",
       "                                                  StandardScaler(),\n",
       "                                                  [&#x27;Page rank decimal&#x27;,\n",
       "                                                   &#x27;Site Rank&#x27;,\n",
       "                                                   &#x27;Total links&#x27;]),\n",
       "                                                 (&#x27;one_hot_encoder&#x27;,\n",
       "                                                  OneHotEncoder(handle_unknown=&#x27;ignore&#x27;,\n",
       "                                                                sparse=False),\n",
       "                                                  [&#x27;Postal code&#x27;,\n",
       "                                                   &#x27;Country of origin&#x27;]),\n",
       "                                                 (&#x27;label_encoder&#x27;,\n",
       "                                                  OrdinalEncoder(),\n",
       "                                                  [&#x27;Wordpress?&#x27;,\n",
       "                                                   &#x27;Malicious&#x27;])])),\n",
       "                (&#x27;XGBoost&#x27;,\n",
       "                 GridSearchCV(cv=5,\n",
       "                              estima...\n",
       "                                                      scale_pos_weight=None,\n",
       "                                                      subsample=None,\n",
       "                                                      tree_method=None,\n",
       "                                                      validate_parameters=None,\n",
       "                                                      verbosity=None),\n",
       "                              n_jobs=5,\n",
       "                              param_grid={&#x27;colsample_bytree&#x27;: [0.3, 0.4, 0.5,\n",
       "                                                               0.7, 0.9, 0.11],\n",
       "                                          &#x27;gamma&#x27;: [0.0, 0.1, 0.2, 0.3, 0.4,\n",
       "                                                    0.5],\n",
       "                                          &#x27;learning_rate&#x27;: [0.01, 0.05, 0.1,\n",
       "                                                            0.15, 0.2, 0.25],\n",
       "                                          &#x27;max_depth&#x27;: [3, 4, 5, 6, 9, 12],\n",
       "                                          &#x27;min_child_weight&#x27;: [1, 3, 5, 7, 9,\n",
       "                                                               11]},\n",
       "                              return_train_score=True, scoring=&#x27;roc_auc&#x27;,\n",
       "                              verbose=True))])</pre><b>In a Jupyter environment, please rerun this cell to show the HTML representation or trust the notebook. <br />On GitHub, the HTML representation is unable to render, please try loading this page with nbviewer.org.</b></div><div class=\"sk-container\" hidden><div class=\"sk-item sk-dashed-wrapped\"><div class=\"sk-label-container\"><div class=\"sk-label sk-toggleable\"><input class=\"sk-toggleable__control sk-hidden--visually\" id=\"sk-estimator-id-1\" type=\"checkbox\" ><label for=\"sk-estimator-id-1\" class=\"sk-toggleable__label sk-toggleable__label-arrow\">Pipeline</label><div class=\"sk-toggleable__content\"><pre>Pipeline(steps=[(&#x27;preprocessor&#x27;,\n",
       "                 ColumnTransformer(transformers=[(&#x27;standard_scaler&#x27;,\n",
       "                                                  StandardScaler(),\n",
       "                                                  [&#x27;Page rank decimal&#x27;,\n",
       "                                                   &#x27;Site Rank&#x27;,\n",
       "                                                   &#x27;Total links&#x27;]),\n",
       "                                                 (&#x27;one_hot_encoder&#x27;,\n",
       "                                                  OneHotEncoder(handle_unknown=&#x27;ignore&#x27;,\n",
       "                                                                sparse=False),\n",
       "                                                  [&#x27;Postal code&#x27;,\n",
       "                                                   &#x27;Country of origin&#x27;]),\n",
       "                                                 (&#x27;label_encoder&#x27;,\n",
       "                                                  OrdinalEncoder(),\n",
       "                                                  [&#x27;Wordpress?&#x27;,\n",
       "                                                   &#x27;Malicious&#x27;])])),\n",
       "                (&#x27;XGBoost&#x27;,\n",
       "                 GridSearchCV(cv=5,\n",
       "                              estima...\n",
       "                                                      scale_pos_weight=None,\n",
       "                                                      subsample=None,\n",
       "                                                      tree_method=None,\n",
       "                                                      validate_parameters=None,\n",
       "                                                      verbosity=None),\n",
       "                              n_jobs=5,\n",
       "                              param_grid={&#x27;colsample_bytree&#x27;: [0.3, 0.4, 0.5,\n",
       "                                                               0.7, 0.9, 0.11],\n",
       "                                          &#x27;gamma&#x27;: [0.0, 0.1, 0.2, 0.3, 0.4,\n",
       "                                                    0.5],\n",
       "                                          &#x27;learning_rate&#x27;: [0.01, 0.05, 0.1,\n",
       "                                                            0.15, 0.2, 0.25],\n",
       "                                          &#x27;max_depth&#x27;: [3, 4, 5, 6, 9, 12],\n",
       "                                          &#x27;min_child_weight&#x27;: [1, 3, 5, 7, 9,\n",
       "                                                               11]},\n",
       "                              return_train_score=True, scoring=&#x27;roc_auc&#x27;,\n",
       "                              verbose=True))])</pre></div></div></div><div class=\"sk-serial\"><div class=\"sk-item sk-dashed-wrapped\"><div class=\"sk-label-container\"><div class=\"sk-label sk-toggleable\"><input class=\"sk-toggleable__control sk-hidden--visually\" id=\"sk-estimator-id-2\" type=\"checkbox\" ><label for=\"sk-estimator-id-2\" class=\"sk-toggleable__label sk-toggleable__label-arrow\">preprocessor: ColumnTransformer</label><div class=\"sk-toggleable__content\"><pre>ColumnTransformer(transformers=[(&#x27;standard_scaler&#x27;, StandardScaler(),\n",
       "                                 [&#x27;Page rank decimal&#x27;, &#x27;Site Rank&#x27;,\n",
       "                                  &#x27;Total links&#x27;]),\n",
       "                                (&#x27;one_hot_encoder&#x27;,\n",
       "                                 OneHotEncoder(handle_unknown=&#x27;ignore&#x27;,\n",
       "                                               sparse=False),\n",
       "                                 [&#x27;Postal code&#x27;, &#x27;Country of origin&#x27;]),\n",
       "                                (&#x27;label_encoder&#x27;, OrdinalEncoder(),\n",
       "                                 [&#x27;Wordpress?&#x27;, &#x27;Malicious&#x27;])])</pre></div></div></div><div class=\"sk-parallel\"><div class=\"sk-parallel-item\"><div class=\"sk-item\"><div class=\"sk-label-container\"><div class=\"sk-label sk-toggleable\"><input class=\"sk-toggleable__control sk-hidden--visually\" id=\"sk-estimator-id-3\" type=\"checkbox\" ><label for=\"sk-estimator-id-3\" class=\"sk-toggleable__label sk-toggleable__label-arrow\">standard_scaler</label><div class=\"sk-toggleable__content\"><pre>[&#x27;Page rank decimal&#x27;, &#x27;Site Rank&#x27;, &#x27;Total links&#x27;]</pre></div></div></div><div class=\"sk-serial\"><div class=\"sk-item\"><div class=\"sk-estimator sk-toggleable\"><input class=\"sk-toggleable__control sk-hidden--visually\" id=\"sk-estimator-id-4\" type=\"checkbox\" ><label for=\"sk-estimator-id-4\" class=\"sk-toggleable__label sk-toggleable__label-arrow\">StandardScaler</label><div class=\"sk-toggleable__content\"><pre>StandardScaler()</pre></div></div></div></div></div></div><div class=\"sk-parallel-item\"><div class=\"sk-item\"><div class=\"sk-label-container\"><div class=\"sk-label sk-toggleable\"><input class=\"sk-toggleable__control sk-hidden--visually\" id=\"sk-estimator-id-5\" type=\"checkbox\" ><label for=\"sk-estimator-id-5\" class=\"sk-toggleable__label sk-toggleable__label-arrow\">one_hot_encoder</label><div class=\"sk-toggleable__content\"><pre>[&#x27;Postal code&#x27;, &#x27;Country of origin&#x27;]</pre></div></div></div><div class=\"sk-serial\"><div class=\"sk-item\"><div class=\"sk-estimator sk-toggleable\"><input class=\"sk-toggleable__control sk-hidden--visually\" id=\"sk-estimator-id-6\" type=\"checkbox\" ><label for=\"sk-estimator-id-6\" class=\"sk-toggleable__label sk-toggleable__label-arrow\">OneHotEncoder</label><div class=\"sk-toggleable__content\"><pre>OneHotEncoder(handle_unknown=&#x27;ignore&#x27;, sparse=False)</pre></div></div></div></div></div></div><div class=\"sk-parallel-item\"><div class=\"sk-item\"><div class=\"sk-label-container\"><div class=\"sk-label sk-toggleable\"><input class=\"sk-toggleable__control sk-hidden--visually\" id=\"sk-estimator-id-7\" type=\"checkbox\" ><label for=\"sk-estimator-id-7\" class=\"sk-toggleable__label sk-toggleable__label-arrow\">label_encoder</label><div class=\"sk-toggleable__content\"><pre>[&#x27;Wordpress?&#x27;, &#x27;Malicious&#x27;]</pre></div></div></div><div class=\"sk-serial\"><div class=\"sk-item\"><div class=\"sk-estimator sk-toggleable\"><input class=\"sk-toggleable__control sk-hidden--visually\" id=\"sk-estimator-id-8\" type=\"checkbox\" ><label for=\"sk-estimator-id-8\" class=\"sk-toggleable__label sk-toggleable__label-arrow\">OrdinalEncoder</label><div class=\"sk-toggleable__content\"><pre>OrdinalEncoder()</pre></div></div></div></div></div></div></div></div><div class=\"sk-item sk-dashed-wrapped\"><div class=\"sk-label-container\"><div class=\"sk-label sk-toggleable\"><input class=\"sk-toggleable__control sk-hidden--visually\" id=\"sk-estimator-id-9\" type=\"checkbox\" ><label for=\"sk-estimator-id-9\" class=\"sk-toggleable__label sk-toggleable__label-arrow\">XGBoost: GridSearchCV</label><div class=\"sk-toggleable__content\"><pre>GridSearchCV(cv=5,\n",
       "             estimator=XGBClassifier(base_score=None, booster=None,\n",
       "                                     colsample_bylevel=None,\n",
       "                                     colsample_bynode=None,\n",
       "                                     colsample_bytree=None,\n",
       "                                     enable_categorical=False, gamma=None,\n",
       "                                     gpu_id=None, importance_type=None,\n",
       "                                     interaction_constraints=None,\n",
       "                                     learning_rate=None, max_delta_step=None,\n",
       "                                     max_depth=None, min_child_weight=None,\n",
       "                                     missing=nan, monotone_constraints=None,...\n",
       "                                     reg_lambda=None, scale_pos_weight=None,\n",
       "                                     subsample=None, tree_method=None,\n",
       "                                     validate_parameters=None, verbosity=None),\n",
       "             n_jobs=5,\n",
       "             param_grid={&#x27;colsample_bytree&#x27;: [0.3, 0.4, 0.5, 0.7, 0.9, 0.11],\n",
       "                         &#x27;gamma&#x27;: [0.0, 0.1, 0.2, 0.3, 0.4, 0.5],\n",
       "                         &#x27;learning_rate&#x27;: [0.01, 0.05, 0.1, 0.15, 0.2, 0.25],\n",
       "                         &#x27;max_depth&#x27;: [3, 4, 5, 6, 9, 12],\n",
       "                         &#x27;min_child_weight&#x27;: [1, 3, 5, 7, 9, 11]},\n",
       "             return_train_score=True, scoring=&#x27;roc_auc&#x27;, verbose=True)</pre></div></div></div><div class=\"sk-parallel\"><div class=\"sk-parallel-item\"><div class=\"sk-item\"><div class=\"sk-label-container\"><div class=\"sk-label sk-toggleable\"><input class=\"sk-toggleable__control sk-hidden--visually\" id=\"sk-estimator-id-10\" type=\"checkbox\" ><label for=\"sk-estimator-id-10\" class=\"sk-toggleable__label sk-toggleable__label-arrow\">estimator: XGBClassifier</label><div class=\"sk-toggleable__content\"><pre>XGBClassifier(base_score=None, booster=None, colsample_bylevel=None,\n",
       "              colsample_bynode=None, colsample_bytree=None,\n",
       "              enable_categorical=False, gamma=None, gpu_id=None,\n",
       "              importance_type=None, interaction_constraints=None,\n",
       "              learning_rate=None, max_delta_step=None, max_depth=None,\n",
       "              min_child_weight=None, missing=nan, monotone_constraints=None,\n",
       "              n_estimators=100, n_jobs=None, num_parallel_tree=None,\n",
       "              predictor=None, random_state=None, reg_alpha=None,\n",
       "              reg_lambda=None, scale_pos_weight=None, subsample=None,\n",
       "              tree_method=None, validate_parameters=None, verbosity=None)</pre></div></div></div><div class=\"sk-serial\"><div class=\"sk-item\"><div class=\"sk-estimator sk-toggleable\"><input class=\"sk-toggleable__control sk-hidden--visually\" id=\"sk-estimator-id-11\" type=\"checkbox\" ><label for=\"sk-estimator-id-11\" class=\"sk-toggleable__label sk-toggleable__label-arrow\">XGBClassifier</label><div class=\"sk-toggleable__content\"><pre>XGBClassifier(base_score=None, booster=None, colsample_bylevel=None,\n",
       "              colsample_bynode=None, colsample_bytree=None,\n",
       "              enable_categorical=False, gamma=None, gpu_id=None,\n",
       "              importance_type=None, interaction_constraints=None,\n",
       "              learning_rate=None, max_delta_step=None, max_depth=None,\n",
       "              min_child_weight=None, missing=nan, monotone_constraints=None,\n",
       "              n_estimators=100, n_jobs=None, num_parallel_tree=None,\n",
       "              predictor=None, random_state=None, reg_alpha=None,\n",
       "              reg_lambda=None, scale_pos_weight=None, subsample=None,\n",
       "              tree_method=None, validate_parameters=None, verbosity=None)</pre></div></div></div></div></div></div></div></div></div></div></div></div>"
      ],
      "text/plain": [
       "Pipeline(steps=[('preprocessor',\n",
       "                 ColumnTransformer(transformers=[('standard_scaler',\n",
       "                                                  StandardScaler(),\n",
       "                                                  ['Page rank decimal',\n",
       "                                                   'Site Rank',\n",
       "                                                   'Total links']),\n",
       "                                                 ('one_hot_encoder',\n",
       "                                                  OneHotEncoder(handle_unknown='ignore',\n",
       "                                                                sparse=False),\n",
       "                                                  ['Postal code',\n",
       "                                                   'Country of origin']),\n",
       "                                                 ('label_encoder',\n",
       "                                                  OrdinalEncoder(),\n",
       "                                                  ['Wordpress?',\n",
       "                                                   'Malicious'])])),\n",
       "                ('XGBoost',\n",
       "                 GridSearchCV(cv=5,\n",
       "                              estima...\n",
       "                                                      scale_pos_weight=None,\n",
       "                                                      subsample=None,\n",
       "                                                      tree_method=None,\n",
       "                                                      validate_parameters=None,\n",
       "                                                      verbosity=None),\n",
       "                              n_jobs=5,\n",
       "                              param_grid={'colsample_bytree': [0.3, 0.4, 0.5,\n",
       "                                                               0.7, 0.9, 0.11],\n",
       "                                          'gamma': [0.0, 0.1, 0.2, 0.3, 0.4,\n",
       "                                                    0.5],\n",
       "                                          'learning_rate': [0.01, 0.05, 0.1,\n",
       "                                                            0.15, 0.2, 0.25],\n",
       "                                          'max_depth': [3, 4, 5, 6, 9, 12],\n",
       "                                          'min_child_weight': [1, 3, 5, 7, 9,\n",
       "                                                               11]},\n",
       "                              return_train_score=True, scoring='roc_auc',\n",
       "                              verbose=True))])"
      ]
     },
     "execution_count": 12,
     "metadata": {},
     "output_type": "execute_result"
    }
   ],
   "source": [
    "clfXGB_gs = Pipeline(steps = [('preprocessor', ct), ('XGBoost', grid_search)])\n",
    "clfXGB_gs.fit(X_train, y_train)\n"
   ]
  },
  {
   "cell_type": "code",
   "execution_count": 13,
   "metadata": {},
   "outputs": [],
   "source": [
    "import matplotlib.pyplot as plt\n",
    "def plot_search_results(grid):\n",
    "    \"\"\"\n",
    "    Params: \n",
    "        grid: A trained GridSearchCV object.\n",
    "    \"\"\"\n",
    "    ## Results from grid search\n",
    "    results = grid.cv_results_\n",
    "    means_test = results['mean_test_score']\n",
    "    stds_test = results['std_test_score']\n",
    "    means_train = results['mean_train_score']\n",
    "    stds_train = results['std_train_score']\n",
    "\n",
    "    ## Getting indexes of values per hyper-parameter\n",
    "    masks=[]\n",
    "    masks_names= list(grid.best_params_.keys())\n",
    "    for p_k, p_v in grid.best_params_.items():\n",
    "        masks.append(list(results['param_'+p_k].data==p_v))\n",
    "\n",
    "    params=grid.param_grid\n",
    "\n",
    "    ## Ploting results\n",
    "    fig, ax = plt.subplots(1,len(params),sharex='none', sharey='none',figsize=(30,6))\n",
    "    fig.suptitle('Score per parameter')\n",
    "    fig.text(0.04, 0.5, 'MEAN SCORE', va='center', rotation='vertical')\n",
    "    pram_preformace_in_best = {}\n",
    "    for i, p in enumerate(masks_names):\n",
    "        m = np.stack(masks[:i] + masks[i+1:])\n",
    "        pram_preformace_in_best\n",
    "        best_parms_mask = m.all(axis=0)\n",
    "        best_index = np.where(best_parms_mask)[0]\n",
    "        x = np.array(params[p])\n",
    "        y_1 = np.array(means_test[best_index])\n",
    "        e_1 = np.array(stds_test[best_index])\n",
    "        y_2 = np.array(means_train[best_index])\n",
    "        e_2 = np.array(stds_train[best_index])\n",
    "        ax[i].errorbar(x, y_1, e_1, linestyle='--', marker='o', label='test')\n",
    "        ax[i].errorbar(x, y_2, e_2, linestyle='-', marker='^',label='train' )\n",
    "        ax[i].set_xlabel(p.upper())\n",
    "\n",
    "    plt.legend()\n",
    "    plt.show()"
   ]
  },
  {
   "cell_type": "code",
   "execution_count": 14,
   "metadata": {},
   "outputs": [
    {
     "data": {
      "image/png": "[encoded data removed]",
      "text/plain": [
       "<Figure size 2160x432 with 5 Axes>"
      ]
     },
     "metadata": {
      "needs_background": "light"
     },
     "output_type": "display_data"
    }
   ],
   "source": [
    "plot_search_results(grid_search)"
   ]
  },
  {
   "cell_type": "code",
   "execution_count": 15,
   "metadata": {},
   "outputs": [
    {
     "data": {
      "text/plain": [
       "{'colsample_bytree': 0.4,\n",
       " 'gamma': 0.3,\n",
       " 'learning_rate': 0.01,\n",
       " 'max_depth': 3,\n",
       " 'min_child_weight': 3}"
      ]
     },
     "execution_count": 15,
     "metadata": {},
     "output_type": "execute_result"
    }
   ],
   "source": [
    "grid_search.best_params_"
   ]
  },
  {
   "cell_type": "code",
   "execution_count": 16,
   "metadata": {},
   "outputs": [
    {
     "data": {
      "text/plain": [
       "0.954368530020704"
      ]
     },
     "execution_count": 16,
     "metadata": {},
     "output_type": "execute_result"
    }
   ],
   "source": [
    "grid_search.best_score_"
   ]
  },
  {
   "cell_type": "code",
   "execution_count": 17,
   "metadata": {},
   "outputs": [],
   "source": [
    "cv_df = pd.DataFrame(grid_search.cv_results_)"
   ]
  },
  {
   "cell_type": "code",
   "execution_count": 32,
   "metadata": {},
   "outputs": [],
   "source": [
    "cv_df= cv_df.drop('params', axis=1)"
   ]
  },
  {
   "cell_type": "code",
   "execution_count": 33,
   "metadata": {},
   "outputs": [
    {
     "data": {
      "text/html": [
       "<div>\n",
       "<style scoped>\n",
       "    .dataframe tbody tr th:only-of-type {\n",
       "        vertical-align: middle;\n",
       "    }\n",
       "\n",
       "    .dataframe tbody tr th {\n",
       "        vertical-align: top;\n",
       "    }\n",
       "\n",
       "    .dataframe thead th {\n",
       "        text-align: right;\n",
       "    }\n",
       "</style>\n",
       "<table border=\"1\" class=\"dataframe\">\n",
       "  <thead>\n",
       "    <tr style=\"text-align: right;\">\n",
       "      <th></th>\n",
       "      <th>mean_fit_time</th>\n",
       "      <th>std_fit_time</th>\n",
       "      <th>mean_score_time</th>\n",
       "      <th>std_score_time</th>\n",
       "      <th>param_colsample_bytree</th>\n",
       "      <th>param_gamma</th>\n",
       "      <th>param_learning_rate</th>\n",
       "      <th>param_max_depth</th>\n",
       "      <th>param_min_child_weight</th>\n",
       "      <th>split0_test_score</th>\n",
       "      <th>...</th>\n",
       "      <th>mean_test_score</th>\n",
       "      <th>std_test_score</th>\n",
       "      <th>rank_test_score</th>\n",
       "      <th>split0_train_score</th>\n",
       "      <th>split1_train_score</th>\n",
       "      <th>split2_train_score</th>\n",
       "      <th>split3_train_score</th>\n",
       "      <th>split4_train_score</th>\n",
       "      <th>mean_train_score</th>\n",
       "      <th>std_train_score</th>\n",
       "    </tr>\n",
       "  </thead>\n",
       "  <tbody>\n",
       "    <tr>\n",
       "      <th>0</th>\n",
       "      <td>0.184170</td>\n",
       "      <td>0.013064</td>\n",
       "      <td>0.004792</td>\n",
       "      <td>0.000748</td>\n",
       "      <td>0.3</td>\n",
       "      <td>0.0</td>\n",
       "      <td>0.01</td>\n",
       "      <td>3</td>\n",
       "      <td>1</td>\n",
       "      <td>0.930435</td>\n",
       "      <td>...</td>\n",
       "      <td>0.944783</td>\n",
       "      <td>0.032642</td>\n",
       "      <td>2239</td>\n",
       "      <td>0.977873</td>\n",
       "      <td>0.979405</td>\n",
       "      <td>0.975114</td>\n",
       "      <td>0.973112</td>\n",
       "      <td>0.978547</td>\n",
       "      <td>0.976810</td>\n",
       "      <td>0.002342</td>\n",
       "    </tr>\n",
       "    <tr>\n",
       "      <th>1</th>\n",
       "      <td>0.114095</td>\n",
       "      <td>0.006451</td>\n",
       "      <td>0.003790</td>\n",
       "      <td>0.000747</td>\n",
       "      <td>0.3</td>\n",
       "      <td>0.0</td>\n",
       "      <td>0.01</td>\n",
       "      <td>3</td>\n",
       "      <td>3</td>\n",
       "      <td>0.930435</td>\n",
       "      <td>...</td>\n",
       "      <td>0.949130</td>\n",
       "      <td>0.027620</td>\n",
       "      <td>667</td>\n",
       "      <td>0.973700</td>\n",
       "      <td>0.971110</td>\n",
       "      <td>0.967010</td>\n",
       "      <td>0.969108</td>\n",
       "      <td>0.980454</td>\n",
       "      <td>0.972276</td>\n",
       "      <td>0.004648</td>\n",
       "    </tr>\n",
       "    <tr>\n",
       "      <th>2</th>\n",
       "      <td>0.096375</td>\n",
       "      <td>0.005381</td>\n",
       "      <td>0.004096</td>\n",
       "      <td>0.001023</td>\n",
       "      <td>0.3</td>\n",
       "      <td>0.0</td>\n",
       "      <td>0.01</td>\n",
       "      <td>3</td>\n",
       "      <td>5</td>\n",
       "      <td>0.933333</td>\n",
       "      <td>...</td>\n",
       "      <td>0.951573</td>\n",
       "      <td>0.025011</td>\n",
       "      <td>220</td>\n",
       "      <td>0.965644</td>\n",
       "      <td>0.966438</td>\n",
       "      <td>0.960336</td>\n",
       "      <td>0.961194</td>\n",
       "      <td>0.974066</td>\n",
       "      <td>0.965535</td>\n",
       "      <td>0.004888</td>\n",
       "    </tr>\n",
       "    <tr>\n",
       "      <th>3</th>\n",
       "      <td>0.090215</td>\n",
       "      <td>0.005415</td>\n",
       "      <td>0.004300</td>\n",
       "      <td>0.000875</td>\n",
       "      <td>0.3</td>\n",
       "      <td>0.0</td>\n",
       "      <td>0.01</td>\n",
       "      <td>3</td>\n",
       "      <td>7</td>\n",
       "      <td>0.939130</td>\n",
       "      <td>...</td>\n",
       "      <td>0.948075</td>\n",
       "      <td>0.024684</td>\n",
       "      <td>1043</td>\n",
       "      <td>0.957007</td>\n",
       "      <td>0.962719</td>\n",
       "      <td>0.954710</td>\n",
       "      <td>0.953375</td>\n",
       "      <td>0.963577</td>\n",
       "      <td>0.958278</td>\n",
       "      <td>0.004152</td>\n",
       "    </tr>\n",
       "    <tr>\n",
       "      <th>4</th>\n",
       "      <td>0.078180</td>\n",
       "      <td>0.009761</td>\n",
       "      <td>0.004886</td>\n",
       "      <td>0.001116</td>\n",
       "      <td>0.3</td>\n",
       "      <td>0.0</td>\n",
       "      <td>0.01</td>\n",
       "      <td>3</td>\n",
       "      <td>9</td>\n",
       "      <td>0.908696</td>\n",
       "      <td>...</td>\n",
       "      <td>0.936087</td>\n",
       "      <td>0.030059</td>\n",
       "      <td>5536</td>\n",
       "      <td>0.951572</td>\n",
       "      <td>0.952136</td>\n",
       "      <td>0.948036</td>\n",
       "      <td>0.943078</td>\n",
       "      <td>0.954901</td>\n",
       "      <td>0.949944</td>\n",
       "      <td>0.004070</td>\n",
       "    </tr>\n",
       "    <tr>\n",
       "      <th>...</th>\n",
       "      <td>...</td>\n",
       "      <td>...</td>\n",
       "      <td>...</td>\n",
       "      <td>...</td>\n",
       "      <td>...</td>\n",
       "      <td>...</td>\n",
       "      <td>...</td>\n",
       "      <td>...</td>\n",
       "      <td>...</td>\n",
       "      <td>...</td>\n",
       "      <td>...</td>\n",
       "      <td>...</td>\n",
       "      <td>...</td>\n",
       "      <td>...</td>\n",
       "      <td>...</td>\n",
       "      <td>...</td>\n",
       "      <td>...</td>\n",
       "      <td>...</td>\n",
       "      <td>...</td>\n",
       "      <td>...</td>\n",
       "      <td>...</td>\n",
       "    </tr>\n",
       "    <tr>\n",
       "      <th>7771</th>\n",
       "      <td>0.113555</td>\n",
       "      <td>0.008101</td>\n",
       "      <td>0.003904</td>\n",
       "      <td>0.000373</td>\n",
       "      <td>0.11</td>\n",
       "      <td>0.5</td>\n",
       "      <td>0.25</td>\n",
       "      <td>12</td>\n",
       "      <td>3</td>\n",
       "      <td>0.930435</td>\n",
       "      <td>...</td>\n",
       "      <td>0.948199</td>\n",
       "      <td>0.030338</td>\n",
       "      <td>951</td>\n",
       "      <td>0.972535</td>\n",
       "      <td>0.969394</td>\n",
       "      <td>0.967010</td>\n",
       "      <td>0.967868</td>\n",
       "      <td>0.981217</td>\n",
       "      <td>0.971605</td>\n",
       "      <td>0.005162</td>\n",
       "    </tr>\n",
       "    <tr>\n",
       "      <th>7772</th>\n",
       "      <td>0.103889</td>\n",
       "      <td>0.026507</td>\n",
       "      <td>0.003999</td>\n",
       "      <td>0.000542</td>\n",
       "      <td>0.11</td>\n",
       "      <td>0.5</td>\n",
       "      <td>0.25</td>\n",
       "      <td>12</td>\n",
       "      <td>5</td>\n",
       "      <td>0.930435</td>\n",
       "      <td>...</td>\n",
       "      <td>0.950062</td>\n",
       "      <td>0.023669</td>\n",
       "      <td>498</td>\n",
       "      <td>0.968265</td>\n",
       "      <td>0.965103</td>\n",
       "      <td>0.959001</td>\n",
       "      <td>0.960812</td>\n",
       "      <td>0.973970</td>\n",
       "      <td>0.965430</td>\n",
       "      <td>0.005362</td>\n",
       "    </tr>\n",
       "    <tr>\n",
       "      <th>7773</th>\n",
       "      <td>0.105989</td>\n",
       "      <td>0.022628</td>\n",
       "      <td>0.004383</td>\n",
       "      <td>0.001020</td>\n",
       "      <td>0.11</td>\n",
       "      <td>0.5</td>\n",
       "      <td>0.25</td>\n",
       "      <td>12</td>\n",
       "      <td>7</td>\n",
       "      <td>0.930435</td>\n",
       "      <td>...</td>\n",
       "      <td>0.942609</td>\n",
       "      <td>0.035100</td>\n",
       "      <td>3153</td>\n",
       "      <td>0.960016</td>\n",
       "      <td>0.959859</td>\n",
       "      <td>0.953471</td>\n",
       "      <td>0.952326</td>\n",
       "      <td>0.967487</td>\n",
       "      <td>0.958632</td>\n",
       "      <td>0.005445</td>\n",
       "    </tr>\n",
       "    <tr>\n",
       "      <th>7774</th>\n",
       "      <td>0.085988</td>\n",
       "      <td>0.017401</td>\n",
       "      <td>0.003391</td>\n",
       "      <td>0.000489</td>\n",
       "      <td>0.11</td>\n",
       "      <td>0.5</td>\n",
       "      <td>0.25</td>\n",
       "      <td>12</td>\n",
       "      <td>9</td>\n",
       "      <td>0.918841</td>\n",
       "      <td>...</td>\n",
       "      <td>0.941222</td>\n",
       "      <td>0.032826</td>\n",
       "      <td>3508</td>\n",
       "      <td>0.956328</td>\n",
       "      <td>0.946034</td>\n",
       "      <td>0.940885</td>\n",
       "      <td>0.949180</td>\n",
       "      <td>0.960240</td>\n",
       "      <td>0.950533</td>\n",
       "      <td>0.006971</td>\n",
       "    </tr>\n",
       "    <tr>\n",
       "      <th>7775</th>\n",
       "      <td>0.067155</td>\n",
       "      <td>0.010189</td>\n",
       "      <td>0.004392</td>\n",
       "      <td>0.001023</td>\n",
       "      <td>0.11</td>\n",
       "      <td>0.5</td>\n",
       "      <td>0.25</td>\n",
       "      <td>12</td>\n",
       "      <td>11</td>\n",
       "      <td>0.913043</td>\n",
       "      <td>...</td>\n",
       "      <td>0.944410</td>\n",
       "      <td>0.034392</td>\n",
       "      <td>2418</td>\n",
       "      <td>0.946429</td>\n",
       "      <td>0.937262</td>\n",
       "      <td>0.938787</td>\n",
       "      <td>0.942220</td>\n",
       "      <td>0.959859</td>\n",
       "      <td>0.944911</td>\n",
       "      <td>0.008112</td>\n",
       "    </tr>\n",
       "  </tbody>\n",
       "</table>\n",
       "<p>7776 rows × 24 columns</p>\n",
       "</div>"
      ],
      "text/plain": [
       "      mean_fit_time  std_fit_time  mean_score_time  std_score_time  \\\n",
       "0          0.184170      0.013064         0.004792        0.000748   \n",
       "1          0.114095      0.006451         0.003790        0.000747   \n",
       "2          0.096375      0.005381         0.004096        0.001023   \n",
       "3          0.090215      0.005415         0.004300        0.000875   \n",
       "4          0.078180      0.009761         0.004886        0.001116   \n",
       "...             ...           ...              ...             ...   \n",
       "7771       0.113555      0.008101         0.003904        0.000373   \n",
       "7772       0.103889      0.026507         0.003999        0.000542   \n",
       "7773       0.105989      0.022628         0.004383        0.001020   \n",
       "7774       0.085988      0.017401         0.003391        0.000489   \n",
       "7775       0.067155      0.010189         0.004392        0.001023   \n",
       "\n",
       "     param_colsample_bytree param_gamma param_learning_rate param_max_depth  \\\n",
       "0                       0.3         0.0                0.01               3   \n",
       "1                       0.3         0.0                0.01               3   \n",
       "2                       0.3         0.0                0.01               3   \n",
       "3                       0.3         0.0                0.01               3   \n",
       "4                       0.3         0.0                0.01               3   \n",
       "...                     ...         ...                 ...             ...   \n",
       "7771                   0.11         0.5                0.25              12   \n",
       "7772                   0.11         0.5                0.25              12   \n",
       "7773                   0.11         0.5                0.25              12   \n",
       "7774                   0.11         0.5                0.25              12   \n",
       "7775                   0.11         0.5                0.25              12   \n",
       "\n",
       "     param_min_child_weight  split0_test_score  ...  mean_test_score  \\\n",
       "0                         1           0.930435  ...         0.944783   \n",
       "1                         3           0.930435  ...         0.949130   \n",
       "2                         5           0.933333  ...         0.951573   \n",
       "3                         7           0.939130  ...         0.948075   \n",
       "4                         9           0.908696  ...         0.936087   \n",
       "...                     ...                ...  ...              ...   \n",
       "7771                      3           0.930435  ...         0.948199   \n",
       "7772                      5           0.930435  ...         0.950062   \n",
       "7773                      7           0.930435  ...         0.942609   \n",
       "7774                      9           0.918841  ...         0.941222   \n",
       "7775                     11           0.913043  ...         0.944410   \n",
       "\n",
       "      std_test_score  rank_test_score  split0_train_score  split1_train_score  \\\n",
       "0           0.032642             2239            0.977873            0.979405   \n",
       "1           0.027620              667            0.973700            0.971110   \n",
       "2           0.025011              220            0.965644            0.966438   \n",
       "3           0.024684             1043            0.957007            0.962719   \n",
       "4           0.030059             5536            0.951572            0.952136   \n",
       "...              ...              ...                 ...                 ...   \n",
       "7771        0.030338              951            0.972535            0.969394   \n",
       "7772        0.023669              498            0.968265            0.965103   \n",
       "7773        0.035100             3153            0.960016            0.959859   \n",
       "7774        0.032826             3508            0.956328            0.946034   \n",
       "7775        0.034392             2418            0.946429            0.937262   \n",
       "\n",
       "      split2_train_score  split3_train_score  split4_train_score  \\\n",
       "0               0.975114            0.973112            0.978547   \n",
       "1               0.967010            0.969108            0.980454   \n",
       "2               0.960336            0.961194            0.974066   \n",
       "3               0.954710            0.953375            0.963577   \n",
       "4               0.948036            0.943078            0.954901   \n",
       "...                  ...                 ...                 ...   \n",
       "7771            0.967010            0.967868            0.981217   \n",
       "7772            0.959001            0.960812            0.973970   \n",
       "7773            0.953471            0.952326            0.967487   \n",
       "7774            0.940885            0.949180            0.960240   \n",
       "7775            0.938787            0.942220            0.959859   \n",
       "\n",
       "      mean_train_score  std_train_score  \n",
       "0             0.976810         0.002342  \n",
       "1             0.972276         0.004648  \n",
       "2             0.965535         0.004888  \n",
       "3             0.958278         0.004152  \n",
       "4             0.949944         0.004070  \n",
       "...                ...              ...  \n",
       "7771          0.971605         0.005162  \n",
       "7772          0.965430         0.005362  \n",
       "7773          0.958632         0.005445  \n",
       "7774          0.950533         0.006971  \n",
       "7775          0.944911         0.008112  \n",
       "\n",
       "[7776 rows x 24 columns]"
      ]
     },
     "execution_count": 33,
     "metadata": {},
     "output_type": "execute_result"
    }
   ],
   "source": [
    "cv_df"
   ]
  },
  {
   "cell_type": "code",
   "execution_count": null,
   "metadata": {},
   "outputs": [],
   "source": [
    "cv_df"
   ]
  },
  {
   "cell_type": "code",
   "execution_count": 19,
   "metadata": {},
   "outputs": [
    {
     "name": "stdout",
     "output_type": "stream",
     "text": [
      "[12:46:30] WARNING: C:/Users/Administrator/workspace/xgboost-win64_release_1.5.1/src/learner.cc:1115: Starting in XGBoost 1.3.0, the default evaluation metric used with the objective 'binary:logistic' was changed from 'error' to 'logloss'. Explicitly set eval_metric if you'd like to restore the old behavior.\n",
      "model 1 done\n"
     ]
    },
    {
     "name": "stderr",
     "output_type": "stream",
     "text": [
      "c:\\Users\\cvaal\\anaconda3\\lib\\site-packages\\xgboost\\sklearn.py:1224: UserWarning: The use of label encoder in XGBClassifier is deprecated and will be removed in a future release. To remove this warning, do the following: 1) Pass option use_label_encoder=False when constructing XGBClassifier object; and 2) Encode your labels (y) as integers starting with 0, i.e. 0, 1, 2, ..., [num_class - 1].\n",
      "  warnings.warn(label_encoder_deprecation_msg, UserWarning)\n"
     ]
    }
   ],
   "source": [
    "from sklearn.metrics import mean_absolute_error, mean_squared_error, f1_score\n",
    "\n",
    "clfXGB_nocv = Pipeline(steps = [('preprocessor', ct), ('XGBoost', XGBClassifier())])\n",
    "X_train, X_test, y_train, y_test = train_test_split(X, y, test_size=0.2, random_state=40)\n",
    "\n",
    "models = [clfXGB_nocv]\n",
    "model_scores={}\n",
    "\n",
    "for idx, model in enumerate(models):\n",
    "    model.fit(X_train, y_train)\n",
    "    name = list(model.named_steps)[1]\n",
    "    \n",
    "    score = model.score(X_test, y_test)\n",
    "    y_pred = model.predict(X_test)\n",
    "    mae = mean_absolute_error(y_test, y_pred)\n",
    "    mse = mean_squared_error(y_test, y_pred)\n",
    "    f1 = f1_score(y_test, y_pred)\n",
    "    \n",
    "    \n",
    "    model_scores[name] = score, mae, mse, f1\n",
    "    \n",
    "\n",
    "    joblib.dump(model, f'{name}Classifier.joblib')\n",
    "    print(f'model {idx+1} done')"
   ]
  },
  {
   "cell_type": "code",
   "execution_count": 20,
   "metadata": {},
   "outputs": [
    {
     "data": {
      "text/plain": [
       "{'XGBoost': (0.9148936170212766,\n",
       "  0.0851063829787234,\n",
       "  0.0851063829787234,\n",
       "  0.909090909090909)}"
      ]
     },
     "execution_count": 20,
     "metadata": {},
     "output_type": "execute_result"
    }
   ],
   "source": [
    "model_scores\n",
    "#accuracy, mean absolute error, mean squared error, f1 score"
   ]
  },
  {
   "cell_type": "code",
   "execution_count": 21,
   "metadata": {},
   "outputs": [
    {
     "data": {
      "text/plain": [
       "['SitePreprocessor.joblib']"
      ]
     },
     "execution_count": 21,
     "metadata": {},
     "output_type": "execute_result"
    }
   ],
   "source": [
    "#SVM\n",
    "clfSVM = Pipeline(steps = [('preprocessor', ct), ('SVM', SVC())])\n",
    "#logistic regression\n",
    "clfLOGREG = Pipeline(steps = [('preprocessor', ct), ('Logistic Regression', LogisticRegression())])\n",
    "#XGBoost\n",
    "clfXGB = Pipeline(steps = [('preprocessor', ct), ('XGBoost', XGBClassifier(colsample_bytree= 0.4, gamma= 0.3, learning_rate= 0.01,max_depth= 3, min_child_weigh = 3))])\n",
    "#Naive Bayes\n",
    "clfNB = Pipeline(steps = [('preprocessor', ct), ('Naive Bayes', GaussianNB())])\n",
    "#Random forest\n",
    "clfRFC = Pipeline(steps = [('preprocessor', ct), ('RFC', RandomForestClassifier())])\n",
    "#neural netTODO\n",
    "\n",
    "\n",
    "\n",
    "joblib.dump(ct, \"SitePreprocessor.joblib\")\n"
   ]
  },
  {
   "cell_type": "code",
   "execution_count": null,
   "metadata": {},
   "outputs": [],
   "source": []
  },
  {
   "cell_type": "code",
   "execution_count": 22,
   "metadata": {},
   "outputs": [],
   "source": [
    "X_train, X_test, y_train, y_test = train_test_split(X, y, test_size=0.2, random_state=40)"
   ]
  },
  {
   "cell_type": "code",
   "execution_count": 23,
   "metadata": {},
   "outputs": [
    {
     "name": "stdout",
     "output_type": "stream",
     "text": [
      "model 1 done\n",
      "model 2 done\n",
      "[12:46:30] WARNING: C:/Users/Administrator/workspace/xgboost-win64_release_1.5.1/src/learner.cc:576: \n",
      "Parameters: { \"min_child_weigh\" } might not be used.\n",
      "\n",
      "  This could be a false alarm, with some parameters getting used by language bindings but\n",
      "  then being mistakenly passed down to XGBoost core, or some parameter actually being used\n",
      "  but getting flagged wrongly here. Please open an issue if you find any such cases.\n",
      "\n",
      "\n",
      "[12:46:30] WARNING: C:/Users/Administrator/workspace/xgboost-win64_release_1.5.1/src/learner.cc:1115: Starting in XGBoost 1.3.0, the default evaluation metric used with the objective 'binary:logistic' was changed from 'error' to 'logloss'. Explicitly set eval_metric if you'd like to restore the old behavior.\n",
      "model 3 done\n",
      "model 4 done\n"
     ]
    },
    {
     "name": "stderr",
     "output_type": "stream",
     "text": [
      "c:\\Users\\cvaal\\anaconda3\\lib\\site-packages\\xgboost\\sklearn.py:1224: UserWarning: The use of label encoder in XGBClassifier is deprecated and will be removed in a future release. To remove this warning, do the following: 1) Pass option use_label_encoder=False when constructing XGBClassifier object; and 2) Encode your labels (y) as integers starting with 0, i.e. 0, 1, 2, ..., [num_class - 1].\n",
      "  warnings.warn(label_encoder_deprecation_msg, UserWarning)\n"
     ]
    },
    {
     "name": "stdout",
     "output_type": "stream",
     "text": [
      "model 5 done\n"
     ]
    }
   ],
   "source": [
    "from sklearn.metrics import mean_absolute_error, mean_squared_error, f1_score\n",
    "models = [clfSVM, clfLOGREG, clfXGB, clfNB, clfRFC]\n",
    "\n",
    "model_scores={}\n",
    "\n",
    "for idx, model in enumerate(models):\n",
    "    model.fit(X_train, y_train)\n",
    "    name = list(model.named_steps)[1]\n",
    "    \n",
    "    score = model.score(X_test, y_test)\n",
    "    y_pred = model.predict(X_test)\n",
    "    mae = mean_absolute_error(y_test, y_pred)\n",
    "    mse = mean_squared_error(y_test, y_pred)\n",
    "    f1 = f1_score(y_test, y_pred)\n",
    "    \n",
    "    \n",
    "    model_scores[name] = score, mae, mse, f1\n",
    "    \n",
    "\n",
    "    joblib.dump(model, f'{name}Classifier.joblib')\n",
    "    print(f'model {idx+1} done')\n",
    "    \n",
    "\n"
   ]
  },
  {
   "cell_type": "code",
   "execution_count": 24,
   "metadata": {},
   "outputs": [
    {
     "data": {
      "text/plain": [
       "{'SVM': (0.9148936170212766,\n",
       "  0.0851063829787234,\n",
       "  0.0851063829787234,\n",
       "  0.9047619047619048),\n",
       " 'Logistic Regression': (0.9148936170212766,\n",
       "  0.0851063829787234,\n",
       "  0.0851063829787234,\n",
       "  0.9047619047619048),\n",
       " 'XGBoost': (0.9574468085106383,\n",
       "  0.0425531914893617,\n",
       "  0.0425531914893617,\n",
       "  0.9523809523809523),\n",
       " 'Naive Bayes': (0.6595744680851063,\n",
       "  0.3404255319148936,\n",
       "  0.3404255319148936,\n",
       "  0.7142857142857142),\n",
       " 'RFC': (0.9361702127659575,\n",
       "  0.06382978723404255,\n",
       "  0.06382978723404255,\n",
       "  0.9302325581395349)}"
      ]
     },
     "execution_count": 24,
     "metadata": {},
     "output_type": "execute_result"
    }
   ],
   "source": [
    "model_scores\n",
    "#scores in order: accuracy, mean absolute error, mean squared error, f1 score"
   ]
  },
  {
   "cell_type": "code",
   "execution_count": 25,
   "metadata": {},
   "outputs": [
    {
     "name": "stdout",
     "output_type": "stream",
     "text": [
      "[12:46:30] WARNING: C:/Users/Administrator/workspace/xgboost-win64_release_1.5.1/src/learner.cc:576: \n",
      "Parameters: { \"min_child_weigh\" } might not be used.\n",
      "\n",
      "  This could be a false alarm, with some parameters getting used by language bindings but\n",
      "  then being mistakenly passed down to XGBoost core, or some parameter actually being used\n",
      "  but getting flagged wrongly here. Please open an issue if you find any such cases.\n",
      "\n",
      "\n",
      "[12:46:30] WARNING: C:/Users/Administrator/workspace/xgboost-win64_release_1.5.1/src/learner.cc:1115: Starting in XGBoost 1.3.0, the default evaluation metric used with the objective 'binary:logistic' was changed from 'error' to 'logloss'. Explicitly set eval_metric if you'd like to restore the old behavior.\n",
      "Score:  0.9574468085106383\n"
     ]
    },
    {
     "name": "stderr",
     "output_type": "stream",
     "text": [
      "c:\\Users\\cvaal\\anaconda3\\lib\\site-packages\\xgboost\\sklearn.py:1224: UserWarning: The use of label encoder in XGBClassifier is deprecated and will be removed in a future release. To remove this warning, do the following: 1) Pass option use_label_encoder=False when constructing XGBClassifier object; and 2) Encode your labels (y) as integers starting with 0, i.e. 0, 1, 2, ..., [num_class - 1].\n",
      "  warnings.warn(label_encoder_deprecation_msg, UserWarning)\n"
     ]
    }
   ],
   "source": [
    "X_train, X_test, y_train, y_test = train_test_split(X, y, test_size=0.2, random_state=40)\n",
    "\n",
    "clfXGB.fit(X_train, y_train)\n",
    "print('Score: ',clfXGB.score(X_test, y_test))"
   ]
  },
  {
   "cell_type": "code",
   "execution_count": 26,
   "metadata": {},
   "outputs": [],
   "source": [
    "y_pred = clfXGB.predict(X_test)"
   ]
  },
  {
   "cell_type": "code",
   "execution_count": 27,
   "metadata": {},
   "outputs": [
    {
     "name": "stdout",
     "output_type": "stream",
     "text": [
      "[1 0 1 0 0 1 1 1 1 1 0 1 1 0 0 1 0 1 0 0 1 1 0 1 0 1 0 0 1 0 0 1 0 0 0 0 0\n",
      " 1 0 0 0 0 0 0 1 1 1]\n",
      "[1 0 1 0 0 1 1 1 1 1 0 1 1 0 0 1 1 1 0 0 1 0 0 1 0 1 0 0 1 0 0 1 0 0 0 0 0\n",
      " 1 0 0 0 0 0 0 1 1 1]\n"
     ]
    }
   ],
   "source": [
    "print(y_pred)\n",
    "print(y_test)"
   ]
  },
  {
   "cell_type": "code",
   "execution_count": 28,
   "metadata": {},
   "outputs": [
    {
     "name": "stdout",
     "output_type": "stream",
     "text": [
      "[[20  1]\n",
      " [ 1 25]]\n"
     ]
    }
   ],
   "source": [
    "from sklearn.metrics import confusion_matrix\n",
    "\n",
    "print(confusion_matrix(y_test, y_pred, labels=[1,0]))"
   ]
  },
  {
   "cell_type": "code",
   "execution_count": null,
   "metadata": {},
   "outputs": [],
   "source": []
  },
  {
   "cell_type": "code",
   "execution_count": null,
   "metadata": {},
   "outputs": [],
   "source": []
  }
 ],
 "metadata": {
  "kernelspec": {
   "display_name": "base",
   "language": "python",
   "name": "python3"
  },
  "language_info": {
   "codemirror_mode": {
    "name": "ipython",
    "version": 3
   },
   "file_extension": ".py",
   "mimetype": "text/x-python",
   "name": "python",
   "nbconvert_exporter": "python",
   "pygments_lexer": "ipython3",
   "version": "3.8.8 (default, Apr 13 2021, 15:08:03) [MSC v.1916 64 bit (AMD64)]"
  },
  "orig_nbformat": 4,
  "vscode": {
   "interpreter": {
    "hash": "9a51e5855e04901d00966621b96dcfa06fb6a1bfd2a37e82f444787cca980996"
   }
  }
 },
 "nbformat": 4,
 "nbformat_minor": 2
}
