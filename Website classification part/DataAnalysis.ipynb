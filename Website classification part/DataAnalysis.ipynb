{
 "cells": [
  {
   "cell_type": "code",
   "execution_count": 152,
   "metadata": {},
   "outputs": [],
   "source": [
    "import pandas as pd\n",
    "import numpy as np\n",
    "import matplotlib.pyplot as plt"
   ]
  },
  {
   "cell_type": "code",
   "execution_count": 196,
   "metadata": {},
   "outputs": [
    {
     "data": {
      "text/html": [
       "<div>\n",
       "<style scoped>\n",
       "    .dataframe tbody tr th:only-of-type {\n",
       "        vertical-align: middle;\n",
       "    }\n",
       "\n",
       "    .dataframe tbody tr th {\n",
       "        vertical-align: top;\n",
       "    }\n",
       "\n",
       "    .dataframe thead th {\n",
       "        text-align: right;\n",
       "    }\n",
       "</style>\n",
       "<table border=\"1\" class=\"dataframe\">\n",
       "  <thead>\n",
       "    <tr style=\"text-align: right;\">\n",
       "      <th></th>\n",
       "      <th>Domain</th>\n",
       "      <th>Page rank integer</th>\n",
       "      <th>Page rank decimal</th>\n",
       "      <th>Site Rank</th>\n",
       "      <th>Domain registrar</th>\n",
       "      <th>Postal code</th>\n",
       "      <th>Country of origin</th>\n",
       "      <th>Harmless</th>\n",
       "      <th>Malicious</th>\n",
       "      <th>Suspicious</th>\n",
       "      <th>Undetected</th>\n",
       "      <th>Timeout</th>\n",
       "      <th>No. of Local links</th>\n",
       "      <th>No. of Outbound links</th>\n",
       "      <th>Total links</th>\n",
       "      <th>Links to fake news site?</th>\n",
       "      <th>Wordpress?</th>\n",
       "      <th>Site Rating</th>\n",
       "    </tr>\n",
       "  </thead>\n",
       "  <tbody>\n",
       "    <tr>\n",
       "      <th>0</th>\n",
       "      <td>actionnews3.com</td>\n",
       "      <td>3</td>\n",
       "      <td>2.82</td>\n",
       "      <td>7390112.0</td>\n",
       "      <td>GoDaddy.com, LLC</td>\n",
       "      <td>85284</td>\n",
       "      <td>US</td>\n",
       "      <td>86</td>\n",
       "      <td>0</td>\n",
       "      <td>0</td>\n",
       "      <td>10</td>\n",
       "      <td>0</td>\n",
       "      <td>16</td>\n",
       "      <td>1</td>\n",
       "      <td>17</td>\n",
       "      <td>False</td>\n",
       "      <td>True</td>\n",
       "      <td>Fake</td>\n",
       "    </tr>\n",
       "    <tr>\n",
       "      <th>1</th>\n",
       "      <td>sputniknews.com</td>\n",
       "      <td>6</td>\n",
       "      <td>5.55</td>\n",
       "      <td>5072.0</td>\n",
       "      <td>Regional Network Information Center, JSC dba R...</td>\n",
       "      <td>119021</td>\n",
       "      <td>RU</td>\n",
       "      <td>84</td>\n",
       "      <td>0</td>\n",
       "      <td>0</td>\n",
       "      <td>12</td>\n",
       "      <td>0</td>\n",
       "      <td>68</td>\n",
       "      <td>10</td>\n",
       "      <td>78</td>\n",
       "      <td>False</td>\n",
       "      <td>False</td>\n",
       "      <td>Fake</td>\n",
       "    </tr>\n",
       "    <tr>\n",
       "      <th>2</th>\n",
       "      <td>stormcloudsgathering.com</td>\n",
       "      <td>4</td>\n",
       "      <td>3.53</td>\n",
       "      <td>2523407.0</td>\n",
       "      <td>NAMECHEAP INC</td>\n",
       "      <td>101</td>\n",
       "      <td>IS</td>\n",
       "      <td>82</td>\n",
       "      <td>0</td>\n",
       "      <td>0</td>\n",
       "      <td>14</td>\n",
       "      <td>0</td>\n",
       "      <td>11</td>\n",
       "      <td>17</td>\n",
       "      <td>28</td>\n",
       "      <td>False</td>\n",
       "      <td>True</td>\n",
       "      <td>Fake</td>\n",
       "    </tr>\n",
       "    <tr>\n",
       "      <th>3</th>\n",
       "      <td>tdtalliance.com</td>\n",
       "      <td>3</td>\n",
       "      <td>3.00</td>\n",
       "      <td>5585826.0</td>\n",
       "      <td>NAMECHEAP INC</td>\n",
       "      <td>101</td>\n",
       "      <td>IS</td>\n",
       "      <td>86</td>\n",
       "      <td>0</td>\n",
       "      <td>0</td>\n",
       "      <td>10</td>\n",
       "      <td>0</td>\n",
       "      <td>49</td>\n",
       "      <td>22</td>\n",
       "      <td>71</td>\n",
       "      <td>False</td>\n",
       "      <td>True</td>\n",
       "      <td>Fake</td>\n",
       "    </tr>\n",
       "    <tr>\n",
       "      <th>4</th>\n",
       "      <td>teaparty.org</td>\n",
       "      <td>5</td>\n",
       "      <td>4.61</td>\n",
       "      <td>56899.0</td>\n",
       "      <td>Register.com, Inc.</td>\n",
       "      <td>FALSE</td>\n",
       "      <td>US</td>\n",
       "      <td>83</td>\n",
       "      <td>0</td>\n",
       "      <td>0</td>\n",
       "      <td>13</td>\n",
       "      <td>0</td>\n",
       "      <td>59</td>\n",
       "      <td>3</td>\n",
       "      <td>62</td>\n",
       "      <td>False</td>\n",
       "      <td>True</td>\n",
       "      <td>Fake</td>\n",
       "    </tr>\n",
       "    <tr>\n",
       "      <th>...</th>\n",
       "      <td>...</td>\n",
       "      <td>...</td>\n",
       "      <td>...</td>\n",
       "      <td>...</td>\n",
       "      <td>...</td>\n",
       "      <td>...</td>\n",
       "      <td>...</td>\n",
       "      <td>...</td>\n",
       "      <td>...</td>\n",
       "      <td>...</td>\n",
       "      <td>...</td>\n",
       "      <td>...</td>\n",
       "      <td>...</td>\n",
       "      <td>...</td>\n",
       "      <td>...</td>\n",
       "      <td>...</td>\n",
       "      <td>...</td>\n",
       "      <td>...</td>\n",
       "    </tr>\n",
       "    <tr>\n",
       "      <th>228</th>\n",
       "      <td>hutchnews.com</td>\n",
       "      <td>4</td>\n",
       "      <td>4.36</td>\n",
       "      <td>151426.0</td>\n",
       "      <td>GoDaddy Corporate Domains, LLC</td>\n",
       "      <td>NaN</td>\n",
       "      <td>US</td>\n",
       "      <td>86</td>\n",
       "      <td>0</td>\n",
       "      <td>0</td>\n",
       "      <td>10</td>\n",
       "      <td>0</td>\n",
       "      <td>25</td>\n",
       "      <td>15</td>\n",
       "      <td>40</td>\n",
       "      <td>False</td>\n",
       "      <td>False</td>\n",
       "      <td>Real</td>\n",
       "    </tr>\n",
       "    <tr>\n",
       "      <th>229</th>\n",
       "      <td>theguardian.com</td>\n",
       "      <td>8</td>\n",
       "      <td>7.51</td>\n",
       "      <td>73.0</td>\n",
       "      <td>GoDaddy.com, LLC</td>\n",
       "      <td>85284</td>\n",
       "      <td>US</td>\n",
       "      <td>84</td>\n",
       "      <td>0</td>\n",
       "      <td>0</td>\n",
       "      <td>12</td>\n",
       "      <td>0</td>\n",
       "      <td>218</td>\n",
       "      <td>11</td>\n",
       "      <td>229</td>\n",
       "      <td>False</td>\n",
       "      <td>False</td>\n",
       "      <td>Real</td>\n",
       "    </tr>\n",
       "    <tr>\n",
       "      <th>230</th>\n",
       "      <td>grandforksherald.com</td>\n",
       "      <td>5</td>\n",
       "      <td>4.70</td>\n",
       "      <td>41638.0</td>\n",
       "      <td>GoDaddy.com, LLC</td>\n",
       "      <td>85284</td>\n",
       "      <td>US</td>\n",
       "      <td>86</td>\n",
       "      <td>0</td>\n",
       "      <td>0</td>\n",
       "      <td>10</td>\n",
       "      <td>0</td>\n",
       "      <td>151</td>\n",
       "      <td>15</td>\n",
       "      <td>166</td>\n",
       "      <td>False</td>\n",
       "      <td>False</td>\n",
       "      <td>Real</td>\n",
       "    </tr>\n",
       "    <tr>\n",
       "      <th>231</th>\n",
       "      <td>news-sentinel.com</td>\n",
       "      <td>4</td>\n",
       "      <td>4.31</td>\n",
       "      <td>195989.0</td>\n",
       "      <td>GoDaddy.com, LLC</td>\n",
       "      <td>85284</td>\n",
       "      <td>US</td>\n",
       "      <td>83</td>\n",
       "      <td>0</td>\n",
       "      <td>0</td>\n",
       "      <td>13</td>\n",
       "      <td>0</td>\n",
       "      <td>33</td>\n",
       "      <td>14</td>\n",
       "      <td>47</td>\n",
       "      <td>False</td>\n",
       "      <td>True</td>\n",
       "      <td>Real</td>\n",
       "    </tr>\n",
       "    <tr>\n",
       "      <th>232</th>\n",
       "      <td>gmanetwork.com</td>\n",
       "      <td>5</td>\n",
       "      <td>5.30</td>\n",
       "      <td>7515.0</td>\n",
       "      <td>Network Solutions, LLC</td>\n",
       "      <td>1103</td>\n",
       "      <td>PH</td>\n",
       "      <td>78</td>\n",
       "      <td>0</td>\n",
       "      <td>0</td>\n",
       "      <td>9</td>\n",
       "      <td>0</td>\n",
       "      <td>0</td>\n",
       "      <td>0</td>\n",
       "      <td>0</td>\n",
       "      <td>False</td>\n",
       "      <td>False</td>\n",
       "      <td>Real</td>\n",
       "    </tr>\n",
       "  </tbody>\n",
       "</table>\n",
       "<p>233 rows × 18 columns</p>\n",
       "</div>"
      ],
      "text/plain": [
       "                       Domain  Page rank integer  Page rank decimal  \\\n",
       "0             actionnews3.com                  3               2.82   \n",
       "1             sputniknews.com                  6               5.55   \n",
       "2    stormcloudsgathering.com                  4               3.53   \n",
       "3             tdtalliance.com                  3               3.00   \n",
       "4                teaparty.org                  5               4.61   \n",
       "..                        ...                ...                ...   \n",
       "228             hutchnews.com                  4               4.36   \n",
       "229           theguardian.com                  8               7.51   \n",
       "230      grandforksherald.com                  5               4.70   \n",
       "231         news-sentinel.com                  4               4.31   \n",
       "232            gmanetwork.com                  5               5.30   \n",
       "\n",
       "     Site Rank                                   Domain registrar Postal code  \\\n",
       "0    7390112.0                                   GoDaddy.com, LLC       85284   \n",
       "1       5072.0  Regional Network Information Center, JSC dba R...      119021   \n",
       "2    2523407.0                                      NAMECHEAP INC         101   \n",
       "3    5585826.0                                      NAMECHEAP INC         101   \n",
       "4      56899.0                                 Register.com, Inc.       FALSE   \n",
       "..         ...                                                ...         ...   \n",
       "228   151426.0                     GoDaddy Corporate Domains, LLC         NaN   \n",
       "229       73.0                                   GoDaddy.com, LLC       85284   \n",
       "230    41638.0                                   GoDaddy.com, LLC       85284   \n",
       "231   195989.0                                   GoDaddy.com, LLC       85284   \n",
       "232     7515.0                             Network Solutions, LLC        1103   \n",
       "\n",
       "    Country of origin  Harmless  Malicious  Suspicious  Undetected  Timeout  \\\n",
       "0                  US        86          0           0          10        0   \n",
       "1                  RU        84          0           0          12        0   \n",
       "2                  IS        82          0           0          14        0   \n",
       "3                  IS        86          0           0          10        0   \n",
       "4                  US        83          0           0          13        0   \n",
       "..                ...       ...        ...         ...         ...      ...   \n",
       "228                US        86          0           0          10        0   \n",
       "229                US        84          0           0          12        0   \n",
       "230                US        86          0           0          10        0   \n",
       "231                US        83          0           0          13        0   \n",
       "232                PH        78          0           0           9        0   \n",
       "\n",
       "     No. of Local links  No. of Outbound links  Total links  \\\n",
       "0                    16                      1           17   \n",
       "1                    68                     10           78   \n",
       "2                    11                     17           28   \n",
       "3                    49                     22           71   \n",
       "4                    59                      3           62   \n",
       "..                  ...                    ...          ...   \n",
       "228                  25                     15           40   \n",
       "229                 218                     11          229   \n",
       "230                 151                     15          166   \n",
       "231                  33                     14           47   \n",
       "232                   0                      0            0   \n",
       "\n",
       "     Links to fake news site?  Wordpress? Site Rating  \n",
       "0                       False        True        Fake  \n",
       "1                       False       False        Fake  \n",
       "2                       False        True        Fake  \n",
       "3                       False        True        Fake  \n",
       "4                       False        True        Fake  \n",
       "..                        ...         ...         ...  \n",
       "228                     False       False        Real  \n",
       "229                     False       False        Real  \n",
       "230                     False       False        Real  \n",
       "231                     False        True        Real  \n",
       "232                     False       False        Real  \n",
       "\n",
       "[233 rows x 18 columns]"
      ]
     },
     "execution_count": 196,
     "metadata": {},
     "output_type": "execute_result"
    }
   ],
   "source": [
    "fn_df = pd.read_csv('FakeReal_News_Sites.csv', index_col=[0])\n",
    "fn_df.sort_values('Site Rating', inplace=True)\n",
    "fn_df.reset_index(drop=True, inplace=True)\n",
    "fn_df"
   ]
  },
  {
   "cell_type": "code",
   "execution_count": 154,
   "metadata": {},
   "outputs": [],
   "source": [
    "fn_df.drop(['Timeout'], axis=1, inplace=True)"
   ]
  },
  {
   "cell_type": "markdown",
   "metadata": {},
   "source": [
    "Average page ranking of real sites"
   ]
  },
  {
   "cell_type": "code",
   "execution_count": 155,
   "metadata": {},
   "outputs": [
    {
     "data": {
      "text/plain": [
       "5.01845238095238"
      ]
     },
     "execution_count": 155,
     "metadata": {},
     "output_type": "execute_result"
    }
   ],
   "source": [
    "fn_df[fn_df['Site Rating'] == 'Real']['Page rank decimal'].mean()"
   ]
  },
  {
   "cell_type": "markdown",
   "metadata": {},
   "source": [
    "Average page ranking of fake sites"
   ]
  },
  {
   "cell_type": "code",
   "execution_count": 156,
   "metadata": {},
   "outputs": [
    {
     "data": {
      "text/plain": [
       "3.189328859060401"
      ]
     },
     "execution_count": 156,
     "metadata": {},
     "output_type": "execute_result"
    }
   ],
   "source": [
    "fn_df[fn_df['Site Rating'] == 'Fake']['Page rank decimal'].mean()"
   ]
  },
  {
   "cell_type": "markdown",
   "metadata": {},
   "source": [
    "Average site rank of real sites"
   ]
  },
  {
   "cell_type": "code",
   "execution_count": 157,
   "metadata": {},
   "outputs": [
    {
     "data": {
      "text/plain": [
       "1177176.738095238"
      ]
     },
     "execution_count": 157,
     "metadata": {},
     "output_type": "execute_result"
    }
   ],
   "source": [
    "fn_df[fn_df['Site Rating'] == 'Real']['Site Rank'].mean()"
   ]
  },
  {
   "cell_type": "markdown",
   "metadata": {},
   "source": [
    "Average site rank of fake sites"
   ]
  },
  {
   "cell_type": "code",
   "execution_count": 158,
   "metadata": {},
   "outputs": [
    {
     "data": {
      "text/plain": [
       "10829280.335664336"
      ]
     },
     "execution_count": 158,
     "metadata": {},
     "output_type": "execute_result"
    }
   ],
   "source": [
    "fn_df[fn_df['Site Rating'] == 'Fake']['Site Rank'].mean()"
   ]
  },
  {
   "cell_type": "markdown",
   "metadata": {},
   "source": [
    "How many malicious sites were fake"
   ]
  },
  {
   "cell_type": "code",
   "execution_count": 192,
   "metadata": {},
   "outputs": [
    {
     "data": {
      "text/plain": [
       "53"
      ]
     },
     "execution_count": 192,
     "metadata": {},
     "output_type": "execute_result"
    }
   ],
   "source": [
    "fn_df[(fn_df['Malicious'] == 1) & (fn_df['Site Rating'] == 'Fake')].shape[0]"
   ]
  },
  {
   "cell_type": "markdown",
   "metadata": {},
   "source": [
    "How many malicious sites were real"
   ]
  },
  {
   "cell_type": "code",
   "execution_count": 193,
   "metadata": {},
   "outputs": [
    {
     "data": {
      "text/plain": [
       "83"
      ]
     },
     "execution_count": 193,
     "metadata": {},
     "output_type": "execute_result"
    }
   ],
   "source": [
    "fn_df[(fn_df['Malicious'] == 0) & (fn_df['Site Rating'] == 'Real')].shape[0]"
   ]
  },
  {
   "cell_type": "code",
   "execution_count": 161,
   "metadata": {},
   "outputs": [
    {
     "data": {
      "text/plain": [
       "85    64\n",
       "83    45\n",
       "86    38\n",
       "84    35\n",
       "78    14\n",
       "79    12\n",
       "82    10\n",
       "87     4\n",
       "74     3\n",
       "81     3\n",
       "75     2\n",
       "77     1\n",
       "80     1\n",
       "88     1\n",
       "Name: Harmless, dtype: int64"
      ]
     },
     "execution_count": 161,
     "metadata": {},
     "output_type": "execute_result"
    }
   ],
   "source": [
    "fn_df['Harmless'].value_counts()"
   ]
  },
  {
   "cell_type": "code",
   "execution_count": null,
   "metadata": {},
   "outputs": [],
   "source": []
  },
  {
   "cell_type": "code",
   "execution_count": 162,
   "metadata": {},
   "outputs": [
    {
     "data": {
      "text/plain": [
       "1"
      ]
     },
     "execution_count": 162,
     "metadata": {},
     "output_type": "execute_result"
    }
   ],
   "source": [
    "fn_df[(fn_df['Malicious'] >0) & (fn_df['Site Rating'] == 'Real')].shape[0]"
   ]
  },
  {
   "cell_type": "code",
   "execution_count": 163,
   "metadata": {},
   "outputs": [
    {
     "data": {
      "text/plain": [
       "2"
      ]
     },
     "execution_count": 163,
     "metadata": {},
     "output_type": "execute_result"
    }
   ],
   "source": [
    "fn_df[(fn_df['Suspicious'] >0) & (fn_df['Site Rating'] == 'Real')].shape[0]"
   ]
  },
  {
   "cell_type": "code",
   "execution_count": 164,
   "metadata": {},
   "outputs": [
    {
     "data": {
      "text/plain": [
       "53"
      ]
     },
     "execution_count": 164,
     "metadata": {},
     "output_type": "execute_result"
    }
   ],
   "source": [
    "fn_df[(fn_df['Malicious'] >0) & (fn_df['Site Rating'] == 'Fake')].shape[0]"
   ]
  },
  {
   "cell_type": "code",
   "execution_count": 165,
   "metadata": {},
   "outputs": [
    {
     "data": {
      "text/plain": [
       "4"
      ]
     },
     "execution_count": 165,
     "metadata": {},
     "output_type": "execute_result"
    }
   ],
   "source": [
    "fn_df[(fn_df['Suspicious'] >0) & (fn_df['Site Rating'] == 'Fake')].shape[0]"
   ]
  },
  {
   "cell_type": "code",
   "execution_count": 166,
   "metadata": {},
   "outputs": [],
   "source": [
    "fn_df.loc[fn_df['Malicious'] > 0, 'Malicious'] = 1"
   ]
  },
  {
   "cell_type": "code",
   "execution_count": 167,
   "metadata": {},
   "outputs": [
    {
     "data": {
      "text/plain": [
       "0    179\n",
       "1     54\n",
       "Name: Malicious, dtype: int64"
      ]
     },
     "execution_count": 167,
     "metadata": {},
     "output_type": "execute_result"
    }
   ],
   "source": [
    "fn_df['Malicious'].value_counts()"
   ]
  },
  {
   "cell_type": "code",
   "execution_count": 168,
   "metadata": {},
   "outputs": [],
   "source": [
    "fn_df.drop(['Harmless', 'Undetected'], axis=1, inplace=True)"
   ]
  },
  {
   "cell_type": "code",
   "execution_count": 169,
   "metadata": {},
   "outputs": [
    {
     "data": {
      "text/plain": [
       "GoDaddy.com, LLC                                          49\n",
       "GoDaddy Corporate Domains, LLC                            22\n",
       "NAMECHEAP INC                                             21\n",
       "TUCOWS, INC.                                              14\n",
       "Network Solutions, LLC                                    12\n",
       "CSC CORPORATE DOMAINS, INC.                               11\n",
       "DYNADOT LLC                                                6\n",
       "MarkMonitor, Inc.                                          6\n",
       "Key-Systems GmbH                                           6\n",
       "ABOVE.COM PTY LTD.                                         5\n",
       "Domain.com, LLC                                            4\n",
       "GANDI SAS                                                  4\n",
       "Epik Holdings Inc                                          4\n",
       "NameSilo, LLC                                              3\n",
       "Name.com, Inc.                                             2\n",
       "FastDomain Inc.                                            2\n",
       "Domainplace LLC                                            2\n",
       "IONOS SE                                                   2\n",
       "NameCheap, Inc.                                            2\n",
       "Register.com, Inc.                                         2\n",
       "ENOM, INC.                                                 2\n",
       "Launchpad, Inc. (HostGator)                                1\n",
       "Dynadot LLC                                                1\n",
       "RUCENTER-SU                                                1\n",
       "Amazon Registrar, Inc.                                     1\n",
       "Sssasss, Incorporated                                      1\n",
       "Drop Catch Mining LLC                                      1\n",
       "Internet Domain Service BS Corp.                           1\n",
       "Epik Inc.                                                  1\n",
       "GoDaddy Online Services Cayman Islands Ltd.                1\n",
       "THE NAME IT CORPORATION DBA NAMESERVICES.NET               1\n",
       "Domain Esta Aqui, LLC                                      1\n",
       "Domainarmada.com LLC                                       1\n",
       "DropCatch.com 1174 LLC                                     1\n",
       "NETWORK SOLUTIONS, LLC.                                    1\n",
       "Communigal Communication Ltd                               1\n",
       "CommuniGal Communication Ltd.                              1\n",
       "NamePal.com #8009 Inc.                                     1\n",
       "DropCatch.com 361 LLC                                      1\n",
       "DOMAINPEOPLE, INC.                                         1\n",
       "Cloudflare, Inc.                                           1\n",
       "Hostinger, UAB                                             1\n",
       "PDR Ltd. d/b/a PublicDomainRegistry.com                    1\n",
       "DropCatch.com 1340 LLC                                     1\n",
       "CommuniGal Communications Ltd.                             1\n",
       "PearlNamingService.com LLC                                 1\n",
       "DropCatch.com 1111 LLC                                     1\n",
       "Regional Network Information Center, JSC dba RU-CENTER     1\n",
       "https://www.101domain.com/                                 1\n",
       "Google LLC                                                 1\n",
       "easyDNS Technologies Inc.                                  1\n",
       "SAV.COM, LLC                                               1\n",
       "InterNetX GmbH                                             1\n",
       "NOM-IQ Ltd dba Com Laude                                   1\n",
       "TurnCommerce, Inc. DBA NameBright.com                      1\n",
       "Instra Corporation Pty Ltd                                 1\n",
       "SNAPNAMES 56, LLC                                          1\n",
       "Porkbun LLC                                                1\n",
       "Pair Domains                                               1\n",
       "Name: Domain registrar, dtype: int64"
      ]
     },
     "execution_count": 169,
     "metadata": {},
     "output_type": "execute_result"
    }
   ],
   "source": [
    "fn_df['Domain registrar'].value_counts()"
   ]
  },
  {
   "cell_type": "code",
   "execution_count": 170,
   "metadata": {},
   "outputs": [
    {
     "data": {
      "text/plain": [
       "85284                        45\n",
       "REDACTED FOR PRIVACY         35\n",
       "101                          19\n",
       "32256                        13\n",
       "80202                         5\n",
       "FALSE                         4\n",
       "Statutory Masking Enabled     4\n",
       "22314                         4\n",
       "98004                         4\n",
       "60654                         4\n",
       "85016                         3\n",
       "102                           3\n",
       "49418                         3\n",
       "80201                         2\n",
       "75013                         2\n",
       "10007                         2\n",
       "M6K 3M1                       2\n",
       "49088                         1\n",
       "63101                         1\n",
       "02115-3012                    1\n",
       "119021                        1\n",
       "93012                         1\n",
       "60607-2184                    1\n",
       "30328                         1\n",
       "1103                          1\n",
       "926                           1\n",
       "1803                          1\n",
       "65708                         1\n",
       "70810-1611                    1\n",
       "Redacted for GDPR privacy     1\n",
       "10023-6298                    1\n",
       "11747                         1\n",
       "GDPR Redacted                 1\n",
       "95401-6313                    1\n",
       "10018                         1\n",
       "98108-1226                    1\n",
       "75201                         1\n",
       "22320                         1\n",
       "248001                        1\n",
       "10016-7419                    1\n",
       "84101                         1\n",
       "84101-1431                    1\n",
       "M4K 3K1                       1\n",
       "DATA REDACTED                 1\n",
       "1201                          1\n",
       "Name: Postal code, dtype: int64"
      ]
     },
     "execution_count": 170,
     "metadata": {},
     "output_type": "execute_result"
    }
   ],
   "source": [
    "fn_df['Postal code'].value_counts()"
   ]
  },
  {
   "cell_type": "code",
   "execution_count": 171,
   "metadata": {},
   "outputs": [
    {
     "data": {
      "text/plain": [
       "US                      153\n",
       "IS                       21\n",
       "FALSE                     5\n",
       "HK                        4\n",
       "GI                        3\n",
       "FR                        3\n",
       "CA                        3\n",
       "BG                        3\n",
       "CN                        2\n",
       "RO                        2\n",
       "REDACTED FOR PRIVACY      2\n",
       "PH                        2\n",
       "IN                        1\n",
       "RS                        1\n",
       "NL                        1\n",
       "RU                        1\n",
       "ro                        1\n",
       "GB                        1\n",
       "BS                        1\n",
       "Name: Country of origin, dtype: int64"
      ]
     },
     "execution_count": 171,
     "metadata": {},
     "output_type": "execute_result"
    }
   ],
   "source": [
    "fn_df['Country of origin'].value_counts()"
   ]
  },
  {
   "cell_type": "code",
   "execution_count": 172,
   "metadata": {},
   "outputs": [
    {
     "data": {
      "text/html": [
       "<div>\n",
       "<style scoped>\n",
       "    .dataframe tbody tr th:only-of-type {\n",
       "        vertical-align: middle;\n",
       "    }\n",
       "\n",
       "    .dataframe tbody tr th {\n",
       "        vertical-align: top;\n",
       "    }\n",
       "\n",
       "    .dataframe thead th {\n",
       "        text-align: right;\n",
       "    }\n",
       "</style>\n",
       "<table border=\"1\" class=\"dataframe\">\n",
       "  <thead>\n",
       "    <tr style=\"text-align: right;\">\n",
       "      <th></th>\n",
       "      <th>Domain registrar</th>\n",
       "      <th>Postal code</th>\n",
       "      <th>Links to fake news site?</th>\n",
       "      <th>Wordpress?</th>\n",
       "      <th>Site Rating</th>\n",
       "      <th>Country of origin</th>\n",
       "    </tr>\n",
       "  </thead>\n",
       "  <tbody>\n",
       "    <tr>\n",
       "      <th>0</th>\n",
       "      <td>GoDaddy.com, LLC</td>\n",
       "      <td>85284</td>\n",
       "      <td>False</td>\n",
       "      <td>True</td>\n",
       "      <td>Fake</td>\n",
       "      <td>US</td>\n",
       "    </tr>\n",
       "    <tr>\n",
       "      <th>1</th>\n",
       "      <td>Regional Network Information Center, JSC dba R...</td>\n",
       "      <td>119021</td>\n",
       "      <td>False</td>\n",
       "      <td>False</td>\n",
       "      <td>Fake</td>\n",
       "      <td>RU</td>\n",
       "    </tr>\n",
       "    <tr>\n",
       "      <th>2</th>\n",
       "      <td>NAMECHEAP INC</td>\n",
       "      <td>101</td>\n",
       "      <td>False</td>\n",
       "      <td>True</td>\n",
       "      <td>Fake</td>\n",
       "      <td>IS</td>\n",
       "    </tr>\n",
       "    <tr>\n",
       "      <th>3</th>\n",
       "      <td>NAMECHEAP INC</td>\n",
       "      <td>101</td>\n",
       "      <td>False</td>\n",
       "      <td>True</td>\n",
       "      <td>Fake</td>\n",
       "      <td>IS</td>\n",
       "    </tr>\n",
       "    <tr>\n",
       "      <th>4</th>\n",
       "      <td>Register.com, Inc.</td>\n",
       "      <td>FALSE</td>\n",
       "      <td>False</td>\n",
       "      <td>True</td>\n",
       "      <td>Fake</td>\n",
       "      <td>US</td>\n",
       "    </tr>\n",
       "    <tr>\n",
       "      <th>...</th>\n",
       "      <td>...</td>\n",
       "      <td>...</td>\n",
       "      <td>...</td>\n",
       "      <td>...</td>\n",
       "      <td>...</td>\n",
       "      <td>...</td>\n",
       "    </tr>\n",
       "    <tr>\n",
       "      <th>228</th>\n",
       "      <td>GoDaddy Corporate Domains, LLC</td>\n",
       "      <td>NaN</td>\n",
       "      <td>False</td>\n",
       "      <td>False</td>\n",
       "      <td>Real</td>\n",
       "      <td>US</td>\n",
       "    </tr>\n",
       "    <tr>\n",
       "      <th>229</th>\n",
       "      <td>GoDaddy.com, LLC</td>\n",
       "      <td>85284</td>\n",
       "      <td>False</td>\n",
       "      <td>False</td>\n",
       "      <td>Real</td>\n",
       "      <td>US</td>\n",
       "    </tr>\n",
       "    <tr>\n",
       "      <th>230</th>\n",
       "      <td>GoDaddy.com, LLC</td>\n",
       "      <td>85284</td>\n",
       "      <td>False</td>\n",
       "      <td>False</td>\n",
       "      <td>Real</td>\n",
       "      <td>US</td>\n",
       "    </tr>\n",
       "    <tr>\n",
       "      <th>231</th>\n",
       "      <td>GoDaddy.com, LLC</td>\n",
       "      <td>85284</td>\n",
       "      <td>False</td>\n",
       "      <td>True</td>\n",
       "      <td>Real</td>\n",
       "      <td>US</td>\n",
       "    </tr>\n",
       "    <tr>\n",
       "      <th>232</th>\n",
       "      <td>Network Solutions, LLC</td>\n",
       "      <td>1103</td>\n",
       "      <td>False</td>\n",
       "      <td>False</td>\n",
       "      <td>Real</td>\n",
       "      <td>PH</td>\n",
       "    </tr>\n",
       "  </tbody>\n",
       "</table>\n",
       "<p>233 rows × 6 columns</p>\n",
       "</div>"
      ],
      "text/plain": [
       "                                      Domain registrar Postal code  \\\n",
       "0                                     GoDaddy.com, LLC       85284   \n",
       "1    Regional Network Information Center, JSC dba R...      119021   \n",
       "2                                        NAMECHEAP INC         101   \n",
       "3                                        NAMECHEAP INC         101   \n",
       "4                                   Register.com, Inc.       FALSE   \n",
       "..                                                 ...         ...   \n",
       "228                     GoDaddy Corporate Domains, LLC         NaN   \n",
       "229                                   GoDaddy.com, LLC       85284   \n",
       "230                                   GoDaddy.com, LLC       85284   \n",
       "231                                   GoDaddy.com, LLC       85284   \n",
       "232                             Network Solutions, LLC        1103   \n",
       "\n",
       "     Links to fake news site?  Wordpress? Site Rating Country of origin  \n",
       "0                       False        True        Fake                US  \n",
       "1                       False       False        Fake                RU  \n",
       "2                       False        True        Fake                IS  \n",
       "3                       False        True        Fake                IS  \n",
       "4                       False        True        Fake                US  \n",
       "..                        ...         ...         ...               ...  \n",
       "228                     False       False        Real                US  \n",
       "229                     False       False        Real                US  \n",
       "230                     False       False        Real                US  \n",
       "231                     False        True        Real                US  \n",
       "232                     False       False        Real                PH  \n",
       "\n",
       "[233 rows x 6 columns]"
      ]
     },
     "execution_count": 172,
     "metadata": {},
     "output_type": "execute_result"
    }
   ],
   "source": [
    "fn_df[['Domain registrar', 'Postal code', 'Links to fake news site?', 'Wordpress?', 'Site Rating', 'Country of origin']]"
   ]
  },
  {
   "cell_type": "code",
   "execution_count": 173,
   "metadata": {},
   "outputs": [
    {
     "data": {
      "text/html": [
       "<div>\n",
       "<style scoped>\n",
       "    .dataframe tbody tr th:only-of-type {\n",
       "        vertical-align: middle;\n",
       "    }\n",
       "\n",
       "    .dataframe tbody tr th {\n",
       "        vertical-align: top;\n",
       "    }\n",
       "\n",
       "    .dataframe thead th {\n",
       "        text-align: right;\n",
       "    }\n",
       "</style>\n",
       "<table border=\"1\" class=\"dataframe\">\n",
       "  <thead>\n",
       "    <tr style=\"text-align: right;\">\n",
       "      <th></th>\n",
       "      <th>Domain</th>\n",
       "      <th>Domain registrar</th>\n",
       "      <th>Postal code</th>\n",
       "      <th>Links to fake news site?</th>\n",
       "      <th>Wordpress?</th>\n",
       "      <th>Page rank integer</th>\n",
       "      <th>Page rank decimal</th>\n",
       "      <th>Site Rank</th>\n",
       "      <th>Country of origin</th>\n",
       "      <th>Malicious</th>\n",
       "      <th>Suspicious</th>\n",
       "      <th>No. of Local links</th>\n",
       "      <th>No. of Outbound links</th>\n",
       "      <th>Total links</th>\n",
       "      <th>Site Rating</th>\n",
       "    </tr>\n",
       "  </thead>\n",
       "  <tbody>\n",
       "    <tr>\n",
       "      <th>0</th>\n",
       "      <td>actionnews3.com</td>\n",
       "      <td>26</td>\n",
       "      <td>31</td>\n",
       "      <td>0</td>\n",
       "      <td>1</td>\n",
       "      <td>3</td>\n",
       "      <td>2.82</td>\n",
       "      <td>7390112.0</td>\n",
       "      <td>17</td>\n",
       "      <td>0</td>\n",
       "      <td>0</td>\n",
       "      <td>16</td>\n",
       "      <td>1</td>\n",
       "      <td>17</td>\n",
       "      <td>0</td>\n",
       "    </tr>\n",
       "    <tr>\n",
       "      <th>1</th>\n",
       "      <td>sputniknews.com</td>\n",
       "      <td>49</td>\n",
       "      <td>9</td>\n",
       "      <td>0</td>\n",
       "      <td>0</td>\n",
       "      <td>6</td>\n",
       "      <td>5.55</td>\n",
       "      <td>5072.0</td>\n",
       "      <td>16</td>\n",
       "      <td>0</td>\n",
       "      <td>0</td>\n",
       "      <td>68</td>\n",
       "      <td>10</td>\n",
       "      <td>78</td>\n",
       "      <td>0</td>\n",
       "    </tr>\n",
       "    <tr>\n",
       "      <th>2</th>\n",
       "      <td>stormcloudsgathering.com</td>\n",
       "      <td>36</td>\n",
       "      <td>5</td>\n",
       "      <td>0</td>\n",
       "      <td>1</td>\n",
       "      <td>4</td>\n",
       "      <td>3.53</td>\n",
       "      <td>2523407.0</td>\n",
       "      <td>10</td>\n",
       "      <td>0</td>\n",
       "      <td>0</td>\n",
       "      <td>11</td>\n",
       "      <td>17</td>\n",
       "      <td>28</td>\n",
       "      <td>0</td>\n",
       "    </tr>\n",
       "    <tr>\n",
       "      <th>3</th>\n",
       "      <td>tdtalliance.com</td>\n",
       "      <td>36</td>\n",
       "      <td>5</td>\n",
       "      <td>0</td>\n",
       "      <td>1</td>\n",
       "      <td>3</td>\n",
       "      <td>3.00</td>\n",
       "      <td>5585826.0</td>\n",
       "      <td>10</td>\n",
       "      <td>0</td>\n",
       "      <td>0</td>\n",
       "      <td>49</td>\n",
       "      <td>22</td>\n",
       "      <td>71</td>\n",
       "      <td>0</td>\n",
       "    </tr>\n",
       "    <tr>\n",
       "      <th>4</th>\n",
       "      <td>teaparty.org</td>\n",
       "      <td>50</td>\n",
       "      <td>38</td>\n",
       "      <td>0</td>\n",
       "      <td>1</td>\n",
       "      <td>5</td>\n",
       "      <td>4.61</td>\n",
       "      <td>56899.0</td>\n",
       "      <td>17</td>\n",
       "      <td>0</td>\n",
       "      <td>0</td>\n",
       "      <td>59</td>\n",
       "      <td>3</td>\n",
       "      <td>62</td>\n",
       "      <td>0</td>\n",
       "    </tr>\n",
       "    <tr>\n",
       "      <th>...</th>\n",
       "      <td>...</td>\n",
       "      <td>...</td>\n",
       "      <td>...</td>\n",
       "      <td>...</td>\n",
       "      <td>...</td>\n",
       "      <td>...</td>\n",
       "      <td>...</td>\n",
       "      <td>...</td>\n",
       "      <td>...</td>\n",
       "      <td>...</td>\n",
       "      <td>...</td>\n",
       "      <td>...</td>\n",
       "      <td>...</td>\n",
       "      <td>...</td>\n",
       "      <td>...</td>\n",
       "    </tr>\n",
       "    <tr>\n",
       "      <th>228</th>\n",
       "      <td>hutchnews.com</td>\n",
       "      <td>24</td>\n",
       "      <td>45</td>\n",
       "      <td>0</td>\n",
       "      <td>0</td>\n",
       "      <td>4</td>\n",
       "      <td>4.36</td>\n",
       "      <td>151426.0</td>\n",
       "      <td>17</td>\n",
       "      <td>0</td>\n",
       "      <td>0</td>\n",
       "      <td>25</td>\n",
       "      <td>15</td>\n",
       "      <td>40</td>\n",
       "      <td>1</td>\n",
       "    </tr>\n",
       "    <tr>\n",
       "      <th>229</th>\n",
       "      <td>theguardian.com</td>\n",
       "      <td>26</td>\n",
       "      <td>31</td>\n",
       "      <td>0</td>\n",
       "      <td>0</td>\n",
       "      <td>8</td>\n",
       "      <td>7.51</td>\n",
       "      <td>73.0</td>\n",
       "      <td>17</td>\n",
       "      <td>0</td>\n",
       "      <td>0</td>\n",
       "      <td>218</td>\n",
       "      <td>11</td>\n",
       "      <td>229</td>\n",
       "      <td>1</td>\n",
       "    </tr>\n",
       "    <tr>\n",
       "      <th>230</th>\n",
       "      <td>grandforksherald.com</td>\n",
       "      <td>26</td>\n",
       "      <td>31</td>\n",
       "      <td>0</td>\n",
       "      <td>0</td>\n",
       "      <td>5</td>\n",
       "      <td>4.70</td>\n",
       "      <td>41638.0</td>\n",
       "      <td>17</td>\n",
       "      <td>0</td>\n",
       "      <td>0</td>\n",
       "      <td>151</td>\n",
       "      <td>15</td>\n",
       "      <td>166</td>\n",
       "      <td>1</td>\n",
       "    </tr>\n",
       "    <tr>\n",
       "      <th>231</th>\n",
       "      <td>news-sentinel.com</td>\n",
       "      <td>26</td>\n",
       "      <td>31</td>\n",
       "      <td>0</td>\n",
       "      <td>1</td>\n",
       "      <td>4</td>\n",
       "      <td>4.31</td>\n",
       "      <td>195989.0</td>\n",
       "      <td>17</td>\n",
       "      <td>0</td>\n",
       "      <td>0</td>\n",
       "      <td>33</td>\n",
       "      <td>14</td>\n",
       "      <td>47</td>\n",
       "      <td>1</td>\n",
       "    </tr>\n",
       "    <tr>\n",
       "      <th>232</th>\n",
       "      <td>gmanetwork.com</td>\n",
       "      <td>43</td>\n",
       "      <td>7</td>\n",
       "      <td>0</td>\n",
       "      <td>0</td>\n",
       "      <td>5</td>\n",
       "      <td>5.30</td>\n",
       "      <td>7515.0</td>\n",
       "      <td>12</td>\n",
       "      <td>0</td>\n",
       "      <td>0</td>\n",
       "      <td>0</td>\n",
       "      <td>0</td>\n",
       "      <td>0</td>\n",
       "      <td>1</td>\n",
       "    </tr>\n",
       "  </tbody>\n",
       "</table>\n",
       "<p>233 rows × 15 columns</p>\n",
       "</div>"
      ],
      "text/plain": [
       "                       Domain  Domain registrar  Postal code  \\\n",
       "0             actionnews3.com                26           31   \n",
       "1             sputniknews.com                49            9   \n",
       "2    stormcloudsgathering.com                36            5   \n",
       "3             tdtalliance.com                36            5   \n",
       "4                teaparty.org                50           38   \n",
       "..                        ...               ...          ...   \n",
       "228             hutchnews.com                24           45   \n",
       "229           theguardian.com                26           31   \n",
       "230      grandforksherald.com                26           31   \n",
       "231         news-sentinel.com                26           31   \n",
       "232            gmanetwork.com                43            7   \n",
       "\n",
       "     Links to fake news site?  Wordpress?  Page rank integer  \\\n",
       "0                           0           1                  3   \n",
       "1                           0           0                  6   \n",
       "2                           0           1                  4   \n",
       "3                           0           1                  3   \n",
       "4                           0           1                  5   \n",
       "..                        ...         ...                ...   \n",
       "228                         0           0                  4   \n",
       "229                         0           0                  8   \n",
       "230                         0           0                  5   \n",
       "231                         0           1                  4   \n",
       "232                         0           0                  5   \n",
       "\n",
       "     Page rank decimal  Site Rank  Country of origin  Malicious  Suspicious  \\\n",
       "0                 2.82  7390112.0                 17          0           0   \n",
       "1                 5.55     5072.0                 16          0           0   \n",
       "2                 3.53  2523407.0                 10          0           0   \n",
       "3                 3.00  5585826.0                 10          0           0   \n",
       "4                 4.61    56899.0                 17          0           0   \n",
       "..                 ...        ...                ...        ...         ...   \n",
       "228               4.36   151426.0                 17          0           0   \n",
       "229               7.51       73.0                 17          0           0   \n",
       "230               4.70    41638.0                 17          0           0   \n",
       "231               4.31   195989.0                 17          0           0   \n",
       "232               5.30     7515.0                 12          0           0   \n",
       "\n",
       "     No. of Local links  No. of Outbound links  Total links  Site Rating  \n",
       "0                    16                      1           17            0  \n",
       "1                    68                     10           78            0  \n",
       "2                    11                     17           28            0  \n",
       "3                    49                     22           71            0  \n",
       "4                    59                      3           62            0  \n",
       "..                  ...                    ...          ...          ...  \n",
       "228                  25                     15           40            1  \n",
       "229                 218                     11          229            1  \n",
       "230                 151                     15          166            1  \n",
       "231                  33                     14           47            1  \n",
       "232                   0                      0            0            1  \n",
       "\n",
       "[233 rows x 15 columns]"
      ]
     },
     "execution_count": 173,
     "metadata": {},
     "output_type": "execute_result"
    }
   ],
   "source": [
    "from sklearn.preprocessing import LabelEncoder\n",
    "le = LabelEncoder()\n",
    "\n",
    "df = fn_df[['Domain registrar', 'Postal code', 'Links to fake news site?', 'Wordpress?', 'Site Rating', 'Country of origin']]\n",
    "\n",
    "df_encoded = df.apply(le.fit_transform)\n",
    "\n",
    "dropped_df = fn_df.drop(['Domain registrar', 'Postal code', 'Links to fake news site?', 'Wordpress?', 'Site Rating', 'Country of origin'], axis=1)\n",
    "main_df = pd.concat([df_encoded, dropped_df], axis=1, join='inner')\n",
    "main_df = main_df[['Domain', 'Domain registrar', 'Postal code', 'Links to fake news site?',\n",
    "       'Wordpress?', 'Page rank integer',\n",
    "       'Page rank decimal', 'Site Rank', 'Country of origin',\n",
    "       'Malicious', 'Suspicious',\n",
    "       'No. of Local links', 'No. of Outbound links', 'Total links', 'Site Rating']]\n",
    "main_df"
   ]
  },
  {
   "cell_type": "code",
   "execution_count": 191,
   "metadata": {},
   "outputs": [
    {
     "data": {
      "text/plain": [
       "1"
      ]
     },
     "execution_count": 191,
     "metadata": {},
     "output_type": "execute_result"
    }
   ],
   "source": [
    "main_df[(main_df['Malicious'] == 1) & (main_df['Site Rating'] == 1)].shape[0]\n"
   ]
  },
  {
   "cell_type": "code",
   "execution_count": 189,
   "metadata": {},
   "outputs": [
    {
     "data": {
      "text/plain": [
       "15"
      ]
     },
     "execution_count": 189,
     "metadata": {},
     "output_type": "execute_result"
    }
   ],
   "source": [
    "main_df[(main_df['Wordpress?'] == 1) & (main_df['Site Rating'] == 0)].shape[0]"
   ]
  },
  {
   "cell_type": "code",
   "execution_count": 176,
   "metadata": {},
   "outputs": [
    {
     "data": {
      "image/png": "[encoded data removed]",
      "text/plain": [
       "<Figure size 1080x1080 with 2 Axes>"
      ]
     },
     "metadata": {
      "needs_background": "light"
     },
     "output_type": "display_data"
    }
   ],
   "source": [
    "import seaborn as sns\n",
    "corrmat = main_df.corr()\n",
    "top_corr_features = corrmat.index\n",
    "plt.figure(figsize = (15,15))\n",
    "g = sns.heatmap(main_df[top_corr_features].corr(), annot=True , cmap = 'RdYlGn')"
   ]
  },
  {
   "cell_type": "code",
   "execution_count": 177,
   "metadata": {},
   "outputs": [
    {
     "data": {
      "text/plain": [
       "<AxesSubplot:title={'center':'Domain registrar'}, xlabel='Site Rating'>"
      ]
     },
     "execution_count": 177,
     "metadata": {},
     "output_type": "execute_result"
    },
    {
     "data": {
      "image/png": "[encoded data removed]",
      "text/plain": [
       "<Figure size 432x432 with 1 Axes>"
      ]
     },
     "metadata": {
      "needs_background": "light"
     },
     "output_type": "display_data"
    }
   ],
   "source": [
    "main_df.boxplot(column = 'Domain registrar', by = 'Site Rating', figsize = (6, 6))"
   ]
  },
  {
   "cell_type": "code",
   "execution_count": 178,
   "metadata": {},
   "outputs": [
    {
     "data": {
      "text/plain": [
       "<AxesSubplot:title={'center':'Postal code'}, xlabel='Site Rating'>"
      ]
     },
     "execution_count": 178,
     "metadata": {},
     "output_type": "execute_result"
    },
    {
     "data": {
      "image/png": "[encoded data removed]",
      "text/plain": [
       "<Figure size 432x432 with 1 Axes>"
      ]
     },
     "metadata": {
      "needs_background": "light"
     },
     "output_type": "display_data"
    }
   ],
   "source": [
    "main_df.boxplot(column = 'Postal code', by = 'Site Rating', figsize = (6, 6))"
   ]
  },
  {
   "cell_type": "code",
   "execution_count": 179,
   "metadata": {},
   "outputs": [
    {
     "data": {
      "text/plain": [
       "<AxesSubplot:title={'center':'No. of Local links'}, xlabel='Site Rating'>"
      ]
     },
     "execution_count": 179,
     "metadata": {},
     "output_type": "execute_result"
    },
    {
     "data": {
      "image/png": "[encoded data removed]",
      "text/plain": [
       "<Figure size 432x432 with 1 Axes>"
      ]
     },
     "metadata": {
      "needs_background": "light"
     },
     "output_type": "display_data"
    }
   ],
   "source": [
    "main_df.boxplot(column = 'No. of Local links', by = 'Site Rating', figsize = (6, 6))"
   ]
  },
  {
   "cell_type": "code",
   "execution_count": 180,
   "metadata": {},
   "outputs": [
    {
     "data": {
      "text/plain": [
       "<AxesSubplot:title={'center':'No. of Outbound links'}, xlabel='Site Rating'>"
      ]
     },
     "execution_count": 180,
     "metadata": {},
     "output_type": "execute_result"
    },
    {
     "data": {
      "image/png": "[encoded data removed]",
      "text/plain": [
       "<Figure size 432x432 with 1 Axes>"
      ]
     },
     "metadata": {
      "needs_background": "light"
     },
     "output_type": "display_data"
    }
   ],
   "source": [
    "main_df.boxplot(column = 'No. of Outbound links', by = 'Site Rating', figsize = (6, 6))"
   ]
  },
  {
   "cell_type": "code",
   "execution_count": 181,
   "metadata": {},
   "outputs": [
    {
     "data": {
      "text/plain": [
       "<AxesSubplot:title={'center':'Total links'}, xlabel='Site Rating'>"
      ]
     },
     "execution_count": 181,
     "metadata": {},
     "output_type": "execute_result"
    },
    {
     "data": {
      "image/png": "[encoded data removed]",
      "text/plain": [
       "<Figure size 432x432 with 1 Axes>"
      ]
     },
     "metadata": {
      "needs_background": "light"
     },
     "output_type": "display_data"
    }
   ],
   "source": [
    "main_df.boxplot(column = 'Total links', by = 'Site Rating', figsize = (6, 6))"
   ]
  },
  {
   "cell_type": "code",
   "execution_count": 182,
   "metadata": {},
   "outputs": [
    {
     "data": {
      "text/plain": [
       "<AxesSubplot:title={'center':'Page rank decimal'}, xlabel='Site Rating'>"
      ]
     },
     "execution_count": 182,
     "metadata": {},
     "output_type": "execute_result"
    },
    {
     "data": {
      "image/png": "[encoded data removed]",
      "text/plain": [
       "<Figure size 432x432 with 1 Axes>"
      ]
     },
     "metadata": {
      "needs_background": "light"
     },
     "output_type": "display_data"
    }
   ],
   "source": [
    "main_df.boxplot(column = 'Page rank decimal', by = 'Site Rating', figsize = (6, 6))"
   ]
  },
  {
   "cell_type": "code",
   "execution_count": 183,
   "metadata": {},
   "outputs": [
    {
     "data": {
      "text/plain": [
       "<AxesSubplot:title={'center':'Site Rank'}, xlabel='Site Rating'>"
      ]
     },
     "execution_count": 183,
     "metadata": {},
     "output_type": "execute_result"
    },
    {
     "data": {
      "image/png": "[encoded data removed]",
      "text/plain": [
       "<Figure size 432x432 with 1 Axes>"
      ]
     },
     "metadata": {
      "needs_background": "light"
     },
     "output_type": "display_data"
    }
   ],
   "source": [
    "main_df.boxplot(column = 'Site Rank', by = 'Site Rating', figsize = (6, 6))"
   ]
  },
  {
   "cell_type": "code",
   "execution_count": 194,
   "metadata": {},
   "outputs": [
    {
     "data": {
      "image/png": "[encoded data removed]",
      "text/plain": [
       "<Figure size 576x576 with 2 Axes>"
      ]
     },
     "metadata": {
      "needs_background": "light"
     },
     "output_type": "display_data"
    }
   ],
   "source": [
    "plt.figure(figsize = (8,8))\n",
    "sns.heatmap(main_df[['Site Rating', 'Wordpress?']])\n",
    "plt.show()"
   ]
  },
  {
   "cell_type": "code",
   "execution_count": 195,
   "metadata": {},
   "outputs": [
    {
     "data": {
      "image/png": "[encoded data removed]",
      "text/plain": [
       "<Figure size 576x576 with 2 Axes>"
      ]
     },
     "metadata": {
      "needs_background": "light"
     },
     "output_type": "display_data"
    }
   ],
   "source": [
    "plt.figure(figsize = (8,8))\n",
    "sns.heatmap(main_df[['Site Rating', 'Malicious']])\n",
    "plt.show()"
   ]
  },
  {
   "cell_type": "code",
   "execution_count": 186,
   "metadata": {},
   "outputs": [],
   "source": [
    "X = main_df[['Postal code', 'Links to fake news site?',\n",
    "       'Wordpress?', \n",
    "       'Page rank decimal', 'Site Rank', 'Country of origin',\n",
    "       'Malicious', \n",
    "       'No. of Local links', 'Total links']]\n",
    "\n",
    "y = main_df['Site Rating'].values"
   ]
  },
  {
   "cell_type": "code",
   "execution_count": 187,
   "metadata": {},
   "outputs": [
    {
     "data": {
      "text/html": [
       "<div>\n",
       "<style scoped>\n",
       "    .dataframe tbody tr th:only-of-type {\n",
       "        vertical-align: middle;\n",
       "    }\n",
       "\n",
       "    .dataframe tbody tr th {\n",
       "        vertical-align: top;\n",
       "    }\n",
       "\n",
       "    .dataframe thead th {\n",
       "        text-align: right;\n",
       "    }\n",
       "</style>\n",
       "<table border=\"1\" class=\"dataframe\">\n",
       "  <thead>\n",
       "    <tr style=\"text-align: right;\">\n",
       "      <th></th>\n",
       "      <th>Postal code</th>\n",
       "      <th>Links to fake news site?</th>\n",
       "      <th>Wordpress?</th>\n",
       "      <th>Page rank decimal</th>\n",
       "      <th>Site Rank</th>\n",
       "      <th>Country of origin</th>\n",
       "      <th>Malicious</th>\n",
       "      <th>No. of Local links</th>\n",
       "      <th>Total links</th>\n",
       "    </tr>\n",
       "  </thead>\n",
       "  <tbody>\n",
       "    <tr>\n",
       "      <th>0</th>\n",
       "      <td>31</td>\n",
       "      <td>0</td>\n",
       "      <td>1</td>\n",
       "      <td>2.82</td>\n",
       "      <td>7390112.0</td>\n",
       "      <td>17</td>\n",
       "      <td>0</td>\n",
       "      <td>16</td>\n",
       "      <td>17</td>\n",
       "    </tr>\n",
       "    <tr>\n",
       "      <th>1</th>\n",
       "      <td>9</td>\n",
       "      <td>0</td>\n",
       "      <td>0</td>\n",
       "      <td>5.55</td>\n",
       "      <td>5072.0</td>\n",
       "      <td>16</td>\n",
       "      <td>0</td>\n",
       "      <td>68</td>\n",
       "      <td>78</td>\n",
       "    </tr>\n",
       "    <tr>\n",
       "      <th>2</th>\n",
       "      <td>5</td>\n",
       "      <td>0</td>\n",
       "      <td>1</td>\n",
       "      <td>3.53</td>\n",
       "      <td>2523407.0</td>\n",
       "      <td>10</td>\n",
       "      <td>0</td>\n",
       "      <td>11</td>\n",
       "      <td>28</td>\n",
       "    </tr>\n",
       "    <tr>\n",
       "      <th>3</th>\n",
       "      <td>5</td>\n",
       "      <td>0</td>\n",
       "      <td>1</td>\n",
       "      <td>3.00</td>\n",
       "      <td>5585826.0</td>\n",
       "      <td>10</td>\n",
       "      <td>0</td>\n",
       "      <td>49</td>\n",
       "      <td>71</td>\n",
       "    </tr>\n",
       "    <tr>\n",
       "      <th>4</th>\n",
       "      <td>38</td>\n",
       "      <td>0</td>\n",
       "      <td>1</td>\n",
       "      <td>4.61</td>\n",
       "      <td>56899.0</td>\n",
       "      <td>17</td>\n",
       "      <td>0</td>\n",
       "      <td>59</td>\n",
       "      <td>62</td>\n",
       "    </tr>\n",
       "    <tr>\n",
       "      <th>...</th>\n",
       "      <td>...</td>\n",
       "      <td>...</td>\n",
       "      <td>...</td>\n",
       "      <td>...</td>\n",
       "      <td>...</td>\n",
       "      <td>...</td>\n",
       "      <td>...</td>\n",
       "      <td>...</td>\n",
       "      <td>...</td>\n",
       "    </tr>\n",
       "    <tr>\n",
       "      <th>228</th>\n",
       "      <td>45</td>\n",
       "      <td>0</td>\n",
       "      <td>0</td>\n",
       "      <td>4.36</td>\n",
       "      <td>151426.0</td>\n",
       "      <td>17</td>\n",
       "      <td>0</td>\n",
       "      <td>25</td>\n",
       "      <td>40</td>\n",
       "    </tr>\n",
       "    <tr>\n",
       "      <th>229</th>\n",
       "      <td>31</td>\n",
       "      <td>0</td>\n",
       "      <td>0</td>\n",
       "      <td>7.51</td>\n",
       "      <td>73.0</td>\n",
       "      <td>17</td>\n",
       "      <td>0</td>\n",
       "      <td>218</td>\n",
       "      <td>229</td>\n",
       "    </tr>\n",
       "    <tr>\n",
       "      <th>230</th>\n",
       "      <td>31</td>\n",
       "      <td>0</td>\n",
       "      <td>0</td>\n",
       "      <td>4.70</td>\n",
       "      <td>41638.0</td>\n",
       "      <td>17</td>\n",
       "      <td>0</td>\n",
       "      <td>151</td>\n",
       "      <td>166</td>\n",
       "    </tr>\n",
       "    <tr>\n",
       "      <th>231</th>\n",
       "      <td>31</td>\n",
       "      <td>0</td>\n",
       "      <td>1</td>\n",
       "      <td>4.31</td>\n",
       "      <td>195989.0</td>\n",
       "      <td>17</td>\n",
       "      <td>0</td>\n",
       "      <td>33</td>\n",
       "      <td>47</td>\n",
       "    </tr>\n",
       "    <tr>\n",
       "      <th>232</th>\n",
       "      <td>7</td>\n",
       "      <td>0</td>\n",
       "      <td>0</td>\n",
       "      <td>5.30</td>\n",
       "      <td>7515.0</td>\n",
       "      <td>12</td>\n",
       "      <td>0</td>\n",
       "      <td>0</td>\n",
       "      <td>0</td>\n",
       "    </tr>\n",
       "  </tbody>\n",
       "</table>\n",
       "<p>233 rows × 9 columns</p>\n",
       "</div>"
      ],
      "text/plain": [
       "     Postal code  Links to fake news site?  Wordpress?  Page rank decimal  \\\n",
       "0             31                         0           1               2.82   \n",
       "1              9                         0           0               5.55   \n",
       "2              5                         0           1               3.53   \n",
       "3              5                         0           1               3.00   \n",
       "4             38                         0           1               4.61   \n",
       "..           ...                       ...         ...                ...   \n",
       "228           45                         0           0               4.36   \n",
       "229           31                         0           0               7.51   \n",
       "230           31                         0           0               4.70   \n",
       "231           31                         0           1               4.31   \n",
       "232            7                         0           0               5.30   \n",
       "\n",
       "     Site Rank  Country of origin  Malicious  No. of Local links  Total links  \n",
       "0    7390112.0                 17          0                  16           17  \n",
       "1       5072.0                 16          0                  68           78  \n",
       "2    2523407.0                 10          0                  11           28  \n",
       "3    5585826.0                 10          0                  49           71  \n",
       "4      56899.0                 17          0                  59           62  \n",
       "..         ...                ...        ...                 ...          ...  \n",
       "228   151426.0                 17          0                  25           40  \n",
       "229       73.0                 17          0                 218          229  \n",
       "230    41638.0                 17          0                 151          166  \n",
       "231   195989.0                 17          0                  33           47  \n",
       "232     7515.0                 12          0                   0            0  \n",
       "\n",
       "[233 rows x 9 columns]"
      ]
     },
     "execution_count": 187,
     "metadata": {},
     "output_type": "execute_result"
    }
   ],
   "source": [
    "X"
   ]
  },
  {
   "cell_type": "code",
   "execution_count": 188,
   "metadata": {},
   "outputs": [
    {
     "data": {
      "text/plain": [
       "array([0, 0, 0, 0, 0, 0, 0, 0, 0, 0, 0, 0, 0, 0, 0, 0, 0, 0, 0, 0, 0, 0,\n",
       "       0, 0, 0, 0, 0, 0, 0, 0, 0, 0, 0, 0, 0, 0, 0, 0, 0, 0, 0, 0, 0, 0,\n",
       "       0, 0, 0, 0, 0, 0, 0, 0, 0, 0, 0, 0, 0, 0, 0, 0, 0, 0, 0, 0, 0, 0,\n",
       "       0, 0, 0, 0, 0, 0, 0, 0, 0, 0, 0, 0, 0, 0, 0, 0, 0, 0, 0, 0, 0, 0,\n",
       "       0, 0, 0, 0, 0, 0, 0, 0, 0, 0, 0, 0, 0, 0, 0, 0, 0, 0, 0, 0, 0, 0,\n",
       "       0, 0, 0, 0, 0, 0, 0, 0, 0, 0, 0, 0, 0, 0, 0, 0, 0, 0, 0, 0, 0, 0,\n",
       "       0, 0, 0, 0, 0, 0, 0, 0, 0, 0, 0, 0, 0, 0, 0, 0, 0, 1, 1, 1, 1, 1,\n",
       "       1, 1, 1, 1, 1, 1, 1, 1, 1, 1, 1, 1, 1, 1, 1, 1, 1, 1, 1, 1, 1, 1,\n",
       "       1, 1, 1, 1, 1, 1, 1, 1, 1, 1, 1, 1, 1, 1, 1, 1, 1, 1, 1, 1, 1, 1,\n",
       "       1, 1, 1, 1, 1, 1, 1, 1, 1, 1, 1, 1, 1, 1, 1, 1, 1, 1, 1, 1, 1, 1,\n",
       "       1, 1, 1, 1, 1, 1, 1, 1, 1, 1, 1, 1, 1])"
      ]
     },
     "execution_count": 188,
     "metadata": {},
     "output_type": "execute_result"
    }
   ],
   "source": [
    "y"
   ]
  },
  {
   "cell_type": "code",
   "execution_count": null,
   "metadata": {},
   "outputs": [],
   "source": []
  }
 ],
 "metadata": {
  "kernelspec": {
   "display_name": "Python 3.8.8 ('base')",
   "language": "python",
   "name": "python3"
  },
  "language_info": {
   "codemirror_mode": {
    "name": "ipython",
    "version": 3
   },
   "file_extension": ".py",
   "mimetype": "text/x-python",
   "name": "python",
   "nbconvert_exporter": "python",
   "pygments_lexer": "ipython3",
   "version": "3.8.8 (default, Apr 13 2021, 15:08:03) [MSC v.1916 64 bit (AMD64)]"
  },
  "orig_nbformat": 4,
  "vscode": {
   "interpreter": {
    "hash": "9a51e5855e04901d00966621b96dcfa06fb6a1bfd2a37e82f444787cca980996"
   }
  }
 },
 "nbformat": 4,
 "nbformat_minor": 2
}
